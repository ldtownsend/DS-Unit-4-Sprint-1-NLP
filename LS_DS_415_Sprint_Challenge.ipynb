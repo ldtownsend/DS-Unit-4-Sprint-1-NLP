{
 "cells": [
  {
   "cell_type": "markdown",
   "metadata": {},
   "source": [
    "<img align=\"left\" src=\"https://lever-client-logos.s3.amazonaws.com/864372b1-534c-480e-acd5-9711f850815c-1524247202159.png\" width=200>\n",
    "<br></br>\n",
    "<br></br>\n",
    "\n",
    "# Sprint Challenge\n",
    "## *Data Science Unit 4 Sprint 1*\n",
    "\n",
    "After a week of Natural Language Processing, you've learned some cool new stuff: how to process text, how turn text into vectors, and how to model topics from documents. Apply your newly acquired skills to one of the most famous NLP datasets out there: [Yelp](https://www.yelp.com/dataset/challenge). As part of the job selection process, some of my friends have been asked to create analysis of this dataset, so I want to empower you to have a head start.  \n",
    "\n",
    "The real dataset is massive (almost 8 gigs uncompressed). I've sampled the data for you to something more managable for the Sprint Challenge. You can analyze the full dataset as a stretch goal or after the sprint challenge. As you work on the challenge, I suggest adding notes about your findings and things you want to analyze in the future.\n",
    "\n",
    "## Challenge Objectives\n",
    "*Successfully complete these all these objectives to earn a 2. There are more details on each objective further down in the notebook.*\n",
    "* <a href=\"#p1\">Part 1</a>: Write a function to tokenize the yelp reviews\n",
    "* <a href=\"#p2\">Part 2</a>: Create a vector representation of those tokens\n",
    "* <a href=\"#p3\">Part 3</a>: Use your tokens in a classification model on yelp rating\n",
    "* <a href=\"#p4\">Part 4</a>: Estimate & Interpret a topic model of the Yelp reviews"
   ]
  },
  {
   "cell_type": "code",
   "execution_count": 1,
   "metadata": {},
   "outputs": [],
   "source": [
    "import pandas as pd\n",
    "\n",
    "yelp = pd.read_json('./data/review_sample.json', lines=True)"
   ]
  },
  {
   "cell_type": "code",
   "execution_count": 2,
   "metadata": {},
   "outputs": [
    {
     "data": {
      "text/html": [
       "<div>\n",
       "<style scoped>\n",
       "    .dataframe tbody tr th:only-of-type {\n",
       "        vertical-align: middle;\n",
       "    }\n",
       "\n",
       "    .dataframe tbody tr th {\n",
       "        vertical-align: top;\n",
       "    }\n",
       "\n",
       "    .dataframe thead th {\n",
       "        text-align: right;\n",
       "    }\n",
       "</style>\n",
       "<table border=\"1\" class=\"dataframe\">\n",
       "  <thead>\n",
       "    <tr style=\"text-align: right;\">\n",
       "      <th></th>\n",
       "      <th>business_id</th>\n",
       "      <th>cool</th>\n",
       "      <th>date</th>\n",
       "      <th>funny</th>\n",
       "      <th>review_id</th>\n",
       "      <th>stars</th>\n",
       "      <th>text</th>\n",
       "      <th>useful</th>\n",
       "      <th>user_id</th>\n",
       "    </tr>\n",
       "  </thead>\n",
       "  <tbody>\n",
       "    <tr>\n",
       "      <th>0</th>\n",
       "      <td>nDuEqIyRc8YKS1q1fX0CZg</td>\n",
       "      <td>1</td>\n",
       "      <td>2015-03-31 16:50:30</td>\n",
       "      <td>0</td>\n",
       "      <td>eZs2tpEJtXPwawvHnHZIgQ</td>\n",
       "      <td>1</td>\n",
       "      <td>BEWARE!!! FAKE, FAKE, FAKE....We also own a sm...</td>\n",
       "      <td>10</td>\n",
       "      <td>n1LM36qNg4rqGXIcvVXv8w</td>\n",
       "    </tr>\n",
       "    <tr>\n",
       "      <th>1</th>\n",
       "      <td>eMYeEapscbKNqUDCx705hg</td>\n",
       "      <td>0</td>\n",
       "      <td>2015-12-16 05:31:03</td>\n",
       "      <td>0</td>\n",
       "      <td>DoQDWJsNbU0KL1O29l_Xug</td>\n",
       "      <td>4</td>\n",
       "      <td>Came here for lunch Togo. Service was quick. S...</td>\n",
       "      <td>0</td>\n",
       "      <td>5CgjjDAic2-FAvCtiHpytA</td>\n",
       "    </tr>\n",
       "    <tr>\n",
       "      <th>2</th>\n",
       "      <td>6Q7-wkCPc1KF75jZLOTcMw</td>\n",
       "      <td>1</td>\n",
       "      <td>2010-06-20 19:14:48</td>\n",
       "      <td>1</td>\n",
       "      <td>DDOdGU7zh56yQHmUnL1idQ</td>\n",
       "      <td>3</td>\n",
       "      <td>I've been to Vegas dozens of times and had nev...</td>\n",
       "      <td>2</td>\n",
       "      <td>BdV-cf3LScmb8kZ7iiBcMA</td>\n",
       "    </tr>\n",
       "    <tr>\n",
       "      <th>3</th>\n",
       "      <td>k3zrItO4l9hwfLRwHBDc9w</td>\n",
       "      <td>3</td>\n",
       "      <td>2010-07-13 00:33:45</td>\n",
       "      <td>4</td>\n",
       "      <td>LfTMUWnfGFMOfOIyJcwLVA</td>\n",
       "      <td>1</td>\n",
       "      <td>We went here on a night where they closed off ...</td>\n",
       "      <td>5</td>\n",
       "      <td>cZZnBqh4gAEy4CdNvJailQ</td>\n",
       "    </tr>\n",
       "    <tr>\n",
       "      <th>4</th>\n",
       "      <td>6hpfRwGlOzbNv7k5eP9rsQ</td>\n",
       "      <td>1</td>\n",
       "      <td>2018-06-30 02:30:01</td>\n",
       "      <td>0</td>\n",
       "      <td>zJSUdI7bJ8PNJAg4lnl_Gg</td>\n",
       "      <td>4</td>\n",
       "      <td>3.5 to 4 stars\\n\\nNot bad for the price, $12.9...</td>\n",
       "      <td>5</td>\n",
       "      <td>n9QO4ClYAS7h9fpQwa5bhA</td>\n",
       "    </tr>\n",
       "  </tbody>\n",
       "</table>\n",
       "</div>"
      ],
      "text/plain": [
       "              business_id  cool                date  funny  \\\n",
       "0  nDuEqIyRc8YKS1q1fX0CZg     1 2015-03-31 16:50:30      0   \n",
       "1  eMYeEapscbKNqUDCx705hg     0 2015-12-16 05:31:03      0   \n",
       "2  6Q7-wkCPc1KF75jZLOTcMw     1 2010-06-20 19:14:48      1   \n",
       "3  k3zrItO4l9hwfLRwHBDc9w     3 2010-07-13 00:33:45      4   \n",
       "4  6hpfRwGlOzbNv7k5eP9rsQ     1 2018-06-30 02:30:01      0   \n",
       "\n",
       "                review_id  stars  \\\n",
       "0  eZs2tpEJtXPwawvHnHZIgQ      1   \n",
       "1  DoQDWJsNbU0KL1O29l_Xug      4   \n",
       "2  DDOdGU7zh56yQHmUnL1idQ      3   \n",
       "3  LfTMUWnfGFMOfOIyJcwLVA      1   \n",
       "4  zJSUdI7bJ8PNJAg4lnl_Gg      4   \n",
       "\n",
       "                                                text  useful  \\\n",
       "0  BEWARE!!! FAKE, FAKE, FAKE....We also own a sm...      10   \n",
       "1  Came here for lunch Togo. Service was quick. S...       0   \n",
       "2  I've been to Vegas dozens of times and had nev...       2   \n",
       "3  We went here on a night where they closed off ...       5   \n",
       "4  3.5 to 4 stars\\n\\nNot bad for the price, $12.9...       5   \n",
       "\n",
       "                  user_id  \n",
       "0  n1LM36qNg4rqGXIcvVXv8w  \n",
       "1  5CgjjDAic2-FAvCtiHpytA  \n",
       "2  BdV-cf3LScmb8kZ7iiBcMA  \n",
       "3  cZZnBqh4gAEy4CdNvJailQ  \n",
       "4  n9QO4ClYAS7h9fpQwa5bhA  "
      ]
     },
     "execution_count": 2,
     "metadata": {},
     "output_type": "execute_result"
    }
   ],
   "source": [
    "yelp.head()"
   ]
  },
  {
   "cell_type": "markdown",
   "metadata": {},
   "source": [
    "## Part 1: Tokenize Function\n",
    "<a id=\"#p1\"></a>\n",
    "\n",
    "Complete the function `tokenize`. Your function should\n",
    "- accept one document at a time\n",
    "- return a list of tokens\n",
    "\n",
    "You are free to use any method you have learned this week."
   ]
  },
  {
   "cell_type": "code",
   "execution_count": 15,
   "metadata": {},
   "outputs": [],
   "source": [
    "import re\n",
    "import spacy\n",
    "\n",
    "nlp = spacy.load(\"en_core_web_lg\")\n",
    "spacy_stopwords = spacy.lang.en.stop_words.STOP_WORDS\n",
    "\n",
    "def tokenize(x):\n",
    "    text = x.lower()\n",
    "    text = re.sub(r'[^a-zA-Z ^0-9]', '', str(text))\n",
    "    return text.split()\n",
    "\n",
    "def spacy_lemmatize(x):\n",
    "    doc = nlp.tokenizer(x)\n",
    "    return [token.lemma_ for token in doc]\n",
    "\n",
    "\n",
    "def remove_stopwords(tokens):\n",
    "    cleaned_tokens = []\n",
    "    for token in tokens:\n",
    "        if token not in spacy_stopwords:\n",
    "            cleaned_tokens.append(token)\n",
    "    return ' '.join(cleaned_tokens)\n",
    "\n",
    "\n",
    "yelp['tokens'] = yelp['text'].apply(lambda x: tokenize(x))\n",
    "yelp['tokens'] = yelp['tokens'].apply(lambda x: spacy_lemmatize(' '.join(x)))\n",
    "yelp['tokens'] = yelp['tokens'].apply(lambda x: remove_stopwords(x))"
   ]
  },
  {
   "cell_type": "code",
   "execution_count": 16,
   "metadata": {},
   "outputs": [
    {
     "data": {
      "text/plain": [
       "0    beware fake fake fakewe small business los ala...\n",
       "1    come lunch togo service quick staff friendly c...\n",
       "2    -PRON- vega dozen time step foot circus circus...\n",
       "3    night close street party actually group guy pa...\n",
       "4    35 4 starsnot bad price 1299 lunch senior 15 p...\n",
       "Name: tokens, dtype: object"
      ]
     },
     "execution_count": 16,
     "metadata": {},
     "output_type": "execute_result"
    }
   ],
   "source": [
    "yelp['tokens'].head()"
   ]
  },
  {
   "cell_type": "code",
   "execution_count": 67,
   "metadata": {},
   "outputs": [
    {
     "data": {
      "text/plain": [
       "(10000, 10)"
      ]
     },
     "execution_count": 67,
     "metadata": {},
     "output_type": "execute_result"
    }
   ],
   "source": [
    "yelp.shape"
   ]
  },
  {
   "cell_type": "markdown",
   "metadata": {},
   "source": [
    "## Part 2: Vector Representation\n",
    "<a id=\"#p2\"></a>\n",
    "1. Create a vector representation of the reviews\n",
    "2. Write a fake review and query for the 10 most similiar reviews, print the text of the reviews. Do you notice any patterns?\n",
    "    - Given the size of the dataset, it will probably be best to use a `NearestNeighbors` model for this. "
   ]
  },
  {
   "cell_type": "code",
   "execution_count": 97,
   "metadata": {},
   "outputs": [
    {
     "data": {
      "text/html": [
       "<div>\n",
       "<style scoped>\n",
       "    .dataframe tbody tr th:only-of-type {\n",
       "        vertical-align: middle;\n",
       "    }\n",
       "\n",
       "    .dataframe tbody tr th {\n",
       "        vertical-align: top;\n",
       "    }\n",
       "\n",
       "    .dataframe thead th {\n",
       "        text-align: right;\n",
       "    }\n",
       "</style>\n",
       "<table border=\"1\" class=\"dataframe\">\n",
       "  <thead>\n",
       "    <tr style=\"text-align: right;\">\n",
       "      <th></th>\n",
       "      <th>10</th>\n",
       "      <th>100</th>\n",
       "      <th>1000</th>\n",
       "      <th>101</th>\n",
       "      <th>1010</th>\n",
       "      <th>1015</th>\n",
       "      <th>1030</th>\n",
       "      <th>11</th>\n",
       "      <th>110</th>\n",
       "      <th>1100</th>\n",
       "      <th>...</th>\n",
       "      <th>yuk</th>\n",
       "      <th>yum</th>\n",
       "      <th>yummy</th>\n",
       "      <th>yup</th>\n",
       "      <th>zen</th>\n",
       "      <th>zero</th>\n",
       "      <th>zombie</th>\n",
       "      <th>zone</th>\n",
       "      <th>zoo</th>\n",
       "      <th>zucchini</th>\n",
       "    </tr>\n",
       "  </thead>\n",
       "  <tbody>\n",
       "    <tr>\n",
       "      <th>0</th>\n",
       "      <td>0.0</td>\n",
       "      <td>0.0</td>\n",
       "      <td>0.0</td>\n",
       "      <td>0.0</td>\n",
       "      <td>0.0</td>\n",
       "      <td>0.0</td>\n",
       "      <td>0.0</td>\n",
       "      <td>0.0</td>\n",
       "      <td>0.0</td>\n",
       "      <td>0.0</td>\n",
       "      <td>...</td>\n",
       "      <td>0.0</td>\n",
       "      <td>0.0</td>\n",
       "      <td>0.0</td>\n",
       "      <td>0.0</td>\n",
       "      <td>0.0</td>\n",
       "      <td>0.0</td>\n",
       "      <td>0.0</td>\n",
       "      <td>0.0</td>\n",
       "      <td>0.0</td>\n",
       "      <td>0.0</td>\n",
       "    </tr>\n",
       "    <tr>\n",
       "      <th>1</th>\n",
       "      <td>0.0</td>\n",
       "      <td>0.0</td>\n",
       "      <td>0.0</td>\n",
       "      <td>0.0</td>\n",
       "      <td>0.0</td>\n",
       "      <td>0.0</td>\n",
       "      <td>0.0</td>\n",
       "      <td>0.0</td>\n",
       "      <td>0.0</td>\n",
       "      <td>0.0</td>\n",
       "      <td>...</td>\n",
       "      <td>0.0</td>\n",
       "      <td>0.0</td>\n",
       "      <td>0.0</td>\n",
       "      <td>0.0</td>\n",
       "      <td>0.0</td>\n",
       "      <td>0.0</td>\n",
       "      <td>0.0</td>\n",
       "      <td>0.0</td>\n",
       "      <td>0.0</td>\n",
       "      <td>0.0</td>\n",
       "    </tr>\n",
       "    <tr>\n",
       "      <th>2</th>\n",
       "      <td>0.0</td>\n",
       "      <td>0.0</td>\n",
       "      <td>0.0</td>\n",
       "      <td>0.0</td>\n",
       "      <td>0.0</td>\n",
       "      <td>0.0</td>\n",
       "      <td>0.0</td>\n",
       "      <td>0.0</td>\n",
       "      <td>0.0</td>\n",
       "      <td>0.0</td>\n",
       "      <td>...</td>\n",
       "      <td>0.0</td>\n",
       "      <td>0.0</td>\n",
       "      <td>0.0</td>\n",
       "      <td>0.0</td>\n",
       "      <td>0.0</td>\n",
       "      <td>0.0</td>\n",
       "      <td>0.0</td>\n",
       "      <td>0.0</td>\n",
       "      <td>0.0</td>\n",
       "      <td>0.0</td>\n",
       "    </tr>\n",
       "    <tr>\n",
       "      <th>3</th>\n",
       "      <td>0.0</td>\n",
       "      <td>0.0</td>\n",
       "      <td>0.0</td>\n",
       "      <td>0.0</td>\n",
       "      <td>0.0</td>\n",
       "      <td>0.0</td>\n",
       "      <td>0.0</td>\n",
       "      <td>0.0</td>\n",
       "      <td>0.0</td>\n",
       "      <td>0.0</td>\n",
       "      <td>...</td>\n",
       "      <td>0.0</td>\n",
       "      <td>0.0</td>\n",
       "      <td>0.0</td>\n",
       "      <td>0.0</td>\n",
       "      <td>0.0</td>\n",
       "      <td>0.0</td>\n",
       "      <td>0.0</td>\n",
       "      <td>0.0</td>\n",
       "      <td>0.0</td>\n",
       "      <td>0.0</td>\n",
       "    </tr>\n",
       "    <tr>\n",
       "      <th>4</th>\n",
       "      <td>0.0</td>\n",
       "      <td>0.0</td>\n",
       "      <td>0.0</td>\n",
       "      <td>0.0</td>\n",
       "      <td>0.0</td>\n",
       "      <td>0.0</td>\n",
       "      <td>0.0</td>\n",
       "      <td>0.0</td>\n",
       "      <td>0.0</td>\n",
       "      <td>0.0</td>\n",
       "      <td>...</td>\n",
       "      <td>0.0</td>\n",
       "      <td>0.0</td>\n",
       "      <td>0.0</td>\n",
       "      <td>0.0</td>\n",
       "      <td>0.0</td>\n",
       "      <td>0.0</td>\n",
       "      <td>0.0</td>\n",
       "      <td>0.0</td>\n",
       "      <td>0.0</td>\n",
       "      <td>0.0</td>\n",
       "    </tr>\n",
       "  </tbody>\n",
       "</table>\n",
       "<p>5 rows × 5000 columns</p>\n",
       "</div>"
      ],
      "text/plain": [
       "    10  100  1000  101  1010  1015  1030   11  110  1100  ...  yuk  yum  \\\n",
       "0  0.0  0.0   0.0  0.0   0.0   0.0   0.0  0.0  0.0   0.0  ...  0.0  0.0   \n",
       "1  0.0  0.0   0.0  0.0   0.0   0.0   0.0  0.0  0.0   0.0  ...  0.0  0.0   \n",
       "2  0.0  0.0   0.0  0.0   0.0   0.0   0.0  0.0  0.0   0.0  ...  0.0  0.0   \n",
       "3  0.0  0.0   0.0  0.0   0.0   0.0   0.0  0.0  0.0   0.0  ...  0.0  0.0   \n",
       "4  0.0  0.0   0.0  0.0   0.0   0.0   0.0  0.0  0.0   0.0  ...  0.0  0.0   \n",
       "\n",
       "   yummy  yup  zen  zero  zombie  zone  zoo  zucchini  \n",
       "0    0.0  0.0  0.0   0.0     0.0   0.0  0.0       0.0  \n",
       "1    0.0  0.0  0.0   0.0     0.0   0.0  0.0       0.0  \n",
       "2    0.0  0.0  0.0   0.0     0.0   0.0  0.0       0.0  \n",
       "3    0.0  0.0  0.0   0.0     0.0   0.0  0.0       0.0  \n",
       "4    0.0  0.0  0.0   0.0     0.0   0.0  0.0       0.0  \n",
       "\n",
       "[5 rows x 5000 columns]"
      ]
     },
     "execution_count": 97,
     "metadata": {},
     "output_type": "execute_result"
    }
   ],
   "source": [
    "from sklearn.feature_extraction.text import TfidfVectorizer\n",
    "\n",
    "tfidf = TfidfVectorizer(stop_words='english', max_features = 5000)\n",
    "dtm = tfidf.fit_transform(yelp['tokens'])\n",
    "# dtm = pd.DataFrame(dtm.todense(), columns=tfidf.get_feature_names())\n",
    "docs = pd.DataFrame(dtm.todense(), columns = tfidf.get_feature_names())\n",
    "docs.head()"
   ]
  },
  {
   "cell_type": "code",
   "execution_count": 98,
   "metadata": {},
   "outputs": [],
   "source": [
    "docs.index = yelp.index"
   ]
  },
  {
   "cell_type": "code",
   "execution_count": 99,
   "metadata": {},
   "outputs": [
    {
     "data": {
      "text/plain": [
       "NearestNeighbors(algorithm='kd_tree', leaf_size=30, metric='minkowski',\n",
       "         metric_params=None, n_jobs=None, n_neighbors=10, p=2, radius=1.0)"
      ]
     },
     "execution_count": 99,
     "metadata": {},
     "output_type": "execute_result"
    }
   ],
   "source": [
    "# Instantiate\n",
    "from sklearn.neighbors import NearestNeighbors\n",
    "\n",
    "# Fit on TF-IDF Vectors\n",
    "nn  = NearestNeighbors(n_neighbors=10, algorithm='kd_tree')\n",
    "nn.fit(docs)"
   ]
  },
  {
   "cell_type": "code",
   "execution_count": 100,
   "metadata": {},
   "outputs": [
    {
     "data": {
      "text/plain": [
       "(array([[0.        , 1.        , 1.        , 1.1270721 , 1.19984008,\n",
       "         1.22720223, 1.22827212, 1.24064974, 1.24591349, 1.25798238]]),\n",
       " array([[   5, 6204, 6311, 9884, 9173, 4126, 8720, 2561, 7949, 6714]],\n",
       "       dtype=int64))"
      ]
     },
     "execution_count": 100,
     "metadata": {},
     "output_type": "execute_result"
    }
   ],
   "source": [
    "# Query Using kneighbors \n",
    "nn.kneighbors([docs.iloc[5]])"
   ]
  },
  {
   "cell_type": "code",
   "execution_count": 101,
   "metadata": {},
   "outputs": [
    {
     "data": {
      "text/plain": [
       "'solid place live nearby good place drop feel like cook -PRON- try flavourful arepa reina chickenavocado arepa tasty mayo avocado ratio wayy mayo avocado beef empanada good size tasty portion decent price'"
      ]
     },
     "execution_count": 101,
     "metadata": {},
     "output_type": "execute_result"
    }
   ],
   "source": [
    "yelp['tokens'][4126][:300]"
   ]
  },
  {
   "cell_type": "code",
   "execution_count": 113,
   "metadata": {},
   "outputs": [],
   "source": [
    "fake_review = [\"this is a great restaurant, best tofu I've ever had\"]"
   ]
  },
  {
   "cell_type": "code",
   "execution_count": 114,
   "metadata": {},
   "outputs": [
    {
     "data": {
      "text/plain": [
       "(array([[1.        , 1.        , 1.00520665, 1.04659866, 1.07097516,\n",
       "         1.0779505 , 1.10429261, 1.14054301, 1.15377508, 1.16447427]]),\n",
       " array([[6204, 6311, 3922, 6340, 3728, 5332, 7735, 1893, 6028, 5374]],\n",
       "       dtype=int64))"
      ]
     },
     "execution_count": 114,
     "metadata": {},
     "output_type": "execute_result"
    }
   ],
   "source": [
    "check = tfidf.transform(fake_review)\n",
    "\n",
    "nn.kneighbors(check.todense())"
   ]
  },
  {
   "cell_type": "code",
   "execution_count": 115,
   "metadata": {},
   "outputs": [
    {
     "name": "stdout",
     "output_type": "stream",
     "text": [
      "\n",
      "\n",
      "\n",
      "\n",
      "fast good price drink good light staff kind helpful outside smell like trash trash right -PRON- come area hungry hibachi sushi record\n",
      "\n",
      "bomb trash nachos killer bloody mary great service locate right heart strip favorite mtley q sandwich different time trash nachos soooo good large portion share 4 definitely\n",
      "\n",
      "dan fix chair think trash tell rear\n",
      "\n",
      "nice trash place employee look like want drop food manager look look away customer service whatsoever hey -PRON- las vega care right\n",
      "\n",
      "trash 3 people work trash leg paper towel like night swing shift push towel rhe spray bottle lol o good hopefully pf improve om gym clean good bathroom\n",
      "\n",
      "boyfriend eat local meat product hard find area catch open excite product shrimp twice excellent time love local product like pasta bread etc nice able walk run good work ill\n",
      "\n",
      "love fresh easy shop 3 time week great customer service quality product check help unlike lot big chain grocery store hard find busy appreciate fact quickly open 24 hour start carry wild oat product natural organic product great news\n",
      "\n",
      "place real facial thorough extraction like come month try push product -PRON- come learn sell 50100 online retailer usually esthetician tell cost product find eeks come facial massage pedicure retail product\n",
      "\n"
     ]
    }
   ],
   "source": [
    "x = [6311, 6204, 8697, 9136, 1734, 9241, 1542, 1550, 3903, 7593]\n",
    "\n",
    "for i in x:\n",
    "    print(yelp['tokens'][i][:500] + \"\\n\")\n",
    "    \n",
    "# Trash was apparently an operative word. The first two blank reviews came through, and that's problematic.\n",
    "# I'd need to clean that up going forward, but this works well enough to be MVP..."
   ]
  },
  {
   "cell_type": "markdown",
   "metadata": {},
   "source": [
    "## Part 3: Classification\n",
    "<a id=\"#p3\"></a>\n",
    "Your goal in this section will be to predict `stars` from the review dataset. \n",
    "\n",
    "1. Create a piepline object with a sklearn `CountVectorizer` or `TfidfVector` and any sklearn classifier. Use that pipeline to estimate a model to predict `stars`. Use the Pipeline to predict a star rating for your fake review from Part 2. \n",
    "2. Tune the entire pipeline with a GridSearch"
   ]
  },
  {
   "cell_type": "code",
   "execution_count": 107,
   "metadata": {},
   "outputs": [],
   "source": [
    "from sklearn.pipeline import Pipeline\n",
    "from sklearn.ensemble import RandomForestClassifier\n",
    "from sklearn.model_selection import GridSearchCV"
   ]
  },
  {
   "cell_type": "code",
   "execution_count": 108,
   "metadata": {},
   "outputs": [],
   "source": [
    "vect = TfidfVectorizer(stop_words='english')\n",
    "rfc = RandomForestClassifier()"
   ]
  },
  {
   "cell_type": "code",
   "execution_count": 109,
   "metadata": {},
   "outputs": [],
   "source": [
    "pipe = Pipeline([\n",
    "                 #Vectorizer\n",
    "                 ('vect', vect),\n",
    "                 # Classifier\n",
    "                 ('clf', rfc)\n",
    "                ])"
   ]
  },
  {
   "cell_type": "code",
   "execution_count": 110,
   "metadata": {},
   "outputs": [
    {
     "name": "stdout",
     "output_type": "stream",
     "text": [
      "Fitting 5 folds for each of 32 candidates, totalling 160 fits\n"
     ]
    },
    {
     "name": "stderr",
     "output_type": "stream",
     "text": [
      "[Parallel(n_jobs=-1)]: Using backend LokyBackend with 4 concurrent workers.\n",
      "[Parallel(n_jobs=-1)]: Done  42 tasks      | elapsed:   28.0s\n",
      "[Parallel(n_jobs=-1)]: Done 160 out of 160 | elapsed:  1.7min finished\n"
     ]
    },
    {
     "data": {
      "text/plain": [
       "GridSearchCV(cv=5, error_score='raise-deprecating',\n",
       "       estimator=Pipeline(memory=None,\n",
       "     steps=[('vect', TfidfVectorizer(analyzer='word', binary=False, decode_error='strict',\n",
       "        dtype=<class 'numpy.float64'>, encoding='utf-8', input='content',\n",
       "        lowercase=True, max_df=1.0, max_features=None, min_df=1,\n",
       "        ngram_range=(1, 1), norm='l2', preprocessor=None, smooth_idf=True,\n",
       "...obs=None,\n",
       "            oob_score=False, random_state=None, verbose=0,\n",
       "            warm_start=False))]),\n",
       "       fit_params=None, iid='warn', n_jobs=-1,\n",
       "       param_grid={'vect__max_df': (0.9, 1.0), 'vect__min_df': (0.02, 0.05), 'vect__max_features': (1000, 5000), 'clf__n_estimators': (5, 10), 'clf__max_depth': (15, 20)},\n",
       "       pre_dispatch='2*n_jobs', refit=True, return_train_score='warn',\n",
       "       scoring=None, verbose=1)"
      ]
     },
     "execution_count": 110,
     "metadata": {},
     "output_type": "execute_result"
    }
   ],
   "source": [
    "parameters = {\n",
    "    'vect__max_df': ( 0.9, 1.0), #max_df stands for drop words that have to appear over a certain threshold to be excluded\n",
    "    'vect__min_df': (.02, .05), #min_df is the minimum percentage of documents a feature must appear in to be included\n",
    "    'vect__max_features': (1000,5000),\n",
    "    'clf__n_estimators':(5, 10,),\n",
    "    'clf__max_depth':(15,20)\n",
    "}\n",
    "\n",
    "grid_search = GridSearchCV(pipe,parameters, cv=5, n_jobs=-1, verbose=1)\n",
    "grid_search.fit(yelp['tokens'], yelp['stars'])"
   ]
  },
  {
   "cell_type": "code",
   "execution_count": 111,
   "metadata": {},
   "outputs": [
    {
     "data": {
      "text/plain": [
       "0.5362"
      ]
     },
     "execution_count": 111,
     "metadata": {},
     "output_type": "execute_result"
    }
   ],
   "source": [
    "grid_search.best_score_\n",
    "# doesn't seem like a great score, but after playing with some of the parameters this didn't move much..."
   ]
  },
  {
   "cell_type": "code",
   "execution_count": 112,
   "metadata": {},
   "outputs": [
    {
     "data": {
      "text/plain": [
       "array([5], dtype=int64)"
      ]
     },
     "execution_count": 112,
     "metadata": {},
     "output_type": "execute_result"
    }
   ],
   "source": [
    "grid_search.predict([\"this is a great restaurant, best tofu I've ever had\"])"
   ]
  },
  {
   "cell_type": "markdown",
   "metadata": {},
   "source": [
    "## Part 4: Topic Modeling\n",
    "\n",
    "Let's find out what those yelp reviews are saying! :D\n",
    "\n",
    "1. Estimate a LDA topic model of the review text\n",
    "    - Keep the `iterations` parameter at or below 5 to reduce run time\n",
    "    - The `workers` parameter should match the number of physical cores on your machine.\n",
    "2. Create 1-2 visualizations of the results\n",
    "    - You can use the most important 3 words of a topic in relevant visualizations. Refer to yesterday's notebook to extract. \n",
    "3. In markdown, write 1-2 paragraphs of analysis on the results of your topic model\n",
    "\n",
    "__*Note*__: You can pass the DataFrame column of text reviews to gensim. You do not have to use a generator."
   ]
  },
  {
   "cell_type": "code",
   "execution_count": 68,
   "metadata": {
    "inputHidden": false,
    "outputHidden": false
   },
   "outputs": [
    {
     "name": "stderr",
     "output_type": "stream",
     "text": [
      "C:\\Users\\ltown\\Anaconda3\\envs\\U4-S1-NLP\\lib\\site-packages\\gensim\\utils.py:1197: UserWarning: detected Windows; aliasing chunkize to chunkize_serial\n",
      "  warnings.warn(\"detected Windows; aliasing chunkize to chunkize_serial\")\n"
     ]
    }
   ],
   "source": [
    "from gensim.models import LdaMulticore\n",
    "from gensim.corpora import Dictionary"
   ]
  },
  {
   "cell_type": "markdown",
   "metadata": {},
   "source": [
    "Learn the vocubalary of the yelp data:"
   ]
  },
  {
   "cell_type": "code",
   "execution_count": 76,
   "metadata": {},
   "outputs": [],
   "source": [
    "def split(x):\n",
    "    return x.split()\n",
    "\n",
    "yelp['vocab'] = yelp['tokens'].apply(lambda x: split(x))\n",
    "# I needed to break up the docs into invidual words"
   ]
  },
  {
   "cell_type": "code",
   "execution_count": 77,
   "metadata": {},
   "outputs": [],
   "source": [
    "id2word = Dictionary(yelp['vocab'])"
   ]
  },
  {
   "cell_type": "markdown",
   "metadata": {},
   "source": [
    "Create a bag of words representation of the entire corpus"
   ]
  },
  {
   "cell_type": "code",
   "execution_count": 78,
   "metadata": {
    "inputHidden": false,
    "outputHidden": false
   },
   "outputs": [],
   "source": [
    "corpus = [id2word.doc2bow(text) for text in yelp['vocab']]"
   ]
  },
  {
   "cell_type": "markdown",
   "metadata": {},
   "source": [
    "Your LDA model should be ready for estimation: "
   ]
  },
  {
   "cell_type": "code",
   "execution_count": 79,
   "metadata": {
    "inputHidden": false,
    "outputHidden": false
   },
   "outputs": [],
   "source": [
    "lda = LdaMulticore(corpus=corpus,\n",
    "                   id2word=id2word,\n",
    "                   iterations=5,\n",
    "                   workers=4,\n",
    "                   num_topics = 10 # You can change this parameter\n",
    "                  )"
   ]
  },
  {
   "cell_type": "markdown",
   "metadata": {},
   "source": [
    "Create 1-2 visualizations of the results"
   ]
  },
  {
   "cell_type": "code",
   "execution_count": 80,
   "metadata": {
    "inputHidden": false,
    "outputHidden": false
   },
   "outputs": [],
   "source": [
    "import pyLDAvis.gensim\n",
    "\n",
    "pyLDAvis.enable_notebook()"
   ]
  },
  {
   "cell_type": "code",
   "execution_count": 81,
   "metadata": {},
   "outputs": [
    {
     "name": "stderr",
     "output_type": "stream",
     "text": [
      "C:\\Users\\ltown\\Anaconda3\\envs\\U4-S1-NLP\\lib\\site-packages\\pyLDAvis\\_prepare.py:257: FutureWarning: Sorting because non-concatenation axis is not aligned. A future version\n",
      "of pandas will change to not sort by default.\n",
      "\n",
      "To accept the future behavior, pass 'sort=False'.\n",
      "\n",
      "To retain the current behavior and silence the warning, pass 'sort=True'.\n",
      "\n",
      "  return pd.concat([default_term_info] + list(topic_dfs))\n"
     ]
    },
    {
     "data": {
      "text/html": [
       "\n",
       "<link rel=\"stylesheet\" type=\"text/css\" href=\"https://cdn.rawgit.com/bmabey/pyLDAvis/files/ldavis.v1.0.0.css\">\n",
       "\n",
       "\n",
       "<div id=\"ldavis_el936026375784113683273871472\"></div>\n",
       "<script type=\"text/javascript\">\n",
       "\n",
       "var ldavis_el936026375784113683273871472_data = {\"mdsDat\": {\"x\": [0.0046066582715665995, 0.001698427784745789, 0.00028277795724636215, 0.0021235617977759893, -0.002750312039111651, -0.005116358364071639, -0.002245079281003948, 0.0020184475025439583, -0.001060851974086881, 0.0004427283443954262], \"y\": [-0.0012681988339210055, -0.0022144254572292067, 0.000559475997777571, -0.0010506531595750623, -0.003973595995951178, 0.0007809123676001459, 8.315942556057518e-05, 0.0012007361299760282, 6.543982896925127e-05, 0.005817149696792875], \"topics\": [1, 2, 3, 4, 5, 6, 7, 8, 9, 10], \"cluster\": [1, 1, 1, 1, 1, 1, 1, 1, 1, 1], \"Freq\": [10.712153434753418, 10.384345054626465, 10.173436164855957, 10.143819808959961, 9.982858657836914, 9.930051803588867, 9.927717208862305, 9.715177536010742, 9.621070861816406, 9.409374237060547]}, \"tinfo\": {\"Category\": [\"Default\", \"Default\", \"Default\", \"Default\", \"Default\", \"Default\", \"Default\", \"Default\", \"Default\", \"Default\", \"Default\", \"Default\", \"Default\", \"Default\", \"Default\", \"Default\", \"Default\", \"Default\", \"Default\", \"Default\", \"Default\", \"Default\", \"Default\", \"Default\", \"Default\", \"Default\", \"Default\", \"Default\", \"Default\", \"Default\", \"Topic1\", \"Topic1\", \"Topic1\", \"Topic1\", \"Topic1\", \"Topic1\", \"Topic1\", \"Topic1\", \"Topic1\", \"Topic1\", \"Topic1\", \"Topic1\", \"Topic1\", \"Topic1\", \"Topic1\", \"Topic1\", \"Topic1\", \"Topic1\", \"Topic1\", \"Topic1\", \"Topic1\", \"Topic1\", \"Topic1\", \"Topic1\", \"Topic1\", \"Topic1\", \"Topic1\", \"Topic1\", \"Topic1\", \"Topic1\", \"Topic1\", \"Topic1\", \"Topic1\", \"Topic1\", \"Topic1\", \"Topic1\", \"Topic1\", \"Topic1\", \"Topic1\", \"Topic1\", \"Topic1\", \"Topic1\", \"Topic1\", \"Topic1\", \"Topic1\", \"Topic1\", \"Topic1\", \"Topic1\", \"Topic1\", \"Topic1\", \"Topic1\", \"Topic1\", \"Topic1\", \"Topic1\", \"Topic1\", \"Topic1\", \"Topic1\", \"Topic1\", \"Topic1\", \"Topic1\", \"Topic1\", \"Topic1\", \"Topic1\", \"Topic1\", \"Topic1\", \"Topic1\", \"Topic1\", \"Topic1\", \"Topic1\", \"Topic1\", \"Topic1\", \"Topic1\", \"Topic1\", \"Topic1\", \"Topic1\", \"Topic1\", \"Topic2\", \"Topic2\", \"Topic2\", \"Topic2\", \"Topic2\", \"Topic2\", \"Topic2\", \"Topic2\", \"Topic2\", \"Topic2\", \"Topic2\", \"Topic2\", \"Topic2\", \"Topic2\", \"Topic2\", \"Topic2\", \"Topic2\", \"Topic2\", \"Topic2\", \"Topic2\", \"Topic2\", \"Topic2\", \"Topic2\", \"Topic2\", \"Topic2\", \"Topic2\", \"Topic2\", \"Topic2\", \"Topic2\", \"Topic2\", \"Topic2\", \"Topic2\", \"Topic2\", \"Topic2\", \"Topic2\", \"Topic2\", \"Topic2\", \"Topic2\", \"Topic2\", \"Topic2\", \"Topic2\", \"Topic2\", \"Topic2\", \"Topic2\", \"Topic2\", \"Topic2\", \"Topic2\", \"Topic2\", \"Topic2\", \"Topic2\", \"Topic2\", \"Topic2\", \"Topic2\", \"Topic2\", \"Topic2\", \"Topic2\", \"Topic2\", \"Topic2\", \"Topic2\", \"Topic2\", \"Topic2\", \"Topic2\", \"Topic2\", \"Topic2\", \"Topic2\", \"Topic2\", \"Topic2\", \"Topic2\", \"Topic2\", \"Topic2\", \"Topic2\", \"Topic2\", \"Topic2\", \"Topic2\", \"Topic2\", \"Topic2\", \"Topic2\", \"Topic2\", \"Topic2\", \"Topic3\", \"Topic3\", \"Topic3\", \"Topic3\", \"Topic3\", \"Topic3\", \"Topic3\", \"Topic3\", \"Topic3\", \"Topic3\", \"Topic3\", \"Topic3\", \"Topic3\", \"Topic3\", \"Topic3\", \"Topic3\", \"Topic3\", \"Topic3\", \"Topic3\", \"Topic3\", \"Topic3\", \"Topic3\", \"Topic3\", \"Topic3\", \"Topic3\", \"Topic3\", \"Topic3\", \"Topic3\", \"Topic3\", \"Topic3\", \"Topic3\", \"Topic3\", \"Topic3\", \"Topic3\", \"Topic3\", \"Topic3\", \"Topic3\", \"Topic3\", \"Topic3\", \"Topic3\", \"Topic3\", \"Topic3\", \"Topic3\", \"Topic3\", \"Topic3\", \"Topic3\", \"Topic3\", \"Topic3\", \"Topic3\", \"Topic3\", \"Topic3\", \"Topic3\", \"Topic3\", \"Topic3\", \"Topic3\", \"Topic3\", \"Topic3\", \"Topic3\", \"Topic3\", \"Topic3\", \"Topic3\", \"Topic3\", \"Topic3\", \"Topic3\", \"Topic3\", \"Topic3\", \"Topic3\", \"Topic3\", \"Topic3\", \"Topic3\", \"Topic3\", \"Topic3\", \"Topic3\", \"Topic3\", \"Topic3\", \"Topic3\", \"Topic3\", \"Topic3\", \"Topic3\", \"Topic3\", \"Topic3\", \"Topic3\", \"Topic3\", \"Topic3\", \"Topic3\", \"Topic3\", \"Topic4\", \"Topic4\", \"Topic4\", \"Topic4\", \"Topic4\", \"Topic4\", \"Topic4\", \"Topic4\", \"Topic4\", \"Topic4\", \"Topic4\", \"Topic4\", \"Topic4\", \"Topic4\", \"Topic4\", \"Topic4\", \"Topic4\", \"Topic4\", \"Topic4\", \"Topic4\", \"Topic4\", \"Topic4\", \"Topic4\", \"Topic4\", \"Topic4\", \"Topic4\", \"Topic4\", \"Topic4\", \"Topic4\", \"Topic4\", \"Topic4\", \"Topic4\", \"Topic4\", \"Topic4\", \"Topic4\", \"Topic4\", \"Topic4\", \"Topic4\", \"Topic4\", \"Topic4\", \"Topic4\", \"Topic4\", \"Topic4\", \"Topic4\", \"Topic4\", \"Topic4\", \"Topic4\", \"Topic4\", \"Topic4\", \"Topic4\", \"Topic4\", \"Topic4\", \"Topic4\", \"Topic4\", \"Topic4\", \"Topic4\", \"Topic4\", \"Topic4\", \"Topic4\", \"Topic4\", \"Topic4\", \"Topic4\", \"Topic4\", \"Topic4\", \"Topic4\", \"Topic4\", \"Topic4\", \"Topic4\", \"Topic4\", \"Topic4\", \"Topic4\", \"Topic4\", \"Topic4\", \"Topic4\", \"Topic4\", \"Topic4\", \"Topic4\", \"Topic4\", \"Topic4\", \"Topic4\", \"Topic4\", \"Topic4\", \"Topic5\", \"Topic5\", \"Topic5\", \"Topic5\", \"Topic5\", \"Topic5\", \"Topic5\", \"Topic5\", \"Topic5\", \"Topic5\", \"Topic5\", \"Topic5\", \"Topic5\", \"Topic5\", \"Topic5\", \"Topic5\", \"Topic5\", \"Topic5\", \"Topic5\", \"Topic5\", \"Topic5\", \"Topic5\", \"Topic5\", \"Topic5\", \"Topic5\", \"Topic5\", \"Topic5\", \"Topic5\", \"Topic5\", \"Topic5\", \"Topic5\", \"Topic5\", \"Topic5\", \"Topic5\", \"Topic5\", \"Topic5\", \"Topic5\", \"Topic5\", \"Topic5\", \"Topic5\", \"Topic5\", \"Topic5\", \"Topic5\", \"Topic5\", \"Topic5\", \"Topic5\", \"Topic5\", \"Topic5\", \"Topic5\", \"Topic5\", \"Topic5\", \"Topic5\", \"Topic5\", \"Topic5\", \"Topic5\", \"Topic5\", \"Topic5\", \"Topic5\", \"Topic5\", \"Topic5\", \"Topic5\", \"Topic5\", \"Topic5\", \"Topic5\", \"Topic5\", \"Topic5\", \"Topic5\", \"Topic5\", \"Topic5\", \"Topic5\", \"Topic5\", \"Topic5\", \"Topic5\", \"Topic5\", \"Topic5\", \"Topic5\", \"Topic5\", \"Topic6\", \"Topic6\", \"Topic6\", \"Topic6\", \"Topic6\", \"Topic6\", \"Topic6\", \"Topic6\", \"Topic6\", \"Topic6\", \"Topic6\", \"Topic6\", \"Topic6\", \"Topic6\", \"Topic6\", \"Topic6\", \"Topic6\", \"Topic6\", \"Topic6\", \"Topic6\", \"Topic6\", \"Topic6\", \"Topic6\", \"Topic6\", \"Topic6\", \"Topic6\", \"Topic6\", \"Topic6\", \"Topic6\", \"Topic6\", \"Topic6\", \"Topic6\", \"Topic6\", \"Topic6\", \"Topic6\", \"Topic6\", \"Topic6\", \"Topic6\", \"Topic6\", \"Topic6\", \"Topic6\", \"Topic6\", \"Topic6\", \"Topic6\", \"Topic6\", \"Topic6\", \"Topic6\", \"Topic6\", \"Topic6\", \"Topic6\", \"Topic6\", \"Topic6\", \"Topic6\", \"Topic6\", \"Topic6\", \"Topic6\", \"Topic6\", \"Topic6\", \"Topic6\", \"Topic6\", \"Topic6\", \"Topic6\", \"Topic6\", \"Topic6\", \"Topic6\", \"Topic6\", \"Topic6\", \"Topic6\", \"Topic6\", \"Topic6\", \"Topic6\", \"Topic6\", \"Topic6\", \"Topic6\", \"Topic6\", \"Topic6\", \"Topic6\", \"Topic6\", \"Topic6\", \"Topic6\", \"Topic7\", \"Topic7\", \"Topic7\", \"Topic7\", \"Topic7\", \"Topic7\", \"Topic7\", \"Topic7\", \"Topic7\", \"Topic7\", \"Topic7\", \"Topic7\", \"Topic7\", \"Topic7\", \"Topic7\", \"Topic7\", \"Topic7\", \"Topic7\", \"Topic7\", \"Topic7\", \"Topic7\", \"Topic7\", \"Topic7\", \"Topic7\", \"Topic7\", \"Topic7\", \"Topic7\", \"Topic7\", \"Topic7\", \"Topic7\", \"Topic7\", \"Topic7\", \"Topic7\", \"Topic7\", \"Topic7\", \"Topic7\", \"Topic7\", \"Topic7\", \"Topic7\", \"Topic7\", \"Topic7\", \"Topic7\", \"Topic7\", \"Topic7\", \"Topic7\", \"Topic7\", \"Topic7\", \"Topic7\", \"Topic7\", \"Topic7\", \"Topic7\", \"Topic7\", \"Topic7\", \"Topic7\", \"Topic7\", \"Topic7\", \"Topic7\", \"Topic7\", \"Topic7\", \"Topic7\", \"Topic7\", \"Topic7\", \"Topic7\", \"Topic7\", \"Topic7\", \"Topic7\", \"Topic7\", \"Topic7\", \"Topic7\", \"Topic7\", \"Topic7\", \"Topic7\", \"Topic7\", \"Topic7\", \"Topic7\", \"Topic8\", \"Topic8\", \"Topic8\", \"Topic8\", \"Topic8\", \"Topic8\", \"Topic8\", \"Topic8\", \"Topic8\", \"Topic8\", \"Topic8\", \"Topic8\", \"Topic8\", \"Topic8\", \"Topic8\", \"Topic8\", \"Topic8\", \"Topic8\", \"Topic8\", \"Topic8\", \"Topic8\", \"Topic8\", \"Topic8\", \"Topic8\", \"Topic8\", \"Topic8\", \"Topic8\", \"Topic8\", \"Topic8\", \"Topic8\", \"Topic8\", \"Topic8\", \"Topic8\", \"Topic8\", \"Topic8\", \"Topic8\", \"Topic8\", \"Topic8\", \"Topic8\", \"Topic8\", \"Topic8\", \"Topic8\", \"Topic8\", \"Topic8\", \"Topic8\", \"Topic8\", \"Topic8\", \"Topic8\", \"Topic8\", \"Topic8\", \"Topic8\", \"Topic8\", \"Topic8\", \"Topic8\", \"Topic8\", \"Topic8\", \"Topic8\", \"Topic8\", \"Topic8\", \"Topic8\", \"Topic8\", \"Topic8\", \"Topic8\", \"Topic8\", \"Topic8\", \"Topic8\", \"Topic8\", \"Topic8\", \"Topic8\", \"Topic8\", \"Topic8\", \"Topic8\", \"Topic8\", \"Topic8\", \"Topic8\", \"Topic8\", \"Topic8\", \"Topic8\", \"Topic8\", \"Topic8\", \"Topic8\", \"Topic8\", \"Topic8\", \"Topic8\", \"Topic8\", \"Topic9\", \"Topic9\", \"Topic9\", \"Topic9\", \"Topic9\", \"Topic9\", \"Topic9\", \"Topic9\", \"Topic9\", \"Topic9\", \"Topic9\", \"Topic9\", \"Topic9\", \"Topic9\", \"Topic9\", \"Topic9\", \"Topic9\", \"Topic9\", \"Topic9\", \"Topic9\", \"Topic9\", \"Topic9\", \"Topic9\", \"Topic9\", \"Topic9\", \"Topic9\", \"Topic9\", \"Topic9\", \"Topic9\", \"Topic9\", \"Topic9\", \"Topic9\", \"Topic9\", \"Topic9\", \"Topic9\", \"Topic9\", \"Topic9\", \"Topic9\", \"Topic9\", \"Topic9\", \"Topic9\", \"Topic9\", \"Topic9\", \"Topic9\", \"Topic9\", \"Topic9\", \"Topic9\", \"Topic9\", \"Topic9\", \"Topic9\", \"Topic9\", \"Topic9\", \"Topic9\", \"Topic9\", \"Topic9\", \"Topic9\", \"Topic9\", \"Topic9\", \"Topic9\", \"Topic9\", \"Topic9\", \"Topic9\", \"Topic9\", \"Topic9\", \"Topic9\", \"Topic9\", \"Topic9\", \"Topic9\", \"Topic9\", \"Topic9\", \"Topic9\", \"Topic9\", \"Topic9\", \"Topic9\", \"Topic9\", \"Topic9\", \"Topic9\", \"Topic9\", \"Topic10\", \"Topic10\", \"Topic10\", \"Topic10\", \"Topic10\", \"Topic10\", \"Topic10\", \"Topic10\", \"Topic10\", \"Topic10\", \"Topic10\", \"Topic10\", \"Topic10\", \"Topic10\", \"Topic10\", \"Topic10\", \"Topic10\", \"Topic10\", \"Topic10\", \"Topic10\", \"Topic10\", \"Topic10\", \"Topic10\", \"Topic10\", \"Topic10\", \"Topic10\", \"Topic10\", \"Topic10\", \"Topic10\", \"Topic10\", \"Topic10\", \"Topic10\", \"Topic10\", \"Topic10\", \"Topic10\", \"Topic10\", \"Topic10\", \"Topic10\", \"Topic10\", \"Topic10\", \"Topic10\", \"Topic10\", \"Topic10\", \"Topic10\", \"Topic10\", \"Topic10\", \"Topic10\", \"Topic10\", \"Topic10\", \"Topic10\", \"Topic10\", \"Topic10\", \"Topic10\", \"Topic10\", \"Topic10\", \"Topic10\", \"Topic10\", \"Topic10\", \"Topic10\", \"Topic10\", \"Topic10\", \"Topic10\", \"Topic10\", \"Topic10\", \"Topic10\", \"Topic10\", \"Topic10\", \"Topic10\", \"Topic10\", \"Topic10\", \"Topic10\", \"Topic10\", \"Topic10\", \"Topic10\", \"Topic10\", \"Topic10\"], \"Freq\": [5985.0, 4041.0, 4965.0, 4011.0, 3459.0, 5093.0, 3689.0, 3558.0, 2113.0, 1445.0, 1294.0, 1515.0, 1433.0, 3211.0, 1718.0, 1298.0, 4609.0, 1000.0, 1063.0, 1290.0, 992.0, 1015.0, 1334.0, 1165.0, 553.0, 1428.0, 546.0, 1706.0, 1689.0, 1155.0, 1.198573350906372, 1.1688827276229858, 1.1676394939422607, 1.1665035486221313, 1.017869234085083, 0.9642987251281738, 2.1830596923828125, 0.4779828190803528, 0.46553361415863037, 0.8891081213951111, 0.8784093856811523, 0.8641024827957153, 0.4504064917564392, 2.6755406856536865, 0.8292048573493958, 0.8290376663208008, 0.4209894835948944, 0.41876715421676636, 0.40812405943870544, 0.7789879441261292, 0.7789877653121948, 0.7671812772750854, 0.39543601870536804, 0.7503255009651184, 0.38777539134025574, 0.3846418261528015, 0.3830213248729706, 0.7179422378540039, 0.714470624923706, 0.8285146951675415, 1.6724642515182495, 2.5851807594299316, 487.27264404296875, 208.00498962402344, 160.16835021972656, 583.615478515625, 30.466650009155273, 99.30447387695312, 87.05937194824219, 171.2624969482422, 474.7069091796875, 56.187320709228516, 636.37109375, 512.3292846679688, 80.38164520263672, 82.27542877197266, 98.75296783447266, 422.79022216796875, 271.04345703125, 124.74854278564453, 92.8323745727539, 132.7279052734375, 156.1270294189453, 64.56427764892578, 168.2959442138672, 160.90216064453125, 167.83287048339844, 178.1842498779297, 508.8553466796875, 157.46221923828125, 206.43360900878906, 195.38284301757812, 271.73443603515625, 97.00540161132812, 125.43881225585938, 215.9826202392578, 427.92559814453125, 236.70162963867188, 177.92335510253906, 139.34214782714844, 462.7199401855469, 169.54244995117188, 182.51632690429688, 305.38641357421875, 156.15382385253906, 154.58241271972656, 1.4468833208084106, 1.112294316291809, 1.0906717777252197, 1.815130591392517, 0.9434767961502075, 0.44070321321487427, 0.432372510433197, 0.6087908148765564, 0.8111071586608887, 0.4236771762371063, 0.79176265001297, 0.412740558385849, 0.4083210825920105, 0.9042540788650513, 0.3859146237373352, 0.7359910607337952, 0.3828302025794983, 0.7188873887062073, 0.7157643437385559, 0.7159242630004883, 0.715383768081665, 1.2108372449874878, 0.7132833003997803, 0.36687201261520386, 0.36600828170776367, 0.6950007677078247, 0.797534704208374, 0.49548277258872986, 0.3502679765224457, 0.8085556626319885, 1.2183104753494263, 169.00515747070312, 181.7423095703125, 105.95387268066406, 542.2665405273438, 218.992919921875, 59.96818161010742, 292.4002685546875, 199.65872192382812, 34.52909469604492, 92.70935821533203, 95.90685272216797, 29.04950714111328, 539.6380004882812, 69.655029296875, 10.669610023498535, 202.6217498779297, 413.52923583984375, 459.2596740722656, 113.83391571044922, 80.92664337158203, 637.08984375, 130.7142333984375, 107.1495132446289, 112.58187866210938, 61.37337112426758, 176.21743774414062, 392.0631408691406, 167.9641876220703, 109.0499496459961, 186.23414611816406, 192.80247497558594, 132.67166137695312, 67.97417449951172, 186.22560119628906, 412.8729553222656, 176.4542999267578, 158.0990753173828, 212.21827697753906, 396.9443664550781, 294.3649597167969, 227.92605590820312, 272.66912841796875, 174.37704467773438, 155.72593688964844, 148.4198760986328, 144.72076416015625, 168.29046630859375, 149.12374877929688, 0.7214343547821045, 0.9557841420173645, 0.6632300019264221, 0.8698515295982361, 0.7880736589431763, 1.412975549697876, 0.7571530342102051, 0.751282811164856, 0.7086289525032043, 1.6237046718597412, 0.6882451176643372, 0.6403828859329224, 0.6697660684585571, 1.1228967905044556, 1.1216436624526978, 0.3453635275363922, 0.7924639582633972, 1.2442363500595093, 0.33944740891456604, 0.33934643864631653, 0.6404527425765991, 2.0659728050231934, 0.32851332426071167, 0.4588847756385803, 0.6224079728126526, 0.3226469159126282, 0.6161215305328369, 0.32087311148643494, 0.45142629742622375, 1.8197351694107056, 2.356255054473877, 23.696025848388672, 155.60818481445312, 79.82901000976562, 29.032835006713867, 13.90188980102539, 41.4461555480957, 23.411048889160156, 145.36659240722656, 653.1073608398438, 43.40300750732422, 80.4664535522461, 27.52438735961914, 614.240966796875, 61.24635314941406, 425.4208984375, 680.4808959960938, 80.39582824707031, 171.41876220703125, 213.2310333251953, 53.53178405761719, 208.02655029296875, 178.73855590820312, 104.18457794189453, 89.28636932373047, 246.25364685058594, 55.47798538208008, 419.5388488769531, 83.63707733154297, 158.27857971191406, 45.419578552246094, 442.4667053222656, 96.30944061279297, 67.90362548828125, 187.99964904785156, 202.11367797851562, 349.70965576171875, 161.79354858398438, 127.96526336669922, 303.99859619140625, 170.44100952148438, 105.5467529296875, 169.74441528320312, 136.4923858642578, 128.7763671875, 198.0552520751953, 211.98989868164062, 154.41567993164062, 136.52320861816406, 144.2586212158203, 135.38059997558594, 225.51449584960938, 234.98463439941406, 140.73611450195312, 137.81784057617188, 137.1072540283203, 1.1546512842178345, 1.0432443618774414, 1.0372363328933716, 0.8460408449172974, 1.5059195756912231, 0.9846392869949341, 0.42193344235420227, 0.40881264209747314, 0.400350958108902, 0.7168082594871521, 0.674231231212616, 1.473563313484192, 0.3629693388938904, 0.5070468187332153, 0.36009112000465393, 0.35672545433044434, 0.35608285665512085, 0.8079323768615723, 1.2651149034500122, 0.8044747114181519, 0.3452058732509613, 0.6567748188972473, 0.653175950050354, 1.5162417888641357, 0.6495862007141113, 0.3390072286128998, 0.33510300517082214, 3.526581048965454, 0.3215648829936981, 0.6143585443496704, 101.24917602539062, 3.1625277996063232, 82.74754333496094, 27.532724380493164, 292.0654296875, 594.5929565429688, 89.35586547851562, 67.40756225585938, 195.2433624267578, 29.64760398864746, 21.20990562438965, 49.989715576171875, 157.37985229492188, 120.07569885253906, 80.86618041992188, 417.07720947265625, 378.263916015625, 214.54736328125, 112.59800720214844, 207.02536010742188, 166.78094482421875, 410.47509765625, 58.59234619140625, 95.04861450195312, 133.8174285888672, 67.54288482666016, 503.925048828125, 171.79454040527344, 173.7472381591797, 85.69882202148438, 409.18695068359375, 125.6817855834961, 555.1351318359375, 385.7267150878906, 151.10931396484375, 104.21266174316406, 156.20436096191406, 122.84089660644531, 327.3352966308594, 220.2200164794922, 157.65701293945312, 398.46038818359375, 130.94703674316406, 155.5481414794922, 178.9729766845703, 204.22003173828125, 166.31820678710938, 155.78367614746094, 146.29522705078125, 145.37759399414062, 146.45680236816406, 145.7994842529297, 1.2858941555023193, 1.067014217376709, 2.06884765625, 0.49643784761428833, 0.9437788128852844, 0.93427973985672, 8.100781440734863, 0.8509823679924011, 0.8053019046783447, 0.7426959872245789, 0.3855026066303253, 1.3854557275772095, 0.3771061897277832, 0.37434905767440796, 0.8684920072555542, 0.3727929890155792, 0.9881046414375305, 0.6876420974731445, 2.24397349357605, 0.34026899933815, 0.9196175336837769, 0.3353322446346283, 0.6412383317947388, 0.774606466293335, 0.469596266746521, 0.333435982465744, 0.6023444533348083, 1.2081080675125122, 0.735017716884613, 0.6298659443855286, 1.181380033493042, 223.0111083984375, 28.95442771911621, 0.7580716609954834, 168.49424743652344, 483.55755615234375, 59.44731140136719, 3.3974602222442627, 112.18802642822266, 155.24462890625, 63.33610534667969, 456.9817199707031, 127.09892272949219, 55.90757751464844, 24.47162437438965, 77.49069213867188, 518.1641845703125, 198.989990234375, 96.13819122314453, 52.08859634399414, 533.4469604492188, 543.7549438476562, 84.60307312011719, 167.55296325683594, 143.16043090820312, 103.90898895263672, 160.84469604492188, 171.0352020263672, 405.59490966796875, 169.765869140625, 92.94023132324219, 208.39242553710938, 174.0969696044922, 165.13816833496094, 135.93605041503906, 248.4310760498047, 311.9065856933594, 161.25830078125, 482.4889221191406, 162.99098205566406, 156.0397186279297, 201.74874877929688, 166.95687866210938, 161.93948364257812, 192.90003967285156, 264.1829833984375, 222.05213928222656, 1.1707319021224976, 1.0958712100982666, 0.9255630970001221, 0.8900789022445679, 0.8871378302574158, 0.40850773453712463, 0.4026568830013275, 0.40069153904914856, 1.0365394353866577, 1.0615170001983643, 1.059574842453003, 0.38781601190567017, 0.3858725428581238, 0.3850466310977936, 1.8347758054733276, 2.6371347904205322, 0.37010452151298523, 0.7067166566848755, 0.3666974604129791, 1.1465765237808228, 0.36437147855758667, 1.2764841318130493, 1.123940348625183, 0.6631885766983032, 0.8012000322341919, 0.656953752040863, 0.34244680404663086, 0.7949258685112, 0.3410433232784271, 0.6190536618232727, 0.8940874338150024, 2.13193941116333, 3.6216704845428467, 156.78431701660156, 55.752159118652344, 198.4989013671875, 132.51023864746094, 91.27165985107422, 44.063777923583984, 37.12458419799805, 175.12286376953125, 101.204833984375, 683.4234008789062, 590.7315063476562, 86.38066101074219, 48.771568298339844, 288.7855224609375, 136.8746337890625, 179.91075134277344, 154.74752807617188, 117.2766342163086, 23.705434799194336, 133.8182373046875, 167.6640167236328, 82.45943450927734, 92.4228515625, 70.50562286376953, 114.43890380859375, 359.1395263671875, 168.682373046875, 161.5274200439453, 135.332275390625, 359.7296447753906, 153.53118896484375, 187.28245544433594, 362.1252746582031, 328.4605712890625, 402.4383544921875, 171.6675567626953, 213.4589385986328, 161.3120574951172, 186.6640625, 314.0872497558594, 323.2232360839844, 236.47183227539062, 145.18417358398438, 156.08969116210938, 145.12770080566406, 141.84654235839844, 141.47032165527344, 1.20388662815094, 1.1814906597137451, 0.5096113085746765, 2.1822762489318848, 1.5323249101638794, 1.082187294960022, 0.46265894174575806, 0.44791388511657715, 0.8184500336647034, 0.9844457507133484, 0.9145982265472412, 0.7736930847167969, 0.3904235363006592, 0.7381645441055298, 0.3767762780189514, 0.7094600200653076, 0.6969230771064758, 0.3639083802700043, 0.6749627590179443, 1.1389358043670654, 0.6723106503486633, 0.6659120321273804, 0.3470478951931, 0.34579312801361084, 0.344595342874527, 0.6550807952880859, 0.48157984018325806, 0.47879308462142944, 1.952031135559082, 0.6430941224098206, 1.4724000692367554, 0.9051879048347473, 85.46057891845703, 219.837646484375, 207.12008666992188, 775.97119140625, 90.85778045654297, 424.9775085449219, 170.3835906982422, 66.56688690185547, 118.42350006103516, 210.7838592529297, 455.6357116699219, 40.4398193359375, 191.24253845214844, 129.49813842773438, 70.73552703857422, 67.42310333251953, 245.6783905029297, 132.53395080566406, 467.38653564453125, 196.27764892578125, 101.85978698730469, 128.3792724609375, 165.9746856689453, 155.55657958984375, 182.10067749023438, 118.9902572631836, 101.15730285644531, 127.71695709228516, 312.2921142578125, 432.6119689941406, 320.310791015625, 329.2743225097656, 402.06634521484375, 205.827880859375, 219.670654296875, 166.02859497070312, 149.2422332763672, 145.74766540527344, 244.47132873535156, 146.66893005371094, 154.5034637451172, 139.44781494140625, 133.3560791015625, 1.2022191286087036, 1.391589879989624, 1.9821112155914307, 0.9993082284927368, 0.9964784979820251, 1.0903069972991943, 0.8642315864562988, 0.8125150203704834, 0.8092256784439087, 0.41523653268814087, 0.9402472376823425, 1.3031132221221924, 1.4269729852676392, 0.3984569013118744, 0.7516630291938782, 1.0697627067565918, 0.39020901918411255, 0.8850758671760559, 0.8462106585502625, 0.36399388313293457, 1.1369338035583496, 0.3617439568042755, 0.5042678713798523, 0.682444155216217, 0.3565579950809479, 0.35550808906555176, 0.6785178184509277, 0.6735494136810303, 0.8076096773147583, 0.3445035517215729, 0.7986770868301392, 2.2848095893859863, 16.342792510986328, 177.21568298339844, 1.1839767694473267, 181.76406860351562, 607.4225463867188, 3.3128297328948975, 500.4471130371094, 83.11199188232422, 65.8039321899414, 31.496196746826172, 113.74303436279297, 458.5482482910156, 117.37113189697266, 61.08115005493164, 107.76025390625, 277.1397705078125, 63.27220916748047, 343.7245788574219, 24.78271484375, 508.96209716796875, 95.59854125976562, 122.78560638427734, 60.93254089355469, 57.8992919921875, 344.5555725097656, 124.10498809814453, 103.0833511352539, 99.9742431640625, 97.02383422851562, 101.9038314819336, 334.601806640625, 159.434326171875, 146.1981201171875, 380.71917724609375, 122.85287475585938, 84.51614379882812, 143.35511779785156, 291.3161315917969, 128.94894409179688, 408.5084228515625, 160.72799682617188, 190.0328369140625, 190.67800903320312, 160.58924865722656, 136.14646911621094, 151.34530639648438, 164.26622009277344, 147.62481689453125, 139.8751678466797, 147.27047729492188, 136.02825927734375, 130.25949096679688, 126.23209381103516, 0.5033652782440186, 0.8977569937705994, 0.893112301826477, 0.8142746686935425, 0.4198797345161438, 0.4171697199344635, 0.9536482691764832, 0.40477845072746277, 0.39998558163642883, 0.7394397854804993, 0.7129928469657898, 0.7064310312271118, 0.3667348027229309, 0.6949097514152527, 0.6869251132011414, 0.5018640756607056, 0.3557629883289337, 0.6773112416267395, 0.8196577429771423, 0.35129499435424805, 0.6710702180862427, 0.6539013385772705, 0.3408956825733185, 0.6500793099403381, 0.647929310798645, 2.026372194290161, 1.0899702310562134, 0.5986276865005493, 0.6248379349708557, 0.6142651438713074, 1.5613058805465698, 2.842662811279297, 491.4654846191406, 153.16026306152344, 91.21542358398438, 710.382568359375, 72.42266082763672, 73.6255111694336, 185.98141479492188, 567.3692626953125, 113.7435531616211, 109.25636291503906, 73.91597747802734, 23.087369918823242, 179.14138793945312, 428.7217712402344, 130.8007354736328, 64.15283966064453, 30.14013671875, 502.45977783203125, 47.46633529663086, 71.05982208251953, 121.589111328125, 127.86253356933594, 254.4235382080078, 49.348873138427734, 185.68106079101562, 184.14215087890625, 427.1723937988281, 217.0841827392578, 372.41217041015625, 82.65282440185547, 102.75003814697266, 188.89010620117188, 150.2119598388672, 144.23655700683594, 280.44635009765625, 296.8401794433594, 159.40838623046875, 266.7741394042969, 186.4686737060547, 139.8097686767578, 136.907470703125, 123.96055603027344, 125.55497741699219, 132.96531677246094, 129.85572814941406, 126.04153442382812, 1.2209194898605347, 1.0936938524246216, 0.5396162867546082, 1.020005702972412, 9.100021362304688, 0.9379245638847351, 0.47674405574798584, 0.4735935628414154, 0.885197103023529, 0.44485926628112793, 0.4181496500968933, 1.1407188177108765, 1.6897484064102173, 0.41493961215019226, 0.7900934815406799, 0.9269618391990662, 0.39863646030426025, 0.5432437658309937, 0.3680606782436371, 0.7033427953720093, 0.7006069421768188, 0.6824323534965515, 0.6820428967475891, 1.251810073852539, 0.6668655276298523, 0.48940375447273254, 0.9063146114349365, 1.4473109245300293, 0.6438978314399719, 0.6402876377105713, 0.7759095430374146, 202.49032592773438, 29.515443801879883, 175.9095001220703, 217.19921875, 54.41390609741211, 62.806671142578125, 169.28282165527344, 160.4696502685547, 447.5698547363281, 111.44644927978516, 97.76337432861328, 100.96400451660156, 149.2451171875, 589.4169311523438, 212.25465393066406, 368.5601806640625, 487.5547790527344, 124.76637268066406, 108.65576934814453, 76.28732299804688, 53.36150360107422, 172.27638244628906, 409.2929992675781, 177.1800994873047, 63.37681579589844, 434.5568542480469, 310.5101013183594, 124.44771575927734, 112.68907928466797, 284.6476745605469, 95.73677062988281, 158.53163146972656, 142.44252014160156, 100.87500762939453, 194.9701690673828, 259.799560546875, 173.861572265625, 126.7391357421875, 252.031005859375, 172.16957092285156, 146.9866943359375, 142.30844116210938, 127.56746673583984, 128.23007202148438, 126.85962677001953], \"Term\": [\"good\", \"great\", \"place\", \"time\", \"service\", \"-PRON-\", \"come\", \"like\", \"love\", \"tell\", \"chicken\", \"find\", \"ask\", \"order\", \"want\", \"friendly\", \"food\", \"bar\", \"fry\", \"amaze\", \"minute\", \"right\", \"people\", \"feel\", \"thank\", \"work\", \"sandwich\", \"price\", \"nice\", \"taste\", \"dolci\", \"cary\", \"vadai\", \"dahl\", \"ricketts\", \"angelica\", \"woot\", \"mixologists\", \"cheesegreat\", \"picante\", \"newcomersask\", \"74\", \"deltai\", \"michelle\", \"kendel\", \"carlys\", \"incred\", \"kiki\", \"crullersand\", \"dollarsnot\", \"farseems\", \"betterrecommended\", \"corbin\", \"coffe\", \"vegaslast\", \"austinswell\", \"hotelthe\", \"dankbbs\", \"rapidebonne\", \"nitro\", \"singapore\", \"pelmeni\", \"order\", \"amaze\", \"bar\", \"great\", \"unique\", \"awesome\", \"roll\", \"taste\", \"like\", \"tea\", \"-PRON-\", \"time\", \"ice\", \"park\", \"okay\", \"service\", \"love\", \"star\", \"close\", \"night\", \"feel\", \"bread\", \"chicken\", \"2\", \"need\", \"\\ufeff1\", \"place\", \"menu\", \"nice\", \"restaurant\", \"try\", \"bring\", \"year\", \"look\", \"food\", \"little\", \"staff\", \"way\", \"good\", \"eat\", \"wait\", \"come\", \"experience\", \"definitely\", \"insectarium\", \"palmas\", \"brookline\", \"botanical\", \"conchas\", \"bistroawesome\", \"wtfclosing\", \"coffeeshop\", \"momma\", \"ricecabbagemiso\", \"christmasy\", \"shootsbut\", \"shootreallyall\", \"demonic\", \"mesawhat\", \"basicsthe\", \"diwali\", \"helpfulthis\", \"delivary\", \"spotmy\", \"posoleshawwty\", \"tso\", \"mathe\", \"disheswhats\", \"daddywent\", \"roxton\", \"2004\", \"vein\", \"onstaff\", \"viability\", \"donovan\", \"right\", \"s\", \"serve\", \"time\", \"find\", \"fantastic\", \"love\", \"\\ufeff1\", \"onion\", \"late\", \"different\", \"brunch\", \"food\", \"dessert\", \"eyebrow\", \"restaurant\", \"like\", \"great\", \"long\", \"away\", \"good\", \"bar\", \"pizza\", \"enjoy\", \"wine\", \"day\", \"come\", \"drink\", \"small\", \"know\", \"nice\", \"table\", \"soup\", \"price\", \"place\", \"wait\", \"ask\", \"little\", \"-PRON-\", \"service\", \"try\", \"order\", \"want\", \"think\", \"definitely\", \"chicken\", \"look\", \"work\", \"piri\", \"erika\", \"noddle\", \"kendel\", \"picante\", \"sammies\", \"coffeespecifically\", \"helpfuloverall\", \"talia\", \"woot\", \"stylistbarber\", \"jesse\", \"romper\", \"rosebush\", \"ceux\", \"everrrrr\", \"dilly\", \"fungus\", \"turon\", \"pancho\", \"ricketts\", \"reflexology\", \"beerbreak\", \"squish\", \"couture\", \"backfood\", \"81212\", \"garbanzo\", \"definitly\", \"walkins\", \"amanda\", \"45\", \"minute\", \"rice\", \"complaint\", \"general\", \"quickly\", \"pedicure\", \"bar\", \"place\", \"stand\", \"sandwich\", \"exactly\", \"-PRON-\", \"month\", \"like\", \"good\", \"cook\", \"people\", \"price\", \"appointment\", \"nice\", \"work\", \"cheese\", \"dinner\", \"love\", \"talk\", \"time\", \"quality\", \"definitely\", \"reason\", \"food\", \"bad\", \"live\", \"want\", \"look\", \"come\", \"think\", \"way\", \"order\", \"restaurant\", \"sauce\", \"wait\", \"2\", \"taste\", \"little\", \"try\", \"find\", \"friendly\", \"ask\", \"need\", \"service\", \"great\", \"\\ufeff1\", \"day\", \"know\", \"atmospherecourteous\", \"fridendly\", \"pleasantquiet\", \"golfweekcom\", \"firefly\", \"pittsburg\", \"congregation\", \"mila\", \"1080\", \"servicemaybe\", \"sup\", \"sw\", \"offday\", \"noel\", \"againoystersgumbohouse\", \"tardy\", \"kashi\", \"megaphone\", \"fungus\", \"costumers\", \"waitif\", \"boubon\", \"harlow\", \"swedish\", \"hoodlum\", \"wapt\", \"goits\", \"dye\", \"fst\", \"biker\", \"sandwich\", \"feast\", \"soup\", \"immediately\", \"little\", \"food\", \"sweet\", \"steak\", \"work\", \"bottle\", \"mushroom\", \"phone\", \"s\", \"fresh\", \"beer\", \"like\", \"order\", \"want\", \"vega\", \"nice\", \"recommend\", \"come\", \"usually\", \"start\", \"table\", \"10\", \"place\", \"think\", \"eat\", \"open\", \"great\", \"friend\", \"good\", \"time\", \"amaze\", \"3\", \"definitely\", \"leave\", \"service\", \"love\", \"\\ufeff1\", \"-PRON-\", \"thing\", \"tell\", \"look\", \"try\", \"price\", \"find\", \"drink\", \"experience\", \"staff\", \"wait\", \"krung\", \"victorias\", \"siam\", \"everrrrr\", \"brookline\", \"palmas\", \"yuk\", \"daaayyuuummm\", \"sweettooth\", \"startup\", \"hirenow\", \"samantha\", \"unexplainable\", \"kimmy\", \"everrr\", \"pizzawe\", \"kang\", \"samanthas\", \"nancy\", \"javier\", \"aaron\", \"mandy\", \"15atmosphere\", \"pam\", \"globe\", \"poom\", \"kitten\", \"sophia\", \"leches\", \"awayserver\", \"intelligent\", \"chicken\", \"boyfriend\", \"auxiliary\", \"delicious\", \"service\", \"fantastic\", \"poison\", \"home\", \"customer\", \"usually\", \"come\", \"hour\", \"dine\", \"tire\", \"thank\", \"food\", \"know\", \"happy\", \"company\", \"place\", \"-PRON-\", \"guy\", \"drink\", \"taste\", \"pizza\", \"recommend\", \"tell\", \"time\", \"think\", \"start\", \"look\", \"find\", \"work\", \"new\", \"try\", \"order\", \"ask\", \"good\", \"eat\", \"day\", \"love\", \"wait\", \"restaurant\", \"little\", \"great\", \"like\", \"intelligently\", \"aryon\", \"lauto\", \"froide\", \"greenway\", \"tn\", \"honestcompare\", \"debitcredit\", \"jellyfish\", \"chaleureux\", \"accueil\", \"housefinallyfatty\", \"ifyou\", \"carna\", \"tar\", \"nan\", \"whoopers\", \"herelas\", \"shellwithout\", \"lambiance\", \"chipotleby\", \"peru\", \"joanne\", \"preseason\", \"miguel\", \"darlene\", \"dancersslut\", \"nai\", \"verdi\", \"vw\", \"wei\", \"method\", \"christina\", \"fry\", \"spicy\", \"tell\", \"hour\", \"super\", \"20\", \"slow\", \"need\", \"happy\", \"good\", \"-PRON-\", \"meat\", \"green\", \"try\", \"use\", \"ask\", \"2\", \"sure\", \"matt\", \"bite\", \"experience\", \"offer\", \"salad\", \"expect\", \"clean\", \"service\", \"day\", \"drink\", \"new\", \"come\", \"people\", \"price\", \"time\", \"like\", \"food\", \"know\", \"little\", \"staff\", \"look\", \"great\", \"place\", \"order\", \"definitely\", \"wait\", \"find\", \"eat\", \"think\", \"imcomplete\", \"gooddecent\", \"shoooz\", \"hiram\", \"squishies\", \"nationwide\", \"kiddo\", \"luxuriously\", \"betterrecommended\", \"matthew\", \"mochas\", \"atmospherecourteous\", \"aga\", \"shawarmas\", \"redecorate\", \"aptive\", \"broccolicauliflower\", \"5c\", \"barpub\", \"backpack\", \"jokemy\", \"inconvience\", \"aknowledgement\", \"jobneeds\", \"eron\", \"suxs\", \"dinosaur\", \"stab\", \"dawn\", \"townlost\", \"wheelchair\", \"nook\", \"thank\", \"find\", \"ask\", \"good\", \"excellent\", \"service\", \"friendly\", \"hotel\", \"location\", \"price\", \"great\", \"buffet\", \"know\", \"lot\", \"4\", \"selection\", \"little\", \"room\", \"food\", \"want\", \"pay\", \"fry\", \"think\", \"recommend\", \"wait\", \"minute\", \"walk\", \"way\", \"order\", \"place\", \"like\", \"come\", \"-PRON-\", \"love\", \"try\", \"nice\", \"staff\", \"eat\", \"time\", \"restaurant\", \"look\", \"day\", \"\\ufeff1\", \"servicedont\", \"purolator\", \"linda\", \"bello\", \"sono\", \"matthew\", \"dippin\", \"puzzlemaster\", \"yeahhhhhhhautomatic\", \"techniciansthey\", \"environmental\", \"fabulously\", \"deter\", \"chipotleby\", \"waitresscashier\", \"blink\", \"specialit\", \"postoperative\", \"devin\", \"httpthingsthatareawesomecom20130327voodoochildcafe\", \"hudson\", \"regale\", \"pok\", \"desertservice\", \"housefinallyfatty\", \"beagle\", \"aptive\", \"mary4\", \"forgetful\", \"oldtimey\", \"axle\", \"acai\", \"bone\", \"feel\", \"garment\", \"friendly\", \"place\", \"poker\", \"great\", \"favorite\", \"high\", \"12\", \"visit\", \"time\", \"location\", \"fast\", \"walk\", \"try\", \"portion\", \"order\", \"recently\", \"-PRON-\", \"store\", \"right\", \"tasty\", \"fun\", \"service\", \"bite\", \"long\", \"small\", \"server\", \"review\", \"come\", \"staff\", \"definitely\", \"food\", \"thing\", \"end\", \"experience\", \"like\", \"s\", \"good\", \"wait\", \"love\", \"little\", \"nice\", \"recommend\", \"know\", \"look\", \"restaurant\", \"eat\", \"price\", \"want\", \"think\", \"day\", \"cello\", \"dankbbs\", \"roomtastic\", \"healthyvegan\", \"fantabulous\", \"196lp55053451458italia5445i151520exit25sloani15ipadlp550545579usbpc05800m99212thank\", \"sheldon\", \"peteshello\", \"chen\", \"greenway\", \"meatsseafood\", \"staffvery\", \"firstbut\", \"shipper\", \"bathroomthere\", \"risas\", \"helpfullmy\", \"superdisappointed\", \"barros\", \"rural\", \"greulichs\", \"cluewent\", \"hamburgerfriendliest\", \"resultsi\", \"gelcolor\", \"carpaccio\", \"yasmin\", \"tha\", \"delivary\", \"bathroomspeaking\", \"700\", \"picasso\", \"come\", \"room\", \"care\", \"good\", \"return\", \"item\", \"eat\", \"-PRON-\", \"star\", \"enjoy\", \"thank\", \"bland\", \"staff\", \"time\", \"fry\", \"far\", \"available\", \"place\", \"shrimp\", \"line\", \"friend\", \"way\", \"try\", \"maybe\", \"want\", \"price\", \"food\", \"love\", \"great\", \"end\", \"fresh\", \"look\", \"day\", \"drink\", \"order\", \"like\", \"wait\", \"service\", \"little\", \"ask\", \"\\ufeff1\", \"menu\", \"need\", \"restaurant\", \"nice\", \"work\", \"breakfastwtf\", \"darlene\", \"aisha\", \"deliciousinexpensive\", \"yuk\", \"butterfly\", \"ktown\", \"ashamedfurther\", \"beause\", \"n2\", \"196lp55053451458italia5445i151520exit25sloani15ipadlp550545579usbpc05800m99212thank\", \"greenhouse\", \"martial\", \"fantabulous\", \"walkthrough\", \"chauffeur\", \"labove\", \"575\", \"swarma\", \"dojo\", \"herringtonbone\", \"servicesliders\", \"ev36\", \"acrobatic\", \"parker\", \"hunan\", \"lotus\", \"chiller\", \"deliciousremember\", \"3meat\", \"ccw\", \"tell\", \"taco\", \"people\", \"want\", \"dog\", \"pick\", \"experience\", \"amaze\", \"great\", \"review\", \"sit\", \"area\", \"menu\", \"good\", \"look\", \"like\", \"place\", \"use\", \"clean\", \"help\", \"ill\", \"restaurant\", \"food\", \"nice\", \"business\", \"-PRON-\", \"service\", \"new\", \"pretty\", \"order\", \"check\", \"know\", \"work\", \"fresh\", \"try\", \"come\", \"love\", \"chicken\", \"time\", \"little\", \"price\", \"wait\", \"drink\", \"ask\", \"day\"], \"Total\": [5985.0, 4041.0, 4965.0, 4011.0, 3459.0, 5093.0, 3689.0, 3558.0, 2113.0, 1445.0, 1294.0, 1515.0, 1433.0, 3211.0, 1718.0, 1298.0, 4609.0, 1000.0, 1063.0, 1290.0, 992.0, 1015.0, 1334.0, 1165.0, 553.0, 1428.0, 546.0, 1706.0, 1689.0, 1155.0, 3.0560622215270996, 3.056560754776001, 3.057110548019409, 3.057220697402954, 3.055661201477051, 3.054858922958374, 7.123514652252197, 1.5974185466766357, 1.5966496467590332, 3.0555472373962402, 3.055861473083496, 3.0562827587127686, 1.5971930027008057, 9.734853744506836, 3.055511474609375, 3.0580413341522217, 1.596961498260498, 1.596652865409851, 1.597554087638855, 3.0556015968322754, 3.0597047805786133, 3.054574966430664, 1.5974005460739136, 3.054856777191162, 1.5975821018218994, 1.5973703861236572, 1.5968689918518066, 3.0491018295288086, 3.058098316192627, 3.555314064025879, 7.282510757446289, 11.500162124633789, 3211.693603515625, 1290.8466796875, 1000.1863403320312, 4041.381591796875, 169.8667755126953, 624.4591064453125, 545.4612426757812, 1155.10400390625, 3558.27392578125, 343.503173828125, 5093.45751953125, 4011.35400390625, 519.1686401367188, 540.179931640625, 672.4781494140625, 3459.51953125, 2113.5693359375, 885.54443359375, 634.397705078125, 965.3223876953125, 1165.3482666015625, 423.0794982910156, 1294.0732421875, 1229.200439453125, 1291.99169921875, 1403.6981201171875, 4965.47998046875, 1215.0313720703125, 1689.0283203125, 1595.010498046875, 2399.291259765625, 682.0386962890625, 944.5969848632812, 1880.33056640625, 4609.79736328125, 2140.394287109375, 1494.946044921875, 1087.0377197265625, 5985.6171875, 1462.6051025390625, 1642.1068115234375, 3689.487060546875, 1364.212890625, 1350.4888916015625, 3.061872720718384, 3.0610597133636475, 3.06105899810791, 5.826741695404053, 3.060680389404297, 1.5980637073516846, 1.5987648963928223, 2.2516658306121826, 3.057326078414917, 1.5987358093261719, 3.0630264282226562, 1.5985859632492065, 1.5988689661026, 3.7163562774658203, 1.5977463722229004, 3.0580732822418213, 1.5983222723007202, 3.0594911575317383, 3.0539979934692383, 3.0569753646850586, 3.056792974472046, 5.175749778747559, 3.0586438179016113, 1.5979893207550049, 1.5978753566741943, 3.0572009086608887, 3.5564849376678467, 2.2512948513031006, 1.597441554069519, 3.7102479934692383, 5.668728828430176, 1015.19921875, 1200.6605224609375, 677.3685913085938, 4011.35400390625, 1515.8258056640625, 377.4085998535156, 2113.5693359375, 1403.6981201171875, 208.74276733398438, 631.3364868164062, 660.9677124023438, 178.53570556640625, 4609.79736328125, 480.04315185546875, 59.865821838378906, 1595.010498046875, 3558.27392578125, 4041.381591796875, 848.4801635742188, 580.68017578125, 5985.6171875, 1000.1863403320312, 801.1362915039062, 847.702392578125, 426.43658447265625, 1440.7088623046875, 3689.487060546875, 1378.999755859375, 833.9633178710938, 1599.331787109375, 1689.0283203125, 1071.21435546875, 484.2209167480469, 1706.7877197265625, 4965.47998046875, 1642.1068115234375, 1433.168701171875, 2140.394287109375, 5093.45751953125, 3459.51953125, 2399.291259765625, 3211.693603515625, 1718.3206787109375, 1443.328125, 1350.4888916015625, 1294.0732421875, 1880.33056640625, 1428.8809814453125, 2.2497079372406006, 3.0553460121154785, 2.2498745918273926, 3.055511474609375, 3.0555472373962402, 5.668217658996582, 3.056283473968506, 3.056415557861328, 3.0550930500030518, 7.123514652252197, 3.0580530166625977, 2.90218186378479, 3.0552351474761963, 5.1683244705200195, 5.169773578643799, 1.5980618000030518, 3.7082483768463135, 5.822351455688477, 1.5974289178848267, 1.5975563526153564, 3.055661201477051, 9.885915756225586, 1.5979647636413574, 2.250439167022705, 3.057481527328491, 1.5976488590240479, 3.0545120239257812, 1.5973166227340698, 2.250406503677368, 9.238734245300293, 12.510651588439941, 138.80421447753906, 992.9178466796875, 503.5489807128906, 174.00344848632812, 80.29008483886719, 257.479736328125, 141.7413787841797, 1000.1863403320312, 4965.47998046875, 280.1086730957031, 546.1234130859375, 173.62026977539062, 5093.45751953125, 420.64093017578125, 3558.27392578125, 5985.6171875, 573.083984375, 1334.8946533203125, 1706.7877197265625, 369.4954833984375, 1689.0283203125, 1428.8809814453125, 785.0338745117188, 659.7100219726562, 2113.5693359375, 389.1042785644531, 4011.35400390625, 626.2460327148438, 1350.4888916015625, 311.0562744140625, 4609.79736328125, 764.174072265625, 503.6864318847656, 1718.3206787109375, 1880.33056640625, 3689.487060546875, 1443.328125, 1087.0377197265625, 3211.693603515625, 1595.010498046875, 864.1590576171875, 1642.1068115234375, 1229.200439453125, 1155.10400390625, 2140.394287109375, 2399.291259765625, 1515.8258056640625, 1298.1787109375, 1433.168701171875, 1291.99169921875, 3459.51953125, 4041.381591796875, 1403.6981201171875, 1440.7088623046875, 1599.331787109375, 3.056520938873291, 3.0568597316741943, 3.057067632675171, 3.0562801361083984, 5.668147563934326, 3.7067606449127197, 1.597269058227539, 1.5987850427627563, 1.5988497734069824, 3.058403730392456, 2.9034152030944824, 6.472016334533691, 1.5982780456542969, 2.250332832336426, 1.5988109111785889, 1.5971049070358276, 1.59792160987854, 3.7107646465301514, 5.822351455688477, 3.7106757164001465, 1.5988479852676392, 3.0597872734069824, 3.056342840194702, 7.125532150268555, 3.0565202236175537, 1.5989171266555786, 1.5972201824188232, 17.382169723510742, 1.5981553792953491, 3.056758403778076, 546.1234130859375, 16.270658493041992, 484.2209167480469, 169.02685546875, 2140.394287109375, 4609.79736328125, 608.6569213867188, 448.947998046875, 1428.8809814453125, 189.56605529785156, 132.94886779785156, 337.645263671875, 1200.6605224609375, 899.3914794921875, 582.7916259765625, 3558.27392578125, 3211.693603515625, 1718.3206787109375, 843.0537719726562, 1689.0283203125, 1338.693359375, 3689.487060546875, 416.1187438964844, 717.9330444335938, 1071.21435546875, 493.81744384765625, 4965.47998046875, 1443.328125, 1462.6051025390625, 649.10693359375, 4041.381591796875, 1016.3199462890625, 5985.6171875, 4011.35400390625, 1290.8466796875, 822.7862548828125, 1350.4888916015625, 1013.5745849609375, 3459.51953125, 2113.5693359375, 1403.6981201171875, 5093.45751953125, 1109.3599853515625, 1445.960205078125, 1880.33056640625, 2399.291259765625, 1706.7877197265625, 1515.8258056640625, 1378.999755859375, 1364.212890625, 1494.946044921875, 1642.1068115234375, 3.059390068054199, 3.0601730346679688, 6.324174404144287, 1.5980618000030518, 3.06105899810791, 3.0610597133636475, 28.33688735961914, 3.056710720062256, 3.0562527179718018, 3.060871124267578, 1.5985418558120728, 5.823315620422363, 1.597665786743164, 1.5982987880706787, 3.7109038829803467, 1.5982277393341064, 4.365660667419434, 3.05753493309021, 10.394556999206543, 1.5979576110839844, 4.366910934448242, 1.5983195304870605, 3.0575265884399414, 3.710603713989258, 2.250580310821533, 1.5992082357406616, 2.9041829109191895, 5.826892852783203, 3.5559263229370117, 3.0577244758605957, 5.823667526245117, 1294.0732421875, 164.0315399169922, 3.7111124992370605, 1125.195556640625, 3459.51953125, 377.4085998535156, 18.039493560791016, 746.8475341796875, 1064.428466796875, 416.1187438964844, 3689.487060546875, 938.0170288085938, 383.0094299316406, 154.6836395263672, 553.2357177734375, 4609.79736328125, 1599.331787109375, 713.5767211914062, 361.7287292480469, 4965.47998046875, 5093.45751953125, 629.4622192382812, 1378.999755859375, 1155.10400390625, 801.1362915039062, 1338.693359375, 1445.960205078125, 4011.35400390625, 1443.328125, 717.9330444335938, 1880.33056640625, 1515.8258056640625, 1428.8809814453125, 1129.7789306640625, 2399.291259765625, 3211.693603515625, 1433.168701171875, 5985.6171875, 1462.6051025390625, 1440.7088623046875, 2113.5693359375, 1642.1068115234375, 1595.010498046875, 2140.394287109375, 4041.381591796875, 3558.27392578125, 3.062567710876465, 3.061626434326172, 3.0610411167144775, 3.060657024383545, 3.0583109855651855, 1.5990849733352661, 1.5996726751327515, 1.5992830991744995, 4.21594762802124, 4.366225719451904, 4.366453647613525, 1.6008670330047607, 1.5992403030395508, 1.5992481708526611, 7.791553497314453, 11.366055488586426, 1.5996612310409546, 3.0585250854492188, 1.59943687915802, 5.019430637359619, 1.600792646408081, 5.827356338500977, 5.1754469871521, 3.0599381923675537, 3.714374542236328, 3.057072877883911, 1.5988101959228516, 3.711663246154785, 1.599204421043396, 2.9062206745147705, 4.211953639984131, 10.55351448059082, 18.3502140045166, 1063.152099609375, 355.18994140625, 1445.960205078125, 938.0170288085938, 627.34375, 286.0588684082031, 237.54493713378906, 1291.99169921875, 713.5767211914062, 5985.6171875, 5093.45751953125, 617.4381713867188, 330.8066711425781, 2399.291259765625, 1047.39501953125, 1433.168701171875, 1229.200439453125, 902.0806274414062, 149.9687042236328, 1053.6099853515625, 1364.212890625, 613.9100341796875, 705.3232421875, 517.55322265625, 906.219970703125, 3459.51953125, 1440.7088623046875, 1378.999755859375, 1129.7789306640625, 3689.487060546875, 1334.8946533203125, 1706.7877197265625, 4011.35400390625, 3558.27392578125, 4609.79736328125, 1599.331787109375, 2140.394287109375, 1494.946044921875, 1880.33056640625, 4041.381591796875, 4965.47998046875, 3211.693603515625, 1350.4888916015625, 1642.1068115234375, 1515.8258056640625, 1462.6051025390625, 1443.328125, 3.049835443496704, 3.053481340408325, 1.5968807935714722, 7.275515079498291, 5.162356853485107, 3.7101101875305176, 1.5966931581497192, 1.5950069427490234, 3.054574966430664, 3.709043264389038, 3.552093029022217, 3.056520938873291, 1.5962879657745361, 3.0550506114959717, 1.5969129800796509, 3.0554251670837402, 3.0564968585968018, 1.5965832471847534, 3.055478096008301, 5.166825771331787, 3.05615496635437, 3.0582275390625, 1.5969167947769165, 1.5966830253601074, 1.596418023109436, 3.057149887084961, 2.2492876052856445, 2.248943567276001, 9.236688613891602, 3.055114269256592, 7.12137508392334, 4.36098051071167, 553.2357177734375, 1515.8258056640625, 1433.168701171875, 5985.6171875, 615.7667236328125, 3459.51953125, 1298.1787109375, 467.07025146484375, 898.736572265625, 1706.7877197265625, 4041.381591796875, 276.325439453125, 1599.331787109375, 1037.2093505859375, 526.4271240234375, 499.1749267578125, 2140.394287109375, 1078.0687255859375, 4609.79736328125, 1718.3206787109375, 811.0244750976562, 1063.152099609375, 1443.328125, 1338.693359375, 1642.1068115234375, 992.9178466796875, 821.7348022460938, 1087.0377197265625, 3211.693603515625, 4965.47998046875, 3558.27392578125, 3689.487060546875, 5093.45751953125, 2113.5693359375, 2399.291259765625, 1689.0283203125, 1494.946044921875, 1462.6051025390625, 4011.35400390625, 1595.010498046875, 1880.33056640625, 1440.7088623046875, 1403.6981201171875, 3.0620758533477783, 3.7159910202026367, 5.827533721923828, 3.059485912322998, 3.0597434043884277, 3.709043264389038, 3.0616343021392822, 3.058088779449463, 3.0573744773864746, 1.598391056060791, 3.709733724594116, 5.170576095581055, 5.674455642700195, 1.600792646408081, 3.0596041679382324, 4.365375518798828, 1.5984258651733398, 3.711230993270874, 3.708643913269043, 1.598745346069336, 5.018186092376709, 1.5980098247528076, 2.2500782012939453, 3.0582478046417236, 1.6008670330047607, 1.5980268716812134, 3.0554251670837402, 3.0580825805664062, 3.7129452228546143, 1.5978741645812988, 3.711169719696045, 11.206450462341309, 90.39506530761719, 1165.3482666015625, 5.6703667640686035, 1298.1787109375, 4965.47998046875, 17.228872299194336, 4041.381591796875, 585.6243286132812, 453.1417541503906, 205.50344848632812, 843.4232177734375, 4011.35400390625, 898.736572265625, 432.48016357421875, 821.7348022460938, 2399.291259765625, 465.8049011230469, 3211.693603515625, 162.46270751953125, 5093.45751953125, 754.8341674804688, 1015.19921875, 453.04833984375, 431.6839599609375, 3459.51953125, 1053.6099853515625, 848.4801635742188, 833.9633178710938, 810.2002563476562, 860.9769897460938, 3689.487060546875, 1494.946044921875, 1350.4888916015625, 4609.79736328125, 1109.3599853515625, 687.4715576171875, 1364.212890625, 3558.27392578125, 1200.6605224609375, 5985.6171875, 1642.1068115234375, 2113.5693359375, 2140.394287109375, 1689.0283203125, 1338.693359375, 1599.331787109375, 1880.33056640625, 1595.010498046875, 1462.6051025390625, 1706.7877197265625, 1718.3206787109375, 1443.328125, 1440.7088623046875, 1.594854474067688, 3.0491018295288086, 3.0485708713531494, 3.0533692836761475, 1.5943268537521362, 1.594327449798584, 3.7043099403381348, 1.5959062576293945, 1.5965852737426758, 3.0583109855651855, 3.053269386291504, 3.0540482997894287, 1.596917748451233, 3.0533061027526855, 3.054128408432007, 2.2488996982574463, 1.5969053506851196, 3.0541610717773438, 3.707475185394287, 1.59616219997406, 3.054892063140869, 3.056197166442871, 1.5964266061782837, 3.054126262664795, 3.0545449256896973, 9.576591491699219, 5.166125297546387, 2.8995440006256104, 3.0539979934692383, 3.0540549755096436, 7.77392053604126, 14.912704467773438, 3689.487060546875, 1078.0687255859375, 633.3409423828125, 5985.6171875, 513.5160522460938, 525.33935546875, 1462.6051025390625, 5093.45751953125, 885.54443359375, 847.702392578125, 553.2357177734375, 151.9014892578125, 1494.946044921875, 4011.35400390625, 1063.152099609375, 482.13519287109375, 207.4666748046875, 4965.47998046875, 347.2978515625, 549.6536254882812, 1016.3199462890625, 1087.0377197265625, 2399.291259765625, 371.42193603515625, 1718.3206787109375, 1706.7877197265625, 4609.79736328125, 2113.5693359375, 4041.381591796875, 687.4715576171875, 899.3914794921875, 1880.33056640625, 1440.7088623046875, 1378.999755859375, 3211.693603515625, 3558.27392578125, 1642.1068115234375, 3459.51953125, 2140.394287109375, 1433.168701171875, 1403.6981201171875, 1215.0313720703125, 1291.99169921875, 1595.010498046875, 1689.0283203125, 1428.8809814453125, 3.050121784210205, 3.057072877883911, 1.5955700874328613, 3.0538275241851807, 28.33688735961914, 3.0543954372406006, 1.5967849493026733, 1.5968741178512573, 3.0567002296447754, 1.5967061519622803, 1.594327449798584, 4.359063148498535, 6.470058917999268, 1.5943268537521362, 3.055267095565796, 3.706531047821045, 1.596396803855896, 2.249331474304199, 1.5964319705963135, 3.053776741027832, 3.054166793823242, 3.054203987121582, 3.055213451385498, 5.666470050811768, 3.0552303791046143, 2.2489709854125977, 4.206062316894531, 6.816856384277344, 3.054502248764038, 3.0557854175567627, 3.7091593742370605, 1445.960205078125, 185.8420867919922, 1334.8946533203125, 1718.3206787109375, 379.6818542480469, 448.1954345703125, 1364.212890625, 1290.8466796875, 4041.381591796875, 860.9769897460938, 746.7678833007812, 774.3884887695312, 1215.0313720703125, 5985.6171875, 1880.33056640625, 3558.27392578125, 4965.47998046875, 1047.39501953125, 906.219970703125, 605.378173828125, 400.83929443359375, 1595.010498046875, 4609.79736328125, 1689.0283203125, 495.24456787109375, 5093.45751953125, 3459.51953125, 1129.7789306640625, 1001.277099609375, 3211.693603515625, 827.0802612304688, 1599.331787109375, 1428.8809814453125, 899.3914794921875, 2399.291259765625, 3689.487060546875, 2113.5693359375, 1294.0732421875, 4011.35400390625, 2140.394287109375, 1706.7877197265625, 1642.1068115234375, 1378.999755859375, 1433.168701171875, 1440.7088623046875], \"loglift\": [30.0, 29.0, 28.0, 27.0, 26.0, 25.0, 24.0, 23.0, 22.0, 21.0, 20.0, 19.0, 18.0, 17.0, 16.0, 15.0, 14.0, 13.0, 12.0, 11.0, 10.0, 9.0, 8.0, 7.0, 6.0, 5.0, 4.0, 3.0, 2.0, 1.0, 1.2977999448776245, 1.2725000381469727, 1.271299958229065, 1.270300030708313, 1.1345000267028809, 1.0807000398635864, 1.0511000156402588, 1.0271999835968018, 1.0012999773025513, 0.9993000030517578, 0.9871000051498413, 0.9704999923706055, 0.9678999781608582, 0.9422000050544739, 0.9296000003814697, 0.9284999966621399, 0.9004999995231628, 0.8953999876976013, 0.8690999746322632, 0.8671000003814697, 0.8657000064849854, 0.8521000146865845, 0.8375999927520752, 0.829800009727478, 0.8180000185966492, 0.8100000023841858, 0.8061000108718872, 0.7875999808311462, 0.7797999978065491, 0.7771999835968018, 0.7626000046730042, 0.7411999702453613, 0.3481000065803528, 0.4083000123500824, 0.40209999680519104, 0.2987000048160553, 0.5153999924659729, 0.3950999975204468, 0.3986999988555908, 0.32499998807907104, 0.21950000524520874, 0.42329999804496765, 0.15389999747276306, 0.17589999735355377, 0.3682999908924103, 0.35199999809265137, 0.31540000438690186, 0.13179999589920044, 0.17990000545978546, 0.27390000224113464, 0.31189998984336853, 0.24959999322891235, 0.22370000183582306, 0.3538999855518341, 0.1940000057220459, 0.2004999965429306, 0.19280000030994415, 0.1696999967098236, -0.04430000111460686, 0.19050000607967377, 0.13189999759197235, 0.13410000503063202, 0.05570000037550926, 0.28349998593330383, 0.21490000188350677, 0.0697999969124794, -0.14319999516010284, 0.03180000185966492, 0.10530000180006027, 0.17949999868869781, -0.326200008392334, 0.07890000194311142, 0.03689999878406525, -0.2578999996185303, 0.06629999727010727, 0.06629999727010727, 1.5153000354766846, 1.252500057220459, 1.2329000234603882, 1.0986000299453735, 1.0880999565124512, 0.9767000079154968, 0.9571999907493591, 0.9569000005722046, 0.9380000233650208, 0.9369000196456909, 0.9120000004768372, 0.9107999801635742, 0.8999000191688538, 0.8514999747276306, 0.8440999984741211, 0.840499997138977, 0.8357999920845032, 0.8166000247001648, 0.8140000104904175, 0.8133000135421753, 0.8126000165939331, 0.8122000098228455, 0.8090000152587891, 0.79339998960495, 0.791100025177002, 0.7835000157356262, 0.7699000239372253, 0.7511000037193298, 0.7473999857902527, 0.7412999868392944, 0.727400004863739, 0.47200000286102295, 0.376800000667572, 0.4097000062465668, 0.263700008392334, 0.3301999866962433, 0.4253999888896942, 0.28690001368522644, 0.31459999084472656, 0.46560001373291016, 0.3465000092983246, 0.3345000147819519, 0.44909998774528503, 0.11980000138282776, 0.3345000147819519, 0.5401999950408936, 0.20160000026226044, 0.11259999871253967, 0.09009999781847, 0.25619998574256897, 0.29420000314712524, 0.024700000882148743, 0.22990000247955322, 0.2531000077724457, 0.2460000067949295, 0.3264000117778778, 0.16369999945163727, 0.023099999874830246, 0.15950000286102295, 0.2304999977350235, 0.1145000010728836, 0.09459999948740005, 0.1762000024318695, 0.30149999260902405, 0.0494999997317791, -0.2222999930381775, 0.03420000150799751, 0.06040000170469284, -0.046300001442432404, -0.28700000047683716, -0.19920000433921814, -0.08900000154972076, -0.2013999968767166, -0.023000000044703484, 0.03830000013113022, 0.056699998676776886, 0.07410000264644623, -0.1485999971628189, 0.004999999888241291, 1.1481000185012817, 1.1232999563217163, 1.0638999938964844, 1.0290000438690186, 0.9302999973297119, 0.8962000012397766, 0.8899999856948853, 0.8822000026702881, 0.8241999745368958, 0.8066999912261963, 0.7940000295639038, 0.7742000222206116, 0.7677000164985657, 0.7588000297546387, 0.7573999762535095, 0.7534000277519226, 0.7422000169754028, 0.7422000169754028, 0.7365999817848206, 0.7361999750137329, 0.7228000164031982, 0.7199000120162964, 0.703499972820282, 0.6952999830245972, 0.6935999989509583, 0.685699999332428, 0.684499979019165, 0.680400013923645, 0.6789000034332275, 0.6607000231742859, 0.6158999800682068, 0.5175999999046326, 0.43209999799728394, 0.44359999895095825, 0.49470001459121704, 0.5317999720573425, 0.45879998803138733, 0.4846000075340271, 0.35670000314712524, 0.25690001249313354, 0.4207000136375427, 0.37040001153945923, 0.44359999895095825, 0.17010000348091125, 0.35850000381469727, 0.16140000522136688, 0.11110000312328339, 0.3212999999523163, 0.2328999936580658, 0.2054000049829483, 0.35350000858306885, 0.19110000133514404, 0.20669999718666077, 0.26579999923706055, 0.28540000319480896, 0.1356000006198883, 0.3375000059604645, 0.027699999511241913, 0.2721000015735626, 0.14149999618530273, 0.3614000082015991, -0.05820000171661377, 0.2142000049352646, 0.2815000116825104, 0.07270000129938126, 0.054999999701976776, -0.07069999724626541, 0.09700000286102295, 0.14589999616146088, -0.07209999859333038, 0.04910000041127205, 0.18279999494552612, 0.01590000092983246, 0.08749999850988388, 0.09149999916553497, -0.09480000287294388, -0.14100000262260437, 0.0013000000035390258, 0.03319999948143959, -0.010599999688565731, 0.029500000178813934, -0.44510000944137573, -0.5594000220298767, -0.014600000344216824, -0.06159999966621399, -0.1712000072002411, 1.3148000240325928, 1.2132999897003174, 1.2073999643325806, 1.0039000511169434, 0.9628000259399414, 0.9627000093460083, 0.957099974155426, 0.9246000051498413, 0.9035999774932861, 0.8374999761581421, 0.8281999826431274, 0.8084999918937683, 0.805899977684021, 0.7980999946594238, 0.7975999712944031, 0.7893000245094299, 0.7870000004768372, 0.7638000249862671, 0.7617999911308289, 0.7595000267028809, 0.7554000020027161, 0.7494999766349792, 0.745199978351593, 0.7408999800682068, 0.7396000027656555, 0.7372000217437744, 0.7267000079154968, 0.6931999921798706, 0.6848999857902527, 0.6837999820709229, 0.6029999852180481, 0.6503000259399414, 0.5216000080108643, 0.47360000014305115, 0.29649999737739563, 0.2401999980211258, 0.36970001459121704, 0.3921999931335449, 0.29789999127388, 0.43290001153945923, 0.4528000056743622, 0.3781000077724457, 0.2563000023365021, 0.27469998598098755, 0.3133000135421753, 0.1445000022649765, 0.1492999941110611, 0.2076999992132187, 0.2750999927520752, 0.1891999989748001, 0.20550000667572021, 0.09239999949932098, 0.3278999924659729, 0.2662999927997589, 0.20819999277591705, 0.2989000082015991, 0.0005000000237487257, 0.1598999947309494, 0.15790000557899475, 0.26350000500679016, -0.0019000000320374966, 0.1981000006198883, -0.08959999680519104, -0.05339999869465828, 0.14329999685287476, 0.22200000286102295, 0.13120000064373016, 0.17800000309944153, -0.06960000097751617, 0.026799999177455902, 0.10189999639987946, -0.259799987077713, 0.15160000324249268, 0.05869999900460243, -0.06369999796152115, -0.1754000037908554, -0.04019999876618385, 0.013100000098347664, 0.04479999840259552, 0.049300000071525574, -0.03480000048875809, -0.133200004696846, 1.4375, 1.2506999969482422, 1.186900019645691, 1.135200023651123, 1.1276999711990356, 1.1175999641418457, 1.0520999431610107, 1.0255999565124512, 0.9706000089645386, 0.8881000280380249, 0.8820000290870667, 0.8684999942779541, 0.8604999780654907, 0.8528000116348267, 0.8519999980926514, 0.8486999869346619, 0.8185999989509583, 0.8122000098228455, 0.7713000178337097, 0.7576000094413757, 0.746399998664856, 0.7426999807357788, 0.7422999739646912, 0.7376999855041504, 0.7372000217437744, 0.7365000247955322, 0.7311999797821045, 0.73089998960495, 0.7278000116348267, 0.724399983882904, 0.7091000080108643, 0.5460000038146973, 0.5699999928474426, 0.7160000205039978, 0.40549999475479126, 0.33660000562667847, 0.4560999870300293, 0.6348000168800354, 0.40860000252723694, 0.3790999948978424, 0.42179998755455017, 0.21570000052452087, 0.30550000071525574, 0.3799000084400177, 0.4603999853134155, 0.33869999647140503, 0.11869999766349792, 0.22020000219345093, 0.29980000853538513, 0.36640000343322754, 0.07339999824762344, 0.06710000336170197, 0.29739999771118164, 0.1965000033378601, 0.21629999577999115, 0.26179999113082886, 0.18529999256134033, 0.1695999950170517, 0.012799999676644802, 0.164000004529953, 0.2599000036716461, 0.10450000315904617, 0.14020000398159027, 0.14640000462532043, 0.1867000013589859, 0.0364999994635582, -0.027499999850988388, 0.11969999969005585, -0.21389999985694885, 0.10999999940395355, 0.08150000125169754, -0.04479999840259552, 0.018300000578165054, 0.016899999231100082, -0.1023000031709671, -0.42340001463890076, -0.4697999954223633, 1.3480000495910645, 1.2821999788284302, 1.1134999990463257, 1.0744999647140503, 1.0720000267028809, 0.9448999762535095, 0.9301000237464905, 0.9254999756813049, 0.9065999984741211, 0.8953999876976013, 0.8934999704360962, 0.8917999863624573, 0.8877999782562256, 0.885699987411499, 0.8634999990463257, 0.8486999869346619, 0.84579998254776, 0.8445000052452087, 0.8367000222206116, 0.8331000208854675, 0.8295000195503235, 0.7911999821662903, 0.7825000286102295, 0.7804999947547913, 0.7756999731063843, 0.7720000147819519, 0.7687000036239624, 0.7685999870300293, 0.7644000053405762, 0.7631999850273132, 0.7597000002861023, 0.7102000117301941, 0.6869000196456909, 0.3955000042915344, 0.4578999876976013, 0.3239000141620636, 0.35249999165534973, 0.38199999928474426, 0.4390000104904175, 0.45350000262260437, 0.31119999289512634, 0.3564999997615814, 0.1395999938249588, 0.15530000627040863, 0.34279999136924744, 0.3952000141143799, 0.1923999935388565, 0.27459999918937683, 0.23440000414848328, 0.23729999363422394, 0.2694000005722046, 0.4648999869823456, 0.24609999358654022, 0.21320000290870667, 0.3021000027656555, 0.27730000019073486, 0.31619998812675476, 0.24040000140666962, 0.04439999908208847, 0.1647000014781952, 0.16519999504089355, 0.1876000016927719, -0.018300000578165054, 0.1468999981880188, 0.09989999979734421, -0.09529999643564224, -0.0729999989271164, -0.12880000472068787, 0.07779999822378159, 0.00430000014603138, 0.08309999853372574, -0.0003000000142492354, -0.2451000064611435, -0.4223000109195709, -0.29910001158714294, 0.07940000295639038, -0.043699998408555984, -0.0364999994635582, -0.023600000888109207, -0.013000000268220901, 1.3803000450134277, 1.3602999448776245, 1.1677000522613525, 1.1057000160217285, 1.0951999425888062, 1.0778000354766846, 1.0710999965667725, 1.0398000478744507, 0.992900013923645, 0.9833999872207642, 0.953000009059906, 0.9359999895095825, 0.9016000032424927, 0.8895000219345093, 0.8657000064849854, 0.8496999740600586, 0.8314999938011169, 0.8310999870300293, 0.7997999787330627, 0.7976999878883362, 0.7955999970436096, 0.7853999733924866, 0.7835000157356262, 0.7799999713897705, 0.7767000198364258, 0.7694000005722046, 0.7684999704360962, 0.7628999948501587, 0.7555000185966492, 0.7516000270843506, 0.7336000204086304, 0.737500011920929, 0.44209998846054077, 0.3790000081062317, 0.37549999356269836, 0.2667999863624573, 0.39629998803138733, 0.21299999952316284, 0.2791999876499176, 0.36160001158714294, 0.2831000089645386, 0.218299999833107, 0.12720000743865967, 0.3880999982357025, 0.1860000044107437, 0.22920000553131104, 0.302700012922287, 0.30790001153945923, 0.14509999752044678, 0.21379999816417694, 0.0210999995470047, 0.14030000567436218, 0.23510000109672546, 0.19580000638961792, 0.1469999998807907, 0.1573999971151352, 0.11069999635219574, 0.1881999969482422, 0.2151000052690506, 0.16840000450611115, -0.020800000056624413, -0.1306000053882599, -0.09790000319480896, -0.10649999976158142, -0.22930000722408295, -0.019300000742077827, -0.08100000023841858, -0.00989999994635582, 0.00559999980032444, 0.003700000001117587, -0.4878999888896942, -0.07660000026226044, -0.1890999972820282, -0.02539999969303608, -0.04399999976158142, 1.3966000080108643, 1.3493000268936157, 1.253000020980835, 1.212499976158142, 1.2095999717712402, 1.107200026512146, 1.06659996509552, 1.006100058555603, 1.0022000074386597, 0.9836000204086304, 0.958899974822998, 0.9532999992370605, 0.9510999917984009, 0.9408000111579895, 0.9276999831199646, 0.9251999855041504, 0.9214000105857849, 0.8980000019073486, 0.8537999987602234, 0.8515999913215637, 0.8467000126838684, 0.8458999991416931, 0.8359000086784363, 0.83160001039505, 0.8296999931335449, 0.828499972820282, 0.82669997215271, 0.8184999823570251, 0.8059999942779541, 0.7972000241279602, 0.7953000068664551, 0.7412999868392944, 0.6211000084877014, 0.4481000006198883, 0.7651000022888184, 0.36550000309944153, 0.2303999960422516, 0.682699978351593, 0.2425999939441681, 0.3790000081062317, 0.4020000100135803, 0.45590001344680786, 0.328000009059906, 0.16269999742507935, 0.29580000042915344, 0.374099999666214, 0.30000001192092896, 0.17309999465942383, 0.3352000117301941, 0.09679999947547913, 0.451200008392334, 0.02810000069439411, 0.26510000228881836, 0.2190999984741211, 0.32519999146461487, 0.32249999046325684, 0.024900000542402267, 0.19259999692440033, 0.22360000014305115, 0.2101999968290329, 0.20919999480247498, 0.19740000367164612, -0.06880000233650208, 0.093299999833107, 0.10819999873638153, -0.1624000072479248, 0.13089999556541443, 0.2354000061750412, 0.07850000262260437, -0.17110000550746918, 0.10029999911785126, -0.3531000018119812, 0.007499999832361937, -0.07750000059604645, -0.08669999986886978, -0.02160000056028366, 0.04580000042915344, -0.02630000002682209, -0.10620000213384628, -0.048500001430511475, -0.015699999406933784, -0.11860000342130661, -0.20479999482631683, -0.07370000332593918, -0.10329999774694443, 1.187999963760376, 1.118499994277954, 1.1134999990463257, 1.0195000171661377, 1.0069999694824219, 1.000499963760376, 0.9843000173568726, 0.9693999886512756, 0.9570000171661377, 0.921500027179718, 0.8866999745368958, 0.8772000074386597, 0.8700000047683716, 0.8610000014305115, 0.8492000102996826, 0.8413000106811523, 0.8396999835968018, 0.835099995136261, 0.8320000171661377, 0.8274999856948853, 0.8256000280380249, 0.7991999983787537, 0.7972999811172485, 0.7940999865531921, 0.7906000018119812, 0.788100004196167, 0.7851999998092651, 0.7634999752044678, 0.7544999718666077, 0.7373999953269958, 0.7360000014305115, 0.6837000250816345, 0.3253999948501587, 0.3898000121116638, 0.4034000039100647, 0.20990000665187836, 0.3824999928474426, 0.37619999051094055, 0.27889999747276306, 0.14650000631809235, 0.289000004529953, 0.2924000024795532, 0.32839998602867126, 0.45730000734329224, 0.21950000524520874, 0.10509999841451645, 0.2459000051021576, 0.32429999113082886, 0.4120999872684479, 0.05050000175833702, 0.35109999775886536, 0.2953999936580658, 0.21789999306201935, 0.20100000500679016, 0.09730000048875809, 0.32280001044273376, 0.1160999983549118, 0.11460000276565552, -0.03750000149011612, 0.06539999693632126, -0.04309999942779541, 0.22280000150203705, 0.17180000245571136, 0.04320000112056732, 0.0803999975323677, 0.0835999995470047, -0.09700000286102295, -0.14259999990463257, 0.008899999782443047, -0.22130000591278076, -0.09929999709129333, 0.013899999670684338, 0.013700000010430813, 0.05869999900460243, 0.009999999776482582, -0.14329999685287476, -0.22429999709129333, -0.0868000015616417, 1.4479000568389893, 1.3356000185012817, 1.2792999744415283, 1.2668999433517456, 1.2275999784469604, 1.182800054550171, 1.1547000408172607, 1.1480000019073486, 1.1241999864578247, 1.0855000019073486, 1.0250999927520752, 1.0228999853134155, 1.020900011062622, 1.0174000263214111, 1.0110000371932983, 0.9775000214576721, 0.9760000109672546, 0.9426000118255615, 0.8962000012397766, 0.8952000141143799, 0.8910999894142151, 0.8648999929428101, 0.8640000224113464, 0.8535000085830688, 0.8414000272750854, 0.8384000062942505, 0.8285999894142151, 0.8137999773025513, 0.8065999746322632, 0.800599992275238, 0.7989000082015991, 0.397599995136261, 0.5235000252723694, 0.3368000090122223, 0.295199990272522, 0.4207000136375427, 0.3982999920845032, 0.2766999900341034, 0.2784999907016754, 0.16300000250339508, 0.3188999891281128, 0.3303000032901764, 0.326200008392334, 0.26649999618530273, 0.045499999076128006, 0.18199999630451202, 0.09600000083446503, 0.04259999841451645, 0.23579999804496765, 0.24240000545978546, 0.2921000123023987, 0.34700000286102295, 0.1378999948501587, -0.057999998331069946, 0.10869999974966049, 0.3075000047683716, -0.09790000319480896, -0.047200001776218414, 0.15760000050067902, 0.17910000681877136, -0.05979999899864197, 0.20720000565052032, 0.05209999904036522, 0.05779999867081642, 0.17560000717639923, -0.14659999310970306, -0.289900004863739, -0.13439999520778656, 0.03999999910593033, -0.40389999747276306, -0.15680000185966492, -0.08860000222921371, -0.08229999989271164, -0.017000000923871994, -0.05040000006556511, -0.06629999727010727], \"logprob\": [30.0, 29.0, 28.0, 27.0, 26.0, 25.0, 24.0, 23.0, 22.0, 21.0, 20.0, 19.0, 18.0, 17.0, 16.0, 15.0, 14.0, 13.0, 12.0, 11.0, 10.0, 9.0, 8.0, 7.0, 6.0, 5.0, 4.0, 3.0, 2.0, 1.0, -10.665300369262695, -10.690400123596191, -10.691399574279785, -10.692399978637695, -10.828700065612793, -10.882800102233887, -10.065699577331543, -11.584600448608398, -11.611000061035156, -10.96399974822998, -10.976099967956543, -10.992500305175781, -11.644000053405762, -9.862299919128418, -11.033699989318848, -11.033900260925293, -11.711600303649902, -11.716899871826172, -11.742600440979004, -11.096199989318848, -11.096199989318848, -11.11139965057373, -11.774200439453125, -11.133700370788574, -11.793700218200684, -11.801899909973145, -11.806099891662598, -11.177800178527832, -11.182600021362305, -11.034500122070312, -10.332099914550781, -9.896599769592285, -4.657599925994873, -5.508900165557861, -5.770199775695801, -4.477200031280518, -7.429800033569336, -6.248199939727783, -6.379799842834473, -5.703199863433838, -4.683700084686279, -6.817699909210205, -4.390600204467773, -4.607399940490723, -6.45959997177124, -6.436299800872803, -6.253799915313721, -4.799499988555908, -5.244100093841553, -6.020100116729736, -6.3155999183654785, -5.958099842071533, -5.7957000732421875, -6.678800106048584, -5.720699787139893, -5.765600204467773, -5.723400115966797, -5.663599967956543, -4.614299774169922, -5.787199974060059, -5.51639986038208, -5.571499824523926, -5.241600036621094, -6.271599769592285, -6.014599800109863, -5.471199989318848, -4.787499904632568, -5.3796000480651855, -5.66510009765625, -5.9095001220703125, -4.7093000411987305, -5.7133002281188965, -5.639599800109863, -5.124800205230713, -5.795599937438965, -5.805699825286865, -10.445899963378906, -10.708900451660156, -10.728500366210938, -10.219200134277344, -10.873499870300293, -11.634699821472168, -11.653800010681152, -11.311599731445312, -11.024700164794922, -11.674099922180176, -11.048800468444824, -11.700300216674805, -11.711000442504883, -10.916000366210938, -11.767499923706055, -11.121899604797363, -11.775500297546387, -11.145400047302246, -11.149700164794922, -11.149499893188477, -11.150300025939941, -10.62399959564209, -11.153200149536133, -11.818099975585938, -11.82040023803711, -11.179200172424316, -11.041600227355957, -11.517600059509277, -11.864399909973145, -11.027799606323242, -10.617899894714355, -5.685400009155273, -5.61269998550415, -6.152299880981445, -4.519599914550781, -5.426300048828125, -6.721499919891357, -5.137199878692627, -5.518700122833252, -7.273499965667725, -6.285900115966797, -6.251999855041504, -7.446300029754639, -4.524400234222412, -6.571800231933594, -8.44789981842041, -5.504000186920166, -4.790599822998047, -4.685699939727783, -6.080599784851074, -6.421800136566162, -4.358399868011475, -5.942299842834473, -6.14109992980957, -6.091700077056885, -6.698400020599365, -5.643599987030029, -4.843900203704834, -5.6915998458862305, -6.123499870300293, -5.5883002281188965, -5.553699970245361, -5.927499771118164, -6.596199989318848, -5.588399887084961, -4.792200088500977, -5.642300128936768, -5.752099990844727, -5.457699775695801, -4.831500053405762, -5.130499839782715, -5.386300086975098, -5.207099914550781, -5.654099941253662, -5.767199993133545, -5.815299987792969, -5.8404998779296875, -5.689599990844727, -5.8105998039245605, -11.121299743652344, -10.84000015258789, -11.205400466918945, -10.934200286865234, -11.032999992370605, -10.44909954071045, -11.072999954223633, -11.08080005645752, -11.139200210571289, -10.310099601745605, -11.168399810791016, -11.240500450134277, -11.195599555969238, -10.678899765014648, -10.680000305175781, -11.857999801635742, -11.027400016784668, -10.576299667358398, -11.875300407409668, -11.87559986114502, -11.240400314331055, -10.069199562072754, -11.907999992370605, -11.573800086975098, -11.269000053405762, -11.925999641418457, -11.27910041809082, -11.931500434875488, -11.590200424194336, -10.196100234985352, -9.937700271606445, -7.629499912261963, -5.747499942779541, -6.414899826049805, -7.426400184631348, -8.162799835205078, -7.070400238037109, -7.641600131988525, -5.8155999183654785, -4.3130998611450195, -7.0243000984191895, -6.4070000648498535, -7.479700088500977, -4.3744001388549805, -6.679900169372559, -4.741700172424316, -4.271999835968018, -6.407899856567383, -5.650700092315674, -5.432400226593018, -6.814499855041504, -5.457200050354004, -5.60890007019043, -6.14870023727417, -6.302999973297119, -5.28849983215332, -6.778800010681152, -4.75570011138916, -6.368299961090088, -5.730500221252441, -6.978899955749512, -4.702499866485596, -6.22730016708374, -6.576700210571289, -5.5584001541137695, -5.486000061035156, -4.937699794769287, -5.708499908447266, -5.9430999755859375, -5.0777997970581055, -5.656400203704834, -6.135700225830078, -5.6605000495910645, -5.878499984741211, -5.936699867248535, -5.50629997253418, -5.438300132751465, -5.755199909210205, -5.878300189971924, -5.823200225830078, -5.88670015335083, -5.376399993896484, -5.335299968719482, -5.847899913787842, -5.868899822235107, -5.874100208282471, -10.648099899291992, -10.749600410461426, -10.75529956817627, -10.959099769592285, -10.382499694824219, -10.80739974975586, -11.654800415039062, -11.686400413513184, -11.707300186157227, -11.124799728393555, -11.186100006103516, -10.404199600219727, -11.805299758911133, -11.471099853515625, -11.813300132751465, -11.822699546813965, -11.82450008392334, -11.005200386047363, -10.556699752807617, -11.009499549865723, -11.855500221252441, -11.212300300598145, -11.21780014038086, -10.375699996948242, -11.223299980163574, -11.873600006103516, -11.885199546813965, -9.531599998474121, -11.92650032043457, -11.27910041809082, -6.174300193786621, -9.64050006866455, -6.376100063323975, -7.476500034332275, -5.1149001121521, -4.4039998054504395, -6.299300193786621, -6.581099987030029, -5.5177001953125, -7.402500152587891, -7.737400054931641, -6.880099773406982, -5.7332000732421875, -6.003799915313721, -6.399099826812744, -4.758600234985352, -4.856299877166748, -5.423399925231934, -6.0680999755859375, -5.459099769592285, -5.67519998550415, -4.774600028991699, -6.72130012512207, -6.237500190734863, -5.895400047302246, -6.579100131988525, -4.569499969482422, -5.645599842071533, -5.634300231933594, -6.341100215911865, -4.777699947357178, -5.958099842071533, -4.472700119018555, -4.8368000984191895, -5.773900032043457, -6.145500183105469, -5.740699768066406, -5.980999946594238, -5.000899791717529, -5.397299766540527, -5.731500148773193, -4.804299831390381, -5.917099952697754, -5.744900226593018, -5.604700088500977, -5.472700119018555, -5.677999973297119, -5.7434000968933105, -5.806300163269043, -5.812600135803223, -5.805200099945068, -5.809700012207031, -10.524499893188477, -10.711000442504883, -10.04889965057373, -11.476200103759766, -10.833800315856934, -10.843899726867676, -8.683899879455566, -10.937299728393555, -10.992400169372559, -11.073399543762207, -11.729100227355957, -10.449899673461914, -11.751099586486816, -11.758500099182129, -10.916899681091309, -11.76259994506836, -10.7878999710083, -11.150400161743164, -9.967700004577637, -11.853899955749512, -10.859700202941895, -11.868499755859375, -11.22029972076416, -11.031299591064453, -11.531800270080566, -11.874199867248535, -11.28279972076416, -10.586799621582031, -11.083800315856934, -11.238200187683105, -10.609199523925781, -5.36870002746582, -7.410200119018555, -11.052900314331055, -5.64900016784668, -4.594699859619141, -6.690800189971924, -9.552900314331055, -6.055699825286865, -5.730899810791016, -6.627500057220459, -4.651299953460693, -5.9309000968933105, -6.752200126647949, -7.578400135040283, -6.4257001876831055, -4.525599956512451, -5.482699871063232, -6.210100173950195, -6.822999954223633, -4.496500015258789, -4.477399826049805, -6.337900161743164, -5.654600143432617, -5.8119001388549805, -6.132400035858154, -5.695499897003174, -5.633999824523926, -4.770599842071533, -5.641499996185303, -6.243899822235107, -5.436500072479248, -5.616300106048584, -5.669099807739258, -5.863699913024902, -5.260700225830078, -5.033199787139893, -5.69290018081665, -4.59689998626709, -5.682199954986572, -5.725800037384033, -5.468900203704834, -5.658199787139893, -5.688700199127197, -5.513700008392334, -5.1992998123168945, -5.373000144958496, -10.61299991607666, -10.679100036621094, -10.847999572753906, -10.88700008392334, -10.890399932861328, -11.665800094604492, -11.680299758911133, -11.685199737548828, -10.734700202941895, -10.71090030670166, -10.712699890136719, -11.71780014038086, -11.722900390625, -11.725000381469727, -10.163700103759766, -9.80090045928955, -11.764599800109863, -11.11769962310791, -11.773799896240234, -10.63379955291748, -11.780200004577637, -10.52649974822998, -10.653800010681152, -11.181300163269043, -10.992199897766113, -11.190699577331543, -11.84220027923584, -11.000100135803223, -11.84630012512207, -11.250200271606445, -10.882599830627441, -10.01360034942627, -9.483699798583984, -5.715700149536133, -6.74970006942749, -5.479800224304199, -5.883900165557861, -6.256800174713135, -6.985000133514404, -7.156300067901611, -5.605100154876709, -6.153500080108643, -4.243500232696533, -4.389200210571289, -6.311800003051758, -6.883500099182129, -5.104899883270264, -5.851500034332275, -5.578100204467773, -5.728799819946289, -6.006100177764893, -7.604899883270264, -5.874100208282471, -5.648600101470947, -6.35830020904541, -6.244200229644775, -6.514900207519531, -6.030600070953369, -4.886899948120117, -5.642600059509277, -5.6859002113342285, -5.8628997802734375, -4.885200023651123, -5.736700057983398, -5.538000106811523, -4.878600120544434, -4.976200103759766, -4.773099899291992, -5.625, -5.407199859619141, -5.687300205230713, -5.541299819946289, -5.020899772644043, -4.992300033569336, -5.304800033569336, -5.792600154876709, -5.720200061798096, -5.793000221252441, -5.815899848937988, -5.81850004196167, -10.584799766540527, -10.603599548339844, -11.444499969482422, -9.989999771118164, -10.343600273132324, -10.691399574279785, -11.541099548339844, -11.57349967956543, -10.97070026397705, -10.78600025177002, -10.859600067138672, -11.026900291442871, -11.71090030670166, -11.074000358581543, -11.746500015258789, -11.11359977722168, -11.131400108337402, -11.781200408935547, -11.16349983215332, -10.640299797058105, -11.167400360107422, -11.177000045776367, -11.828700065612793, -11.832300186157227, -11.835800170898438, -11.193400382995605, -11.501099586486816, -11.5068998336792, -10.101499557495117, -11.211799621582031, -10.383500099182129, -10.869999885559082, -6.322299957275391, -5.377500057220459, -5.437099933624268, -4.116300106048584, -6.261099815368652, -4.718299865722656, -5.632299900054932, -6.572199821472168, -5.996099948883057, -5.41949987411499, -4.64870023727417, -7.0706000328063965, -5.5167999267578125, -5.906700134277344, -6.51140022277832, -6.5594000816345215, -5.266300201416016, -5.883500099182129, -4.623199939727783, -5.490799903869629, -6.1468000411987305, -5.91540002822876, -5.6585001945495605, -5.723400115966797, -5.565800189971924, -5.991300106048584, -6.15369987487793, -5.920599937438965, -5.026400089263916, -4.700500011444092, -5.001100063323975, -4.973499774932861, -4.773799896240234, -5.443299770355225, -5.378200054168701, -5.658199787139893, -5.764800071716309, -5.78849983215332, -5.271299839019775, -5.782199859619141, -5.730199813842773, -5.832699775695801, -5.877299785614014, -10.564599990844727, -10.418299674987793, -10.064599990844727, -10.74940013885498, -10.752300262451172, -10.662300109863281, -10.894599914550781, -10.956299781799316, -10.960399627685547, -11.627599716186523, -10.81029987335205, -10.484000205993652, -10.393199920654297, -11.668899536132812, -11.034199714660645, -10.681300163269043, -11.689800262451172, -10.870800018310547, -10.91569995880127, -11.759300231933594, -10.620400428771973, -11.76550006866455, -11.43340015411377, -11.130800247192383, -11.779999732971191, -11.782899856567383, -11.13659954071045, -11.143899917602539, -10.962400436401367, -11.814399719238281, -10.97350025177002, -9.92240047454834, -7.954899787902832, -5.571400165557861, -10.57979965209961, -5.546000003814697, -4.3394999504089355, -9.55090045928955, -4.533199787139893, -6.328499794006348, -6.561999797821045, -7.298900127410889, -6.014800071716309, -4.620699882507324, -5.983399868011475, -6.636499881744385, -6.06879997253418, -5.124199867248535, -6.60129976272583, -4.908899784088135, -7.538599967956543, -4.51639986038208, -6.188600063323975, -5.938300132751465, -6.638999938964844, -6.690000057220459, -4.906499862670898, -5.927599906921387, -6.1132001876831055, -6.143799781799316, -6.173799991607666, -6.12470006942749, -4.935800075531006, -5.67710018157959, -5.763800144195557, -4.806700229644775, -5.937699794769287, -6.311800003051758, -5.783400058746338, -5.0742998123168945, -5.8892998695373535, -4.736199855804443, -5.669000148773193, -5.501500129699707, -5.4980998039245605, -5.669899940490723, -5.835000038146973, -5.7291998863220215, -5.647200107574463, -5.7540998458862305, -5.808000087738037, -5.756499767303467, -5.835899829864502, -5.879199981689453, -5.910600185394287, -11.425399780273438, -10.846799850463867, -10.85200023651123, -10.9443998336792, -11.606800079345703, -11.613300323486328, -10.786499977111816, -11.643400192260742, -11.65530014038086, -11.040900230407715, -11.077300071716309, -11.08650016784668, -11.74209976196289, -11.102999687194824, -11.114500045776367, -11.428400039672852, -11.772500038146973, -11.128600120544434, -10.937899589538574, -11.785099983215332, -11.137900352478027, -11.163800239562988, -11.815199851989746, -11.169699668884277, -11.17300033569336, -10.032699584960938, -10.652799606323242, -11.252099990844727, -11.20930004119873, -11.226300239562988, -10.293499946594238, -9.694299697875977, -4.541600227355957, -5.707499980926514, -6.225800037384033, -4.1732001304626465, -6.456500053405762, -6.440000057220459, -5.513299942016602, -4.3979997634887695, -6.005000114440918, -6.045300006866455, -6.436100006103516, -7.599699974060059, -5.55079984664917, -4.678199768066406, -5.865300178527832, -6.577700138092041, -7.333099842071533, -4.519499778747559, -6.879000186920166, -6.475500106811523, -5.938300132751465, -5.888000011444092, -5.199999809265137, -6.840099811553955, -5.514999866485596, -5.5233001708984375, -4.68179988861084, -5.358699798583984, -4.818999767303467, -6.3242998123168945, -6.1066999435424805, -5.497799873352051, -5.726900100708008, -5.767499923706055, -5.10260009765625, -5.04580020904541, -5.667500019073486, -5.152599811553955, -5.510700225830078, -5.798699855804443, -5.819699764251709, -5.919000148773193, -5.906199932098389, -5.848899841308594, -5.872600078582764, -5.902400016784668, -10.51710033416748, -10.62720012664795, -11.333600044250488, -10.696900367736816, -8.508500099182129, -10.780799865722656, -11.457500457763672, -11.464099884033203, -10.838700294494629, -11.526700019836426, -11.588700294494629, -10.585100173950195, -10.19219970703125, -11.596400260925293, -10.952300071716309, -10.79259967803955, -11.63640022277832, -11.326899528503418, -11.716300010681152, -11.068699836730957, -11.072600364685059, -11.098799705505371, -11.09939956665039, -10.492199897766113, -11.121899604797363, -11.431300163269043, -10.815099716186523, -10.347000122070312, -11.156999588012695, -11.162599563598633, -10.970499992370605, -5.406099796295166, -7.3317999839782715, -5.546800136566162, -5.335899829864502, -6.720099925994873, -6.576700210571289, -5.58519983291626, -5.638599872589111, -4.6128997802734375, -6.003200054168701, -6.134200096130371, -6.1020002365112305, -5.71120023727417, -4.337600231170654, -5.359000205993652, -4.80709981918335, -4.527299880981445, -5.8902997970581055, -6.028600215911865, -6.382199764251709, -6.739699840545654, -5.567599773406982, -4.702300071716309, -5.539599895477295, -6.567599773406982, -4.642399787902832, -4.978499889373779, -5.892899990081787, -5.992099761962891, -5.065499782562256, -6.155099868774414, -5.6508002281188965, -5.757800102233887, -6.10290002822876, -5.443900108337402, -5.156799793243408, -5.558499813079834, -5.874599933624268, -5.18720006942749, -5.568299770355225, -5.726399898529053, -5.758699893951416, -5.868100166320801, -5.8628997802734375, -5.873700141906738]}, \"token.table\": {\"Topic\": [1, 2, 3, 4, 5, 6, 7, 8, 9, 10, 1, 2, 3, 4, 5, 6, 7, 8, 9, 10, 1, 2, 3, 4, 5, 6, 7, 8, 9, 10, 5, 1, 2, 3, 4, 5, 6, 7, 8, 9, 10, 1, 2, 3, 4, 5, 6, 7, 8, 9, 10, 2, 1, 2, 3, 4, 5, 6, 7, 8, 9, 10, 10, 1, 2, 3, 4, 5, 6, 7, 8, 9, 10, 1, 2, 3, 4, 5, 6, 7, 8, 9, 10, 10, 1, 2, 3, 4, 5, 6, 7, 8, 9, 10, 1, 4, 3, 10, 2, 5, 6, 1, 2, 3, 4, 5, 6, 7, 8, 9, 10, 5, 6, 7, 5, 6, 9, 10, 10, 1, 2, 3, 4, 5, 6, 7, 8, 9, 10, 1, 2, 3, 4, 5, 6, 7, 8, 9, 10, 1, 1, 2, 3, 4, 5, 6, 7, 8, 9, 10, 7, 8, 1, 2, 3, 4, 5, 6, 7, 8, 9, 10, 6, 1, 2, 3, 4, 5, 6, 7, 8, 9, 10, 4, 7, 5, 1, 2, 3, 4, 5, 6, 7, 8, 9, 10, 1, 2, 3, 4, 5, 6, 7, 8, 9, 10, 5, 1, 2, 3, 4, 5, 6, 7, 8, 9, 10, 7, 8, 1, 3, 6, 7, 1, 2, 3, 4, 5, 6, 7, 8, 9, 10, 1, 2, 3, 4, 5, 6, 7, 8, 9, 10, 7, 2, 9, 2, 9, 9, 10, 1, 2, 3, 4, 5, 6, 7, 8, 9, 10, 1, 8, 10, 1, 4, 7, 4, 1, 2, 3, 4, 5, 6, 7, 8, 9, 10, 1, 2, 3, 4, 5, 6, 7, 8, 9, 10, 3, 8, 1, 2, 3, 4, 5, 6, 7, 8, 9, 10, 2, 4, 7, 8, 1, 2, 3, 4, 5, 6, 7, 8, 9, 10, 4, 1, 2, 3, 4, 5, 6, 7, 8, 9, 10, 1, 2, 3, 4, 5, 6, 7, 8, 9, 10, 9, 10, 1, 2, 3, 4, 5, 6, 7, 8, 9, 10, 5, 7, 2, 5, 1, 2, 3, 4, 5, 6, 7, 8, 9, 10, 1, 2, 3, 4, 5, 6, 7, 8, 9, 10, 1, 2, 3, 4, 5, 6, 7, 8, 9, 10, 1, 10, 1, 2, 3, 4, 5, 6, 7, 8, 9, 10, 1, 2, 1, 2, 3, 4, 5, 7, 8, 9, 10, 1, 2, 10, 9, 3, 5, 6, 9, 10, 1, 6, 7, 1, 9, 10, 1, 2, 3, 4, 5, 6, 7, 8, 9, 10, 1, 2, 3, 4, 5, 6, 7, 8, 9, 10, 1, 2, 3, 4, 5, 6, 7, 8, 9, 10, 1, 3, 5, 6, 7, 8, 10, 1, 2, 3, 4, 5, 6, 7, 8, 9, 10, 2, 3, 6, 1, 2, 3, 4, 5, 6, 7, 8, 9, 10, 1, 2, 3, 4, 5, 6, 7, 8, 9, 10, 9, 1, 4, 2, 3, 1, 2, 3, 4, 5, 6, 7, 8, 9, 10, 1, 2, 3, 4, 5, 6, 7, 8, 9, 10, 1, 2, 3, 4, 5, 6, 7, 8, 9, 10, 2, 1, 2, 3, 4, 5, 6, 7, 8, 9, 10, 1, 4, 5, 3, 5, 1, 2, 3, 4, 5, 6, 7, 8, 9, 10, 5, 1, 2, 1, 9, 6, 10, 1, 2, 3, 4, 5, 6, 7, 8, 9, 10, 1, 2, 3, 4, 5, 6, 7, 8, 9, 10, 1, 2, 3, 4, 5, 6, 7, 8, 9, 10, 1, 2, 3, 4, 5, 6, 7, 8, 9, 10, 10, 10, 2, 9, 10, 2, 3, 6, 8, 1, 2, 3, 4, 5, 6, 7, 8, 9, 10, 1, 4, 6, 8, 7, 8, 10, 1, 2, 3, 4, 5, 6, 7, 8, 9, 10, 3, 7, 1, 2, 3, 4, 5, 6, 7, 8, 9, 10, 1, 2, 3, 4, 5, 6, 7, 8, 9, 10, 8, 1, 2, 3, 4, 5, 6, 7, 8, 9, 10, 1, 10, 1, 1, 1, 2, 10, 1, 2, 3, 4, 5, 6, 7, 8, 9, 10, 1, 2, 3, 4, 5, 6, 7, 8, 9, 10, 1, 2, 3, 4, 5, 6, 7, 8, 9, 10, 1, 2, 3, 4, 5, 6, 7, 8, 9, 10, 1, 2, 3, 4, 5, 6, 7, 8, 9, 10, 7, 8, 10, 1, 3, 10, 5, 6, 9, 1, 2, 3, 4, 5, 6, 7, 8, 9, 10, 1, 2, 3, 4, 5, 6, 7, 8, 9, 10, 1, 2, 3, 4, 5, 6, 7, 8, 9, 10, 1, 2, 3, 4, 5, 6, 7, 8, 9, 10, 1, 2, 3, 4, 5, 6, 7, 8, 9, 10, 3, 7, 8, 1, 2, 3, 4, 5, 6, 7, 8, 9, 10, 1, 2, 3, 4, 5, 6, 7, 8, 9, 10, 1, 1, 2, 3, 4, 5, 6, 7, 8, 9, 10, 1, 2, 3, 4, 5, 6, 7, 8, 9, 10, 1, 2, 3, 4, 5, 6, 7, 8, 9, 10, 1, 2, 3, 4, 5, 6, 7, 8, 9, 10, 1, 2, 3, 4, 5, 6, 7, 8, 9, 10, 1, 4, 7, 8, 1, 2, 3, 4, 5, 6, 7, 8, 9, 10, 8, 1, 2, 3, 4, 5, 6, 7, 8, 9, 10, 4, 7, 1, 2, 3, 4, 5, 6, 7, 8, 9, 10, 1, 2, 3, 4, 5, 6, 7, 8, 9, 10, 6, 1, 2, 3, 4, 5, 6, 7, 8, 9, 10, 1, 2, 3, 4, 5, 6, 7, 8, 9, 10, 3, 4, 7, 1, 2, 3, 7, 8, 9, 9, 1, 2, 3, 4, 5, 6, 7, 8, 9, 10, 2, 4, 1, 2, 3, 4, 5, 6, 7, 8, 9, 10, 7, 1, 2, 3, 4, 5, 6, 7, 8, 9, 10, 1, 2, 3, 4, 5, 6, 7, 8, 9, 10, 1, 2, 3, 10, 6, 9, 9, 1, 2, 3, 4, 5, 6, 7, 8, 9, 10, 1, 2, 3, 4, 5, 6, 7, 8, 9, 10, 4, 7, 1, 9, 1, 2, 3, 4, 5, 6, 7, 8, 9, 10, 1, 3, 2, 3, 6, 10, 1, 2, 3, 4, 5, 6, 7, 8, 9, 10, 1, 5, 6, 7, 8, 9, 1, 2, 3, 4, 5, 6, 7, 8, 9, 10, 4, 1, 2, 3, 4, 5, 6, 7, 8, 9, 10, 1, 2, 3, 4, 5, 6, 7, 8, 9, 10, 1, 2, 5, 7, 8, 1, 2, 3, 4, 5, 6, 7, 8, 9, 10, 1, 2, 3, 4, 5, 6, 7, 8, 9, 10, 7, 1, 2, 3, 4, 5, 6, 7, 8, 9, 10, 7, 8, 2, 4, 5, 6, 7, 8, 6, 1, 2, 3, 4, 5, 6, 7, 8, 9, 10, 6, 8, 3, 1, 3, 4, 6, 7, 1, 2, 5, 1, 3, 5, 1, 2, 3, 4, 5, 6, 7, 8, 9, 10, 1, 5, 5, 6, 7, 10, 1, 2, 3, 4, 5, 6, 7, 8, 9, 10, 6, 1, 2, 3, 4, 5, 6, 7, 8, 9, 10, 5, 1, 2, 3, 4, 5, 6, 7, 8, 9, 10, 4, 8, 9, 10, 1, 2, 3, 4, 5, 6, 7, 8, 9, 10, 1, 2, 3, 4, 5, 6, 7, 8, 9, 10, 1, 2, 3, 4, 5, 6, 7, 8, 9, 10, 1, 2, 3, 4, 5, 6, 7, 8, 9, 10, 1, 2, 3, 4, 5, 6, 7, 8, 9, 10, 1, 2, 3, 4, 5, 6, 7, 8, 9, 10, 1, 2, 3, 4, 5, 6, 7, 8, 9, 10, 10, 1, 2, 3, 4, 5, 6, 7, 8, 9, 10, 1, 4, 6, 7, 8, 10, 8, 2, 1, 2, 3, 4, 5, 6, 7, 8, 9, 10, 7, 8, 10, 1, 2, 3, 4, 5, 6, 7, 8, 9, 10, 1, 2, 3, 4, 5, 6, 7, 8, 9, 10, 9, 4, 7, 1, 2, 3, 4, 5, 6, 7, 8, 9, 10, 1, 2, 3, 4, 5, 6, 7, 8, 9, 10, 1, 2, 3, 4, 5, 7, 8, 9, 6, 1, 2, 3, 4, 5, 6, 7, 8, 9, 10, 7, 1, 2, 1, 2, 3, 4, 5, 6, 7, 8, 9, 10, 1, 2, 3, 4, 5, 6, 7, 8, 9, 10, 6, 7, 1, 2, 3, 4, 5, 6, 8, 9, 10, 1, 2, 3, 4, 5, 6, 7, 8, 9, 10, 6, 7, 1, 2, 3, 4, 5, 6, 7, 8, 9, 10, 1, 2, 3, 4, 5, 6, 7, 8, 9, 10, 1, 10, 1, 2, 3, 4, 5, 6, 7, 8, 9, 10, 1, 2, 3, 4, 5, 6, 7, 8, 9, 10, 1, 3, 4, 7, 8, 10, 1, 2, 3, 4, 5, 6, 7, 8, 9, 10, 1, 2, 3, 4, 5, 6, 7, 8, 9, 10, 1, 2, 3, 4, 5, 6, 7, 8, 9, 10, 1, 2, 3, 4, 5, 6, 7, 8, 9, 10, 1, 2, 3, 4, 5, 6, 7, 8, 9, 10, 2, 5, 5, 8, 1, 2, 3, 4, 5, 6, 7, 8, 9, 10, 1, 10, 1, 2, 3, 4, 5, 6, 7, 8, 9, 10, 1, 2, 3, 4, 5, 6, 7, 8, 9, 10, 1, 2, 3, 4, 5, 6, 7, 8, 9, 10, 1, 2, 3, 4, 5, 6, 7, 8, 9, 10, 3, 4, 6, 7, 8, 9, 10, 1, 2, 3, 4, 5, 6, 7, 8, 9, 10, 1, 3, 1, 2, 3, 4, 5, 6, 7, 8, 9, 10, 1, 2, 3, 4, 5, 6, 7, 8, 9, 10, 3, 4, 9, 1, 2, 3, 4, 5, 6, 7, 8, 9, 10, 1, 2, 3, 4, 5, 6, 7, 8, 9, 10, 4, 1, 2, 3, 4, 5, 6, 7, 8, 9, 10, 8, 1, 2, 3, 4, 5, 6, 7, 8, 9, 10, 1, 2, 3, 4, 5, 6, 7, 8, 9, 10, 1, 2, 1, 8, 10, 6, 1, 2, 3, 4, 5, 6, 7, 8, 9, 10, 1, 2, 3, 4, 5, 6, 7, 8, 9, 10, 8, 1, 8, 1, 2, 3, 4, 5, 6, 7, 8, 9, 10, 1, 2, 3, 4, 5, 6, 7, 8, 9, 10, 1, 2, 1, 2, 3, 4, 5, 6, 7, 8, 9, 10, 1, 2, 3, 4, 5, 6, 7, 8, 9, 10, 1, 2, 3, 4, 5, 6, 7, 8, 9, 10, 1, 3, 4, 5, 6, 7, 8, 9, 10, 1, 2, 3, 4, 5, 6, 7, 8, 9, 10, 2, 9, 1, 2, 3, 4, 5, 6, 7, 8, 9, 10, 1, 2, 3, 4, 5, 6, 7, 8, 9, 10, 1, 2, 3, 4, 5, 6, 7, 8, 9, 10, 1, 3, 1, 2, 3, 4, 5, 6, 7, 8, 9, 10, 9, 1, 2, 3, 4, 5, 6, 7, 8, 9, 10, 3, 10, 1, 2, 3, 4, 5, 6, 7, 8, 9, 10, 1, 7, 9, 3, 4, 10, 2, 1, 2, 3, 4, 5, 6, 7, 8, 9, 10, 1, 2, 3, 4, 5, 6, 7, 8, 9, 10, 2, 4, 5, 8, 9, 5, 1, 3, 6, 8, 9, 1, 2, 3, 4, 5, 6, 7, 8, 9, 10, 1, 2, 3, 4, 5, 6, 7, 8, 9, 10, 1, 2, 3, 4, 5, 6, 7, 8, 9, 10, 1, 2, 3, 4, 5, 6, 7, 8, 9, 10, 1, 2, 3, 4, 5, 6, 7, 8, 9, 10, 1, 2, 3, 4, 5, 6, 7, 8, 9, 10, 8, 1, 4, 5, 10, 7, 10, 9, 9, 7, 1, 2, 3, 4, 5, 6, 7, 8, 9, 10, 1, 5, 8, 10, 1, 3, 5, 6, 8, 10, 1, 2, 3, 4, 5, 6, 7, 8, 9, 10, 1, 2, 3, 4, 5, 6, 7, 8, 9, 10, 1, 2, 3, 4, 5, 6, 7, 8, 9, 10, 1, 8, 3, 5, 6, 9, 1, 2, 3, 4, 5, 6, 7, 8, 9, 10, 1, 2, 3, 4, 5, 6, 7, 8, 9, 10, 1, 2, 4, 2, 7, 9, 1, 2, 3, 4, 5, 6, 7, 8, 9, 10, 9, 1, 2, 3, 4, 5, 6, 7, 8, 9, 10, 1, 2, 3, 4, 5, 6, 7, 8, 9, 10, 1, 2, 3, 4, 5, 6, 7, 8, 9, 10, 5, 1, 2, 3, 4, 5, 6, 7, 8, 9, 10, 1, 2, 3, 4, 5, 6, 7, 8, 9, 10, 3, 4, 1, 2, 3, 4, 5, 6, 7, 8, 9, 10, 1, 9, 1, 2, 3, 4, 5, 6, 7, 8, 9, 10, 7, 8, 1, 4, 5, 7, 8, 9, 2, 3, 4, 7, 8, 9, 10, 1, 2, 3, 4, 5, 6, 7, 8, 9, 10, 1, 5, 1, 2, 3, 4, 5, 6, 7, 8, 9, 10, 1, 2, 3, 4, 5, 6, 7, 8, 9, 10, 3, 10, 1, 2, 3, 4, 5, 6, 7, 8, 9, 10, 1, 2, 5, 6, 8, 10, 1, 2, 3, 4, 5, 6, 7, 8, 9, 10, 1, 2, 3, 4, 5, 6, 7, 8, 9, 10, 1, 2, 3, 4, 5, 6, 7, 8, 9, 10, 1, 2, 3, 4, 5, 6, 7, 8, 9, 10, 9, 1, 2, 3, 4, 5, 6, 7, 8, 9, 10, 1, 2, 3, 4, 5, 6, 7, 8, 9, 10, 1, 2, 3, 4, 5, 6, 7, 8, 9, 10, 1, 2, 3, 4, 5, 6, 7, 8, 9, 10, 1, 2, 3, 4, 5, 6, 7, 8, 9, 10, 7, 1, 2, 3, 4, 5, 6, 7, 8, 9, 10, 2, 3, 4, 6, 1, 2, 3, 4, 5, 6, 7, 8, 9, 10, 1, 2, 3, 4, 5, 6, 7, 8, 9, 10, 1, 2, 3, 4, 5, 6, 7, 8, 9, 10, 1, 2, 1, 2, 3, 4, 5, 6, 7, 8, 9, 10, 2, 7, 5, 8, 1, 2, 3, 4, 5, 6, 7, 8, 9, 10, 6, 1, 2, 3, 4, 5, 6, 7, 8, 9, 10, 4, 8, 1, 2, 3, 4, 5, 6, 7, 8, 9, 10, 2, 3, 4, 5, 6, 7, 8, 10, 2, 10, 1, 2, 3, 4, 5, 6, 7, 8, 9, 10, 1, 2, 3, 4, 5, 6, 7, 8, 9, 10, 3, 4, 6, 1, 3, 4, 5, 7, 8, 9, 1, 2, 3, 4, 5, 6, 7, 8, 9, 10, 1, 3, 10, 1, 2, 3, 4, 5, 6, 7, 8, 9, 10, 1, 6, 7, 9, 8, 1, 2, 3, 4, 5, 6, 7, 8, 9, 10, 1, 2, 3, 4, 5, 7, 8, 10, 1, 2, 3, 4, 5, 6, 7, 8, 9, 10], \"Freq\": [0.1248660683631897, 0.07794312387704849, 0.12054679542779922, 0.07813945412635803, 0.10680367797613144, 0.11603119969367981, 0.07892477512359619, 0.09993211925029755, 0.11131927371025085, 0.085403673350811, 0.09517687559127808, 0.1012519896030426, 0.09517687559127808, 0.13770270347595215, 0.08505167067050934, 0.08910175412893295, 0.09720191359519958, 0.0992269515991211, 0.1012519896030426, 0.09720191359519958, 0.10218806564807892, 0.08272366970777512, 0.09245587140321732, 0.09732196480035782, 0.10705416649580002, 0.11678636074066162, 0.08272366970777512, 0.15084904432296753, 0.09245587140321732, 0.07785757631063461, 0.3270617425441742, 0.13097944855690002, 0.09274321794509888, 0.11064102500677109, 0.10982748866081238, 0.08460784703493118, 0.12609823048114777, 0.08216723054647446, 0.09030260145664215, 0.0862349197268486, 0.08704845607280731, 0.05942832678556442, 0.1118650883436203, 0.1118650883436203, 0.09788195043802261, 0.13283978402614594, 0.15381449460983276, 0.07341146469116211, 0.09089038521051407, 0.10137773305177689, 0.06641989201307297, 0.28117650747299194, 0.11910748481750488, 0.10938442498445511, 0.08143062889575958, 0.12639978528022766, 0.11667671799659729, 0.10087674856185913, 0.09358444809913635, 0.09723059833049774, 0.08750753849744797, 0.06684603542089462, 0.32724809646606445, 0.0968795046210289, 0.1044778972864151, 0.1177750900387764, 0.113975889980793, 0.0740843266248703, 0.0721847340464592, 0.1348714679479599, 0.1006787046790123, 0.0854819193482399, 0.1006787046790123, 0.07204392552375793, 0.07924831658601761, 0.17290541529655457, 0.1080658808350563, 0.08645270764827728, 0.12967905402183533, 0.1080658808350563, 0.07924831658601761, 0.07204392552375793, 0.08645270764827728, 0.44457653164863586, 0.1286352276802063, 0.1286352276802063, 0.1286352276802063, 0.1286352276802063, 0.1286352276802063, 0.1286352276802063, 0.1286352276802063, 0.1286352276802063, 0.2572704553604126, 0.1286352276802063, 0.32719486951828003, 0.32719486951828003, 0.3273845314979553, 0.3273845314979553, 0.22899481654167175, 0.22899481654167175, 0.22899481654167175, 0.08923432230949402, 0.08923432230949402, 0.08923432230949402, 0.08923432230949402, 0.08923432230949402, 0.08923432230949402, 0.08923432230949402, 0.17846864461898804, 0.08923432230949402, 0.08923432230949402, 0.22901880741119385, 0.22901880741119385, 0.22901880741119385, 0.17647671699523926, 0.17647671699523926, 0.17647671699523926, 0.17647671699523926, 0.6267352104187012, 0.07993188500404358, 0.07993188500404358, 0.15986377000808716, 0.07993188500404358, 0.07993188500404358, 0.15986377000808716, 0.07993188500404358, 0.07993188500404358, 0.07993188500404358, 0.07993188500404358, 0.16113455593585968, 0.07591916620731354, 0.087539441883564, 0.11697748303413391, 0.09451161324977875, 0.07746853679418564, 0.087539441883564, 0.0906381830573082, 0.08289133012294769, 0.12394965440034866, 0.32734736800193787, 0.10284293442964554, 0.11366850882768631, 0.14614522457122803, 0.11096211522817612, 0.08389818668365479, 0.09472375363111496, 0.06765982508659363, 0.0757790058851242, 0.09201736003160477, 0.1163749024271965, 0.3272866904735565, 0.3272866904735565, 0.09685061126947403, 0.10718134790658951, 0.10589000582695007, 0.07489781081676483, 0.09297658503055573, 0.11105536669492722, 0.09297658503055573, 0.1033073216676712, 0.08522854000329971, 0.13042549788951874, 0.3266237676143646, 0.09070809185504913, 0.1102452203631401, 0.10047665983438492, 0.07256647199392319, 0.11233848333358765, 0.125595822930336, 0.14443519711494446, 0.055820364505052567, 0.09768563508987427, 0.0893125832080841, 0.32716935873031616, 0.32716935873031616, 0.2694609761238098, 0.0771208181977272, 0.10122107714414597, 0.08676092326641083, 0.12532132863998413, 0.08676092326641083, 0.06748072057962418, 0.12532132863998413, 0.08676092326641083, 0.14460153877735138, 0.10122107714414597, 0.08438380062580109, 0.13949158787727356, 0.07232896983623505, 0.11710404604673386, 0.08266168087720871, 0.1136598140001297, 0.10849345475435257, 0.07921744883060455, 0.09471651166677475, 0.10849345475435257, 0.32704058289527893, 0.15853720903396606, 0.09928592294454575, 0.08807622641324997, 0.12170533090829849, 0.12971225380897522, 0.10409007966518402, 0.09288038313388824, 0.06565681844949722, 0.0960831567645073, 0.04323741793632507, 0.2694568336009979, 0.2694568336009979, 0.19354242086410522, 0.19354242086410522, 0.19354242086410522, 0.19354242086410522, 0.09029356390237808, 0.09160216897726059, 0.1256258338689804, 0.11908281594514847, 0.08636775612831116, 0.08636775612831116, 0.11123120039701462, 0.08375055342912674, 0.09552796930074692, 0.10992259532213211, 0.15997019410133362, 0.13097558915615082, 0.14497298002243042, 0.10198099911212921, 0.08098491281270981, 0.08498416095972061, 0.06198845058679581, 0.08598397672176361, 0.06098863482475281, 0.08698379248380661, 0.32728102803230286, 0.26972535252571106, 0.26972535252571106, 0.32700327038764954, 0.3274335265159607, 0.32742565870285034, 0.3271501660346985, 0.10123687237501144, 0.09780511260032654, 0.11153214424848557, 0.13898621499538422, 0.1063845083117485, 0.07549868524074554, 0.08579395711421967, 0.09437335282564163, 0.1063845083117485, 0.08236219733953476, 0.32685229182243347, 0.32685229182243347, 0.32685229182243347, 0.3273777961730957, 0.3273777961730957, 0.3273777961730957, 0.32714393734931946, 0.1091485470533371, 0.11674149334430695, 0.09681001305580139, 0.09491178393363953, 0.09206442534923553, 0.1271817833185196, 0.07118383795022964, 0.11769060790538788, 0.06928560137748718, 0.10440295934677124, 0.09874820709228516, 0.09874820709228516, 0.09874820709228516, 0.11191463470458984, 0.07899856567382812, 0.09216499328613281, 0.09216499328613281, 0.09216499328613281, 0.1514139175415039, 0.07899856567382812, 0.2290753722190857, 0.2290753722190857, 0.08850040286779404, 0.09956295788288116, 0.08850040286779404, 0.08850040286779404, 0.09956295788288116, 0.09956295788288116, 0.0774378553032875, 0.17700080573558807, 0.0774378553032875, 0.09956295788288116, 0.3432449996471405, 0.17162249982357025, 0.17162249982357025, 0.17162249982357025, 0.08967850357294083, 0.08440329879522324, 0.08440329879522324, 0.1582561880350113, 0.1055041179060936, 0.12132973968982697, 0.1055041179060936, 0.08967850357294083, 0.07385288178920746, 0.08967850357294083, 0.32682010531425476, 0.10973499715328217, 0.10363860428333282, 0.07315666228532791, 0.07925304770469666, 0.17679527401924133, 0.09144582599401474, 0.10973499715328217, 0.085349440574646, 0.07315666228532791, 0.09754221886396408, 0.1536354273557663, 0.11345385760068893, 0.07327228039503098, 0.08272676914930344, 0.09690850228071213, 0.11109023541212082, 0.0921812579035759, 0.06854503601789474, 0.11109023541212082, 0.09454488009214401, 0.32785576581954956, 0.32785576581954956, 0.14222067594528198, 0.10996443778276443, 0.09090393036603928, 0.10996443778276443, 0.07770819962024689, 0.12169397622346878, 0.08210677653551102, 0.09383631497621536, 0.09383631497621536, 0.07770819962024689, 0.3271719515323639, 0.3271719515323639, 0.3266843259334564, 0.3266843259334564, 0.0616123266518116, 0.1624324917793274, 0.08401680737733841, 0.11202240735292435, 0.09521904587745667, 0.10082016885280609, 0.1232246533036232, 0.08961793035268784, 0.09521904587745667, 0.07281456887722015, 0.07237842679023743, 0.0687595009803772, 0.13028116524219513, 0.07599734514951706, 0.10856764018535614, 0.13028116524219513, 0.14475685358047485, 0.11942440271377563, 0.09409195184707642, 0.0579027384519577, 0.08480658382177353, 0.12720987200737, 0.11711385101079941, 0.07269135862588882, 0.1049986258149147, 0.09490260481834412, 0.09894101321697235, 0.08884499222040176, 0.08278737962245941, 0.12720987200737, 0.32739701867103577, 0.32739701867103577, 0.08999891579151154, 0.09473570436239243, 0.09789355844259262, 0.09789355844259262, 0.1105249896645546, 0.08052534610033035, 0.1089460626244545, 0.07263070344924927, 0.14368247985839844, 0.1057882010936737, 0.3270066976547241, 0.3270066976547241, 0.10442128777503967, 0.10442128777503967, 0.10442128777503967, 0.10442128777503967, 0.10442128777503967, 0.10442128777503967, 0.10442128777503967, 0.20884257555007935, 0.10442128777503967, 0.3271650969982147, 0.26960286498069763, 0.26960286498069763, 0.6270164847373962, 0.1934320628643036, 0.1934320628643036, 0.1934320628643036, 0.1934320628643036, 0.1934320628643036, 0.2290307581424713, 0.2290307581424713, 0.2290307581424713, 0.2697940468788147, 0.2697940468788147, 0.2697940468788147, 0.10881652683019638, 0.11365281790494919, 0.10035301744937897, 0.10760745406150818, 0.09309858083724976, 0.10156209021806717, 0.10035301744937897, 0.07254435122013092, 0.08584414422512054, 0.11607096344232559, 0.08534663915634155, 0.09681110829114914, 0.13247835636138916, 0.10954941064119339, 0.09553727507591248, 0.1019064337015152, 0.07770365476608276, 0.10954941064119339, 0.07897748053073883, 0.11337090283632278, 0.12982264161109924, 0.11204929649829865, 0.10354901105165482, 0.08423016220331192, 0.17232409119606018, 0.08113914728164673, 0.07804813235998154, 0.06800233572721481, 0.07341160625219345, 0.09813973307609558, 0.14669518172740936, 0.14669518172740936, 0.14669518172740936, 0.14669518172740936, 0.14669518172740936, 0.14669518172740936, 0.14669518172740936, 0.10899055749177933, 0.054495278745889664, 0.054495278745889664, 0.10899055749177933, 0.10899055749177933, 0.21798111498355865, 0.10899055749177933, 0.054495278745889664, 0.1634858250617981, 0.054495278745889664, 0.32647448778152466, 0.32647448778152466, 0.32647448778152466, 0.10924500226974487, 0.1004171222448349, 0.09158924221992493, 0.1004171222448349, 0.07614045590162277, 0.12579727172851562, 0.10483106225728989, 0.08386484533548355, 0.08717530220746994, 0.12027984857559204, 0.14659573137760162, 0.09773049503564835, 0.08827270567417145, 0.11034087836742401, 0.1024593859910965, 0.12610386312007904, 0.09142529964447021, 0.06620452553033829, 0.10088308900594711, 0.06935712695121765, 0.32720401883125305, 0.3273475766181946, 0.3273475766181946, 0.44411563873291016, 0.32719478011131287, 0.08266732096672058, 0.10624783486127853, 0.0948641374707222, 0.11112655699253082, 0.12386545538902283, 0.09757453948259354, 0.08917228877544403, 0.0907985270023346, 0.13308082520961761, 0.07047049701213837, 0.09122858196496964, 0.12993161380290985, 0.11610911041498184, 0.07187706977128983, 0.14375413954257965, 0.12163811177015305, 0.09675759077072144, 0.08569958060979843, 0.04976104572415352, 0.09399309009313583, 0.0689641535282135, 0.10919323563575745, 0.16666336357593536, 0.09195219725370407, 0.09195219725370407, 0.1321812868118286, 0.08045817911624908, 0.07471116632223129, 0.08045817911624908, 0.10344622284173965, 0.32672473788261414, 0.12389109283685684, 0.12738098204135895, 0.13959559798240662, 0.0924820825457573, 0.08724724501371384, 0.07328768819570541, 0.08899219334125519, 0.0994618609547615, 0.08899219334125519, 0.07852252572774887, 0.2694926857948303, 0.2694926857948303, 0.2694926857948303, 0.327066570520401, 0.327066570520401, 0.0732787624001503, 0.10522078722715378, 0.08549188822507858, 0.11837338656187057, 0.14561805129051208, 0.1136760264635086, 0.09958396106958389, 0.09394712746143341, 0.09112871438264847, 0.07233928889036179, 0.32714903354644775, 0.3270944654941559, 0.3270944654941559, 0.3279654383659363, 0.3279654383659363, 0.32711029052734375, 0.32711029052734375, 0.10826390981674194, 0.10826390981674194, 0.10826390981674194, 0.10826390981674194, 0.10826390981674194, 0.10826390981674194, 0.2165278196334839, 0.10826390981674194, 0.10826390981674194, 0.10826390981674194, 0.09717438369989395, 0.12216208875179291, 0.0957861840724945, 0.0825982317328453, 0.10828003287315369, 0.11730336397886276, 0.09648028016090393, 0.08745694905519485, 0.10411541163921356, 0.08815105259418488, 0.11477325111627579, 0.10958994179964066, 0.11699467152357101, 0.11551371961832047, 0.09107812494039536, 0.10736852139234543, 0.08145198225975037, 0.1081089973449707, 0.07923056930303574, 0.07626867294311523, 0.12531155347824097, 0.11109180003404617, 0.08798470348119736, 0.10842559486627579, 0.14930738508701324, 0.08354103565216064, 0.07820862531661987, 0.09776078164577484, 0.08531850576400757, 0.07109875231981277, 0.32745790481567383, 0.3273855745792389, 0.32743963599205017, 0.32743963599205017, 0.32743963599205017, 0.2690807580947876, 0.2690807580947876, 0.2690807580947876, 0.32698461413383484, 0.12915505468845367, 0.1458202302455902, 0.09165842831134796, 0.11040674149990082, 0.08957528322935104, 0.08540898561477661, 0.12707191705703735, 0.09999100863933563, 0.07082696259021759, 0.0479123592376709, 0.1762283593416214, 0.1762283593416214, 0.1762283593416214, 0.1762283593416214, 0.26964032649993896, 0.26964032649993896, 0.26964032649993896, 0.13011226058006287, 0.14524158835411072, 0.07110786437988281, 0.07262079417705536, 0.09531479328870773, 0.0907759889960289, 0.1074182540178299, 0.08018545806407928, 0.0907759889960289, 0.11649585515260696, 0.2696690857410431, 0.2696690857410431, 0.14359959959983826, 0.08354885876178741, 0.07310525327920914, 0.08354885876178741, 0.14621050655841827, 0.12793418765068054, 0.11226877570152283, 0.0809379518032074, 0.06266164034605026, 0.08615975826978683, 0.10004395246505737, 0.09852813929319382, 0.13490775227546692, 0.10610722750425339, 0.09398068487644196, 0.11065467447042465, 0.09398068487644196, 0.08185414224863052, 0.09852813929319382, 0.08033832907676697, 0.32662293314933777, 0.13695676624774933, 0.0842810869216919, 0.08954865485429764, 0.07111217081546783, 0.09481622278690338, 0.13168920576572418, 0.07111217081546783, 0.10798514634370804, 0.06847838312387466, 0.14222434163093567, 0.3274633586406708, 0.3274633586406708, 0.3272184729576111, 0.3272677958011627, 0.1764063984155655, 0.1764063984155655, 0.1764063984155655, 0.11167514324188232, 0.12182743102312088, 0.08266861736774445, 0.10587383806705475, 0.12182743102312088, 0.1174764558672905, 0.07759246975183487, 0.06526469439268112, 0.10442351549863815, 0.0928208976984024, 0.11506043374538422, 0.05753021687269211, 0.05753021687269211, 0.23012086749076843, 0.11506043374538422, 0.11506043374538422, 0.05753021687269211, 0.05753021687269211, 0.11506043374538422, 0.11506043374538422, 0.11623096466064453, 0.08478023111820221, 0.06768744438886642, 0.11896581202745438, 0.11144497990608215, 0.09708704054355621, 0.09982188791036606, 0.09571961313486099, 0.1271703541278839, 0.08272909373044968, 0.06836646795272827, 0.10618621110916138, 0.1178230568766594, 0.10327699780464172, 0.09745857864618301, 0.10909542441368103, 0.06545725464820862, 0.1236414760351181, 0.12073227018117905, 0.09018555283546448, 0.08729478716850281, 0.1333014965057373, 0.09555239975452423, 0.11206763237714767, 0.09909138083457947, 0.07903717458248138, 0.10970831662416458, 0.07195921987295151, 0.12858286499977112, 0.08257614821195602, 0.26956111192703247, 0.26956111192703247, 0.26956111192703247, 0.327295184135437, 0.327295184135437, 0.32730937004089355, 0.26947611570358276, 0.26947611570358276, 0.26947611570358276, 0.10943422466516495, 0.08639544248580933, 0.16127149760723114, 0.07487604767084122, 0.09215513616800308, 0.09215513616800308, 0.09791483730077744, 0.09791483730077744, 0.08063574880361557, 0.10943422466516495, 0.07957559078931808, 0.07957559078931808, 0.07957559078931808, 0.10393546521663666, 0.10068748146295547, 0.12504735589027405, 0.14778323471546173, 0.09743949770927429, 0.08931954205036163, 0.09906348586082458, 0.11979444324970245, 0.10240492969751358, 0.08887974917888641, 0.09660842269659042, 0.10047275573015213, 0.13718396425247192, 0.1139979362487793, 0.06762589514255524, 0.11013360321521759, 0.06569372862577438, 0.11435165256261826, 0.0894288569688797, 0.0923609510064125, 0.10628839582204819, 0.08722978830337524, 0.12314793467521667, 0.07550141215324402, 0.10482235252857208, 0.08209862560033798, 0.12388096004724503, 0.10022412985563278, 0.18374423682689667, 0.08352010697126389, 0.10022412985563278, 0.10022412985563278, 0.06681608408689499, 0.06681608408689499, 0.10022412985563278, 0.11692815274000168, 0.08352010697126389, 0.19340205192565918, 0.19340205192565918, 0.19340205192565918, 0.12453345954418182, 0.1589788943529129, 0.07154049724340439, 0.10863557457923889, 0.15632924437522888, 0.05829225853085518, 0.0847887396812439, 0.09538733214139938, 0.0847887396812439, 0.05829225853085518, 0.10163124650716782, 0.10163124650716782, 0.09748303145170212, 0.07881607115268707, 0.11614999175071716, 0.09333481639623642, 0.09748303145170212, 0.10370535403490067, 0.13274285197257996, 0.07674196362495422, 0.3268289268016815, 0.11329999566078186, 0.08092856407165527, 0.10636325925588608, 0.09711427986621857, 0.07630407810211182, 0.08786530047655106, 0.12948571145534515, 0.1410469263792038, 0.09248979389667511, 0.07399183511734009, 0.0939168632030487, 0.07171833515167236, 0.09562443941831589, 0.09562443941831589, 0.10928507894277573, 0.06318043172359467, 0.12294571101665497, 0.14172908663749695, 0.1024547591805458, 0.10416234284639359, 0.06146032735705376, 0.12292065471410751, 0.12292065471410751, 0.18438097834587097, 0.06146032735705376, 0.06146032735705376, 0.06146032735705376, 0.12292065471410751, 0.06146032735705376, 0.06146032735705376, 0.1338655650615692, 0.0823788046836853, 0.0978248342871666, 0.0995410606265068, 0.10554784536361694, 0.07379768043756485, 0.08495314419269562, 0.15188592672348022, 0.08581125736236572, 0.08323691785335541, 0.08048418164253235, 0.14447569847106934, 0.10159479081630707, 0.10291419923305511, 0.11478891223669052, 0.09565743058919907, 0.14513541758060455, 0.07388711720705032, 0.07454682141542435, 0.06663034856319427, 0.17642448842525482, 0.35284897685050964, 0.17642448842525482, 0.17642448842525482, 0.09284573048353195, 0.11714180558919907, 0.09588273614645004, 0.12907291948795319, 0.1123693659901619, 0.08720556646585464, 0.10130596905946732, 0.08265005052089691, 0.09262879937887192, 0.08872407674789429, 0.26932796835899353, 0.09228461980819702, 0.08338971436023712, 0.1122981533408165, 0.1334235519170761, 0.08227785676717758, 0.10673883557319641, 0.08672530204057693, 0.0767185389995575, 0.11452187597751617, 0.1122981533408165, 0.32713308930397034, 0.32713308930397034, 0.08953873068094254, 0.10331392288208008, 0.11315334588289261, 0.1239767074584961, 0.08855479210615158, 0.09150661528110504, 0.08658690750598907, 0.09150661528110504, 0.12004093825817108, 0.09249056130647659, 0.10553246736526489, 0.06316541880369186, 0.10553246736526489, 0.07934192568063736, 0.10630277544260025, 0.10630277544260025, 0.13095270097255707, 0.14019641280174255, 0.08165285736322403, 0.08242316544055939, 0.3267272412776947, 0.09405992180109024, 0.10816890746355057, 0.10158471018075943, 0.07336673885583878, 0.09594111889600754, 0.1476740688085556, 0.1203966960310936, 0.07806973159313202, 0.12321849167346954, 0.057376548647880554, 0.11814198642969131, 0.09034387022256851, 0.12509150803089142, 0.09266038239002228, 0.07412830740213394, 0.07876132428646088, 0.09960991144180298, 0.13435755670070648, 0.09960991144180298, 0.08571085333824158, 0.17175191640853882, 0.17175191640853882, 0.17175191640853882, 0.17635543644428253, 0.17635543644428253, 0.17635543644428253, 0.17635543644428253, 0.17635543644428253, 0.17635543644428253, 0.3273810148239136, 0.0871838629245758, 0.09963870048522949, 0.1743677258491516, 0.11209354549646378, 0.07472902536392212, 0.0871838629245758, 0.09963870048522949, 0.09963870048522949, 0.0871838629245758, 0.06227419152855873, 0.3271951377391815, 0.3271951377391815, 0.07735209167003632, 0.10642177611589432, 0.11360566318035126, 0.09272226691246033, 0.08052636682987213, 0.11410686373710632, 0.12964411079883575, 0.06833046674728394, 0.11861767619848251, 0.09840255230665207, 0.3274950385093689, 0.14450503885746002, 0.11357501894235611, 0.05814843252301216, 0.10120301693677902, 0.06532419472932816, 0.07769620418548584, 0.1128327026963234, 0.12372006475925446, 0.09204772859811783, 0.1108531802892685, 0.0665040984749794, 0.09371032565832138, 0.08464158326387405, 0.0997561514377594, 0.12091654539108276, 0.14812277257442474, 0.08766449242830276, 0.11487071961164474, 0.07557284086942673, 0.10882489383220673, 0.22940708696842194, 0.22940708696842194, 0.22940708696842194, 0.22940708696842194, 0.3269778788089752, 0.3269778788089752, 0.32734382152557373, 0.08419885486364365, 0.1286812722682953, 0.10802872478961945, 0.09214214980602264, 0.135035902261734, 0.11597201228141785, 0.10802872478961945, 0.06513496488332748, 0.0714895948767662, 0.09214214980602264, 0.10230154544115067, 0.09109041839838028, 0.0798792839050293, 0.058858420699834824, 0.13453353941440582, 0.1415404975414276, 0.0756751149892807, 0.11070989072322845, 0.10090015083551407, 0.10370293259620667, 0.3271884322166443, 0.3271884322166443, 0.32750704884529114, 0.32750704884529114, 0.09250415861606598, 0.112326480448246, 0.0892004445195198, 0.10737089812755585, 0.0892004445195198, 0.10571903735399246, 0.08094114065170288, 0.112326480448246, 0.08424486219882965, 0.12554135918617249, 0.3271806538105011, 0.3271806538105011, 0.3268517255783081, 0.32695499062538147, 0.32695499062538147, 0.32742154598236084, 0.09930667281150818, 0.08385896682739258, 0.13240890204906464, 0.12137482315301895, 0.10592711716890335, 0.08385896682739258, 0.06841126084327698, 0.14564979076385498, 0.07944533973932266, 0.07944533973932266, 0.1374473124742508, 0.1374473124742508, 0.1374473124742508, 0.2748946249485016, 0.1374473124742508, 0.1374473124742508, 0.09908314049243927, 0.11113379150629044, 0.08301560580730438, 0.09372729808092117, 0.14996367692947388, 0.07765975594520569, 0.07632079720497131, 0.10042210668325424, 0.10443899035453796, 0.10310002416372299, 0.3271694481372833, 0.11561430245637894, 0.13060133159160614, 0.10062725841999054, 0.0749351978302002, 0.08778122812509537, 0.0749351978302002, 0.1434473693370819, 0.049243126064538956, 0.10276826471090317, 0.1198963075876236, 0.11087218672037125, 0.08848453313112259, 0.11833474040031433, 0.0810219869017601, 0.1353919953107834, 0.14178846776485443, 0.10660786926746368, 0.07675766944885254, 0.06503080576658249, 0.07675766944885254, 0.1992751955986023, 0.1992751955986023, 0.1992751955986023, 0.1992751955986023, 0.1992751955986023, 0.15409250557422638, 0.10593859851360321, 0.08089856803417206, 0.0828247219324112, 0.09052935242652893, 0.08667703717947006, 0.08089856803417206, 0.12520016729831696, 0.07704625278711319, 0.11749554425477982, 0.0972958505153656, 0.10727491229772568, 0.11226443946361542, 0.08731678873300552, 0.08981155604124069, 0.09480108320713043, 0.09979061782360077, 0.08482202142477036, 0.0972958505153656, 0.13222256302833557, 0.32788655161857605, 0.08874329179525375, 0.1183243915438652, 0.08282707631587982, 0.16565415263175964, 0.07691085338592529, 0.08874329179525375, 0.11240817606449127, 0.08282707631587982, 0.10649195313453674, 0.07691085338592529, 0.32698678970336914, 0.32698678970336914, 0.32659751176834106, 0.17171309888362885, 0.17171309888362885, 0.17171309888362885, 0.17171309888362885, 0.17171309888362885, 0.32652339339256287, 0.08565891534090042, 0.11040482670068741, 0.09327304363250732, 0.1027906984090805, 0.06091300770640373, 0.12182601541280746, 0.08565891534090042, 0.12372954934835434, 0.14086133241653442, 0.07614126056432724, 0.23719459772109985, 0.23719459772109985, 0.3445683419704437, 0.19322001934051514, 0.19322001934051514, 0.19322001934051514, 0.19322001934051514, 0.327208548784256, 0.22906041145324707, 0.22906041145324707, 0.22906041145324707, 0.32727745175361633, 0.32727745175361633, 0.34433093667030334, 0.0962902158498764, 0.11629857122898102, 0.08566077798604965, 0.0806586891412735, 0.12442696839570999, 0.1075449138879776, 0.11942487210035324, 0.09441442787647247, 0.07565660029649734, 0.09941651672124863, 0.32686254382133484, 0.32686254382133484, 0.1992257833480835, 0.1992257833480835, 0.1992257833480835, 0.1992257833480835, 0.10612407326698303, 0.14730654656887054, 0.11087589710950851, 0.09503648430109024, 0.0982043668627739, 0.10612407326698303, 0.057021889835596085, 0.0807810127735138, 0.10929195582866669, 0.09028466045856476, 0.32668623328208923, 0.10951340198516846, 0.09964732825756073, 0.11444643884897232, 0.12135268747806549, 0.07991518825292587, 0.0878080427646637, 0.1085267961025238, 0.10359375923871994, 0.089781254529953, 0.08682143688201904, 0.2812206745147705, 0.13349169492721558, 0.11634854972362518, 0.11943992972373962, 0.11719164997339249, 0.0623898021876812, 0.09217952191829681, 0.08993124216794968, 0.08178122341632843, 0.08346743881702423, 0.10370196402072906, 0.17159917950630188, 0.34319835901260376, 0.17159917950630188, 0.17159917950630188, 0.12917226552963257, 0.08550839871168137, 0.0782310888171196, 0.11097898334264755, 0.09824369102716446, 0.112798310816288, 0.09278570860624313, 0.07095377892255783, 0.12917226552963257, 0.09460503607988358, 0.11072726547718048, 0.09904716908931732, 0.09250631928443909, 0.13642346858978271, 0.09017030149698257, 0.09951437264680862, 0.1149320974946022, 0.08923589438199997, 0.08689987659454346, 0.08035902678966522, 0.11316564679145813, 0.06750231236219406, 0.13500462472438812, 0.10323883593082428, 0.1191217303276062, 0.10125347226858139, 0.10125347226858139, 0.08139985054731369, 0.06948767602443695, 0.10919491946697235, 0.08901384472846985, 0.10125324875116348, 0.09680256247520447, 0.09457721561193466, 0.09123919159173965, 0.08567582815885544, 0.13129542768001556, 0.13018275797367096, 0.07566177099943161, 0.10125324875116348, 0.12257210165262222, 0.13435788452625275, 0.11550063639879227, 0.06600036472082138, 0.05539316311478615, 0.09782196581363678, 0.09075050055980682, 0.12139352411031723, 0.09900054335594177, 0.0954648107290268, 0.11487341672182083, 0.08934599161148071, 0.1074279174208641, 0.09519603103399277, 0.11061884462833405, 0.09945059567689896, 0.08243231475353241, 0.08721870929002762, 0.1005142405629158, 0.11274613440036774, 0.10026905685663223, 0.0993049293756485, 0.10605380684137344, 0.07905828952789307, 0.11376681178808212, 0.11473093926906586, 0.12437219172716141, 0.09834080189466476, 0.07423766702413559, 0.09062779694795609, 0.2377520650625229, 0.1282191127538681, 0.13815492391586304, 0.11639078706502914, 0.10408931970596313, 0.09557292610406876, 0.04494766145944595, 0.09746545553207397, 0.0898953229188919, 0.10266992449760437, 0.08232519030570984, 0.15455809235572815, 0.15455809235572815, 0.15455809235572815, 0.15455809235572815, 0.15455809235572815, 0.3091161847114563, 0.32700228691101074, 0.3269422948360443, 0.1000208705663681, 0.13336116075515747, 0.08001669496297836, 0.08001669496297836, 0.08668475598096848, 0.16003338992595673, 0.11335698515176773, 0.06668058037757874, 0.10668892413377762, 0.08001669496297836, 0.26961129903793335, 0.26961129903793335, 0.26961129903793335, 0.08615538477897644, 0.11307894438505173, 0.08884774148464203, 0.09154009819030762, 0.11038658767938614, 0.11307894438505173, 0.07538596540689468, 0.11038658767938614, 0.13192543387413025, 0.07807831466197968, 0.08583855628967285, 0.08421895653009415, 0.11823046207427979, 0.0987953171133995, 0.12956762313842773, 0.13928520679473877, 0.07126219570636749, 0.08097977191209793, 0.10041490942239761, 0.09069734066724777, 0.3275177776813507, 0.2694862484931946, 0.2694862484931946, 0.12921476364135742, 0.08970961719751358, 0.10617009550333023, 0.0880635678768158, 0.09217868745326996, 0.0872405469417572, 0.0880635678768158, 0.09382473677396774, 0.10205497592687607, 0.12263058125972748, 0.09475516527891159, 0.09475516527891159, 0.09475516527891159, 0.09475516527891159, 0.09475516527891159, 0.18951033055782318, 0.09475516527891159, 0.09475516527891159, 0.09475516527891159, 0.09475516527891159, 0.30817103385925293, 0.10272368043661118, 0.10272368043661118, 0.20544736087322235, 0.10272368043661118, 0.10272368043661118, 0.10272368043661118, 0.10272368043661118, 0.2692243158817291, 0.11481312662363052, 0.0926562026143074, 0.1571127027273178, 0.08963480591773987, 0.08560627698898315, 0.11179172247648239, 0.11984878778457642, 0.10474179685115814, 0.07654207944869995, 0.04733523353934288, 0.2815241515636444, 0.32708320021629333, 0.32708320021629333, 0.090338334441185, 0.09747030586004257, 0.14501678943634033, 0.11411157995462418, 0.09271565824747086, 0.106979601085186, 0.09509298205375671, 0.09747030586004257, 0.08082903176546097, 0.07845170795917511, 0.09026026725769043, 0.08273857831954956, 0.11282533407211304, 0.15795546770095825, 0.08273857831954956, 0.08273857831954956, 0.07521688938140869, 0.12786871194839478, 0.1203470230102539, 0.06769520044326782, 0.2694209814071655, 0.2694209814071655, 0.08798126876354218, 0.08798126876354218, 0.08798126876354218, 0.08798126876354218, 0.08798126876354218, 0.2639438211917877, 0.08798126876354218, 0.08798126876354218, 0.08798126876354218, 0.09620419889688492, 0.09620419889688492, 0.09620419889688492, 0.09620419889688492, 0.19240839779376984, 0.09620419889688492, 0.09620419889688492, 0.09620419889688492, 0.09620419889688492, 0.09620419889688492, 0.26953378319740295, 0.26953378319740295, 0.1300317943096161, 0.10448983311653137, 0.10448983311653137, 0.0959758460521698, 0.1029418408870697, 0.13544978201389313, 0.07430388033390045, 0.07275588810443878, 0.09752384573221207, 0.08204387128353119, 0.10356008261442184, 0.07081031054258347, 0.08851289004087448, 0.10090469568967819, 0.12037753313779831, 0.11949240416288376, 0.09205340594053268, 0.09028314799070358, 0.10356008261442184, 0.1097559854388237, 0.3272399604320526, 0.3272399604320526, 0.12196361273527145, 0.11426687985658646, 0.12314772605895996, 0.122555673122406, 0.07874350249767303, 0.063942089676857, 0.0982813611626625, 0.09532107412815094, 0.07696732878684998, 0.104793980717659, 0.13777780532836914, 0.1077360287308693, 0.11084380000829697, 0.09219717979431152, 0.07976609468460083, 0.09219717979431152, 0.09841271489858627, 0.10980787128210068, 0.08805348724126816, 0.08390979468822479, 0.2812691032886505, 0.4444692134857178, 0.44437870383262634, 0.22930623590946198, 0.22930623590946198, 0.22930623590946198, 0.13519896566867828, 0.09936309605836868, 0.09773419052362442, 0.09447638690471649, 0.112394317984581, 0.13357006013393402, 0.0716717392206192, 0.0895896777510643, 0.09284748136997223, 0.07330064475536346, 0.14721667766571045, 0.11450186371803284, 0.1130148246884346, 0.09963148832321167, 0.09517037868499756, 0.09517037868499756, 0.08327408134937286, 0.08773519098758698, 0.08922223001718521, 0.07583889365196228, 0.11018345504999161, 0.16767047345638275, 0.08623053133487701, 0.11976462602615356, 0.09102112054824829, 0.10060229152441025, 0.07185877859592438, 0.08623053133487701, 0.09581170231103897, 0.07664936035871506, 0.09089411795139313, 0.08781296014785767, 0.11246220767498016, 0.13248972594738007, 0.08627238124608994, 0.10629989951848984, 0.1140027865767479, 0.07856948673725128, 0.0847318023443222, 0.10629989951848984, 0.1516333967447281, 0.0850018784403801, 0.09465411305427551, 0.1176949143409729, 0.09714500606060028, 0.0734814777970314, 0.09714500606060028, 0.10710860043764114, 0.08718141913414001, 0.08873822540044785, 0.32668423652648926, 0.32668423652648926, 0.26949793100357056, 0.26949793100357056, 0.15180127322673798, 0.09441298246383667, 0.07590063661336899, 0.08515681326389313, 0.0870080441236496, 0.10552039742469788, 0.11477657407522202, 0.10366915911436081, 0.08515681326389313, 0.09441298246383667, 0.3273075520992279, 0.3273075520992279, 0.1011066883802414, 0.11220376193523407, 0.10480571538209915, 0.0887766033411026, 0.12453384697437286, 0.09987368434667587, 0.12576685845851898, 0.07521351426839828, 0.08384457230567932, 0.08507758378982544, 0.11288164556026459, 0.10582654178142548, 0.16226737201213837, 0.08466123044490814, 0.09877143800258636, 0.10582654178142548, 0.07760613411664963, 0.0634959265589714, 0.08466123044490814, 0.09877143800258636, 0.2608658969402313, 0.08695529401302338, 0.08695529401302338, 0.08695529401302338, 0.08695529401302338, 0.08695529401302338, 0.08695529401302338, 0.08695529401302338, 0.08695529401302338, 0.08695529401302338, 0.10188069939613342, 0.08315262943506241, 0.12809999287128448, 0.09139297902584076, 0.10038245469331741, 0.1153649091720581, 0.0973859652876854, 0.07715964317321777, 0.07341403514146805, 0.1318456083536148, 0.17160439491271973, 0.17160439491271973, 0.17160439491271973, 0.17160439491271973, 0.17160439491271973, 0.17160439491271973, 0.17160439491271973, 0.10365908592939377, 0.07404220849275589, 0.09773571044206619, 0.14808441698551178, 0.08885064721107483, 0.06811882555484772, 0.11550583690404892, 0.1184675320982933, 0.10662077367305756, 0.07996558398008347, 0.3272736072540283, 0.3272736072540283, 0.06705691665410995, 0.06705691665410995, 0.1341138333082199, 0.06705691665410995, 0.06705691665410995, 0.06705691665410995, 0.06705691665410995, 0.1341138333082199, 0.20117075741291046, 0.06705691665410995, 0.10040263086557388, 0.13610133528709412, 0.10263379663228989, 0.10486496984958649, 0.1115584746003151, 0.07139742374420166, 0.08255327492952347, 0.07809093594551086, 0.07139742374420166, 0.14056368172168732, 0.4445021450519562, 0.2697773277759552, 0.2697773277759552, 0.09985816478729248, 0.13356029987335205, 0.08737589418888092, 0.0798865333199501, 0.12981560826301575, 0.11234043538570404, 0.09611348062753677, 0.10235461592674255, 0.08238298445940018, 0.0761418491601944, 0.10250771045684814, 0.08317423611879349, 0.13150793313980103, 0.10150076448917389, 0.10734108090400696, 0.06504909694194794, 0.0872020423412323, 0.1222439706325531, 0.10109797865152359, 0.09827851504087448, 0.3271108567714691, 0.11086785793304443, 0.05543392896652222, 0.11086785793304443, 0.11086785793304443, 0.16630178689956665, 0.11086785793304443, 0.11086785793304443, 0.05543392896652222, 0.05543392896652222, 0.11086785793304443, 0.4444290101528168, 0.11608421057462692, 0.11608421057462692, 0.05804210528731346, 0.11608421057462692, 0.05804210528731346, 0.05804210528731346, 0.05804210528731346, 0.17412631213665009, 0.11608421057462692, 0.11608421057462692, 0.09016650170087814, 0.09875379502773285, 0.07299192994832993, 0.09231332689523697, 0.10090061277151108, 0.11163472384214401, 0.06869828701019287, 0.1352497637271881, 0.12236882746219635, 0.10734108090400696, 0.3271402418613434, 0.3271402418613434, 0.26945236325263977, 0.26945236325263977, 0.26945236325263977, 0.326803982257843, 0.09487883001565933, 0.11085842549800873, 0.11485332250595093, 0.08888648450374603, 0.10286862403154373, 0.10186990350484848, 0.07690178602933884, 0.08888648450374603, 0.10786224901676178, 0.11285587400197983, 0.08554080873727798, 0.10897664725780487, 0.1247958391904831, 0.09725872427225113, 0.06972161680459976, 0.10956253856420517, 0.1236240416765213, 0.08612670004367828, 0.10780484974384308, 0.08612670004367828, 0.26910722255706787, 0.3270016312599182, 0.3270016312599182, 0.09580899029970169, 0.1101803407073021, 0.13413257896900177, 0.11497078835964203, 0.08782491087913513, 0.08463127166032791, 0.07984082400798798, 0.10219625383615494, 0.09900262206792831, 0.09261535853147507, 0.09321121871471405, 0.09321121871471405, 0.15923583507537842, 0.08932741731405258, 0.07379221171140671, 0.10486262291669846, 0.1242816224694252, 0.07379221171140671, 0.08155981451272964, 0.10097882151603699, 0.32700061798095703, 0.32700061798095703, 0.1189495399594307, 0.12859410047531128, 0.1446683555841446, 0.09644556790590286, 0.10287527740001678, 0.07394160330295563, 0.07715645432472229, 0.07072675228118896, 0.10287527740001678, 0.08037131279706955, 0.09848413616418839, 0.11079465597867966, 0.09232888370752335, 0.0677078440785408, 0.07386310398578644, 0.12310517579317093, 0.08001836389303207, 0.1538814753293991, 0.09848413616418839, 0.09848413616418839, 0.10383258759975433, 0.09412162750959396, 0.09486862272024155, 0.12474850565195084, 0.12026652693748474, 0.10383258759975433, 0.11653154343366623, 0.10159160196781158, 0.07619369775056839, 0.06424174457788467, 0.10115400701761246, 0.20230801403522491, 0.10115400701761246, 0.10115400701761246, 0.10115400701761246, 0.10115400701761246, 0.10115400701761246, 0.10115400701761246, 0.10115400701761246, 0.12225624918937683, 0.1272718906402588, 0.10658237338066101, 0.07774243503808975, 0.10156673192977905, 0.08840066939592361, 0.09216240048408508, 0.09278935939073563, 0.08338502794504166, 0.1078362837433815, 0.32742589712142944, 0.32742589712142944, 0.09931530058383942, 0.10515737533569336, 0.08763114362955093, 0.11489416658878326, 0.1012626588344574, 0.1207362487912178, 0.06426283717155457, 0.0915258601307869, 0.1402098387479782, 0.07205227762460709, 0.0940791666507721, 0.09059475362300873, 0.11498565226793289, 0.11498565226793289, 0.07898004353046417, 0.08130298554897308, 0.09756357967853546, 0.11847006529569626, 0.08014151453971863, 0.12892331182956696, 0.1290837675333023, 0.061563026160001755, 0.1588723361492157, 0.11319653689861298, 0.08737978339195251, 0.11319653689861298, 0.06354892998933792, 0.06950664520263672, 0.10922472923994064, 0.09730929881334305, 0.32726141810417175, 0.32726141810417175, 0.07781723886728287, 0.1664697825908661, 0.09653277695178986, 0.0837274119257927, 0.06993701308965683, 0.10835311561822891, 0.10047288984060287, 0.12115848809480667, 0.08865255117416382, 0.08766752481460571, 0.4446618854999542, 0.15949803590774536, 0.0989987850189209, 0.06783249974250793, 0.0641658753156662, 0.12466513365507126, 0.11733189225196838, 0.06783249974250793, 0.08616560697555542, 0.10999865084886551, 0.10266540944576263, 0.3273070454597473, 0.3273070454597473, 0.10110672563314438, 0.11223774403333664, 0.08533778786659241, 0.1020343080163002, 0.08812054246664047, 0.0890481248497963, 0.1233687549829483, 0.06585851311683655, 0.14192044734954834, 0.09183087944984436, 0.3280225396156311, 0.3280225396156311, 0.3280225396156311, 0.1934863030910492, 0.1934863030910492, 0.1934863030910492, 0.3270965814590454, 0.10660798847675323, 0.1515832245349884, 0.09578061103820801, 0.13076135516166687, 0.07745736837387085, 0.08495324105024338, 0.08495324105024338, 0.10744085907936096, 0.08661898970603943, 0.07412586361169815, 0.11058759689331055, 0.08932074904441833, 0.08932074904441833, 0.10208085924386978, 0.08364959061145782, 0.13043664395809174, 0.09499190747737885, 0.09924527257680893, 0.11767654120922089, 0.0822317972779274, 0.17172347009181976, 0.17172347009181976, 0.17172347009181976, 0.17172347009181976, 0.17172347009181976, 0.32706084847450256, 0.17642229795455933, 0.17642229795455933, 0.17642229795455933, 0.17642229795455933, 0.17642229795455933, 0.09155439585447311, 0.09887874871492386, 0.1464870423078537, 0.18493987619876862, 0.08239895850419998, 0.07507460564374924, 0.08423004299402237, 0.05493263900279999, 0.08972331136465073, 0.09155439585447311, 0.10530468821525574, 0.11803382635116577, 0.12266260385513306, 0.10993346571922302, 0.08447518944740295, 0.07753202319145203, 0.10183310508728027, 0.08910396695137024, 0.09951871633529663, 0.09026116132736206, 0.08814544975757599, 0.13221818208694458, 0.08814544975757599, 0.08814544975757599, 0.10817851126194, 0.12220165133476257, 0.13422147929668427, 0.10016528517007828, 0.07812892645597458, 0.060099173337221146, 0.12253299355506897, 0.15648791193962097, 0.08562546223402023, 0.07676766067743301, 0.08267286419868469, 0.1018647775053978, 0.09300696849822998, 0.08857806771993637, 0.09743586927652359, 0.09448327124118805, 0.12712906301021576, 0.10120954364538193, 0.09627249836921692, 0.09133544564247131, 0.10367807000875473, 0.09503823518753052, 0.09874101728200912, 0.11972348392009735, 0.0789928138256073, 0.09010118246078491, 0.12227131426334381, 0.08498290181159973, 0.065326988697052, 0.09452179819345474, 0.13990381360054016, 0.1037716343998909, 0.12284942716360092, 0.09972482919692993, 0.07717834413051605, 0.08989688009023666, 0.3265758454799652, 0.3269679546356201, 0.3269679546356201, 0.3269679546356201, 0.3274175524711609, 0.32732683420181274, 0.32732683420181274, 0.2699558138847351, 0.32751384377479553, 0.6262208223342896, 0.09501930326223373, 0.1324511468410492, 0.1324511468410492, 0.09501930326223373, 0.09213992953300476, 0.06910494714975357, 0.07774306833744049, 0.10077805072069168, 0.13533052802085876, 0.0662255734205246, 0.15812340378761292, 0.31624680757522583, 0.15812340378761292, 0.15812340378761292, 0.2746305465698242, 0.1373152732849121, 0.1373152732849121, 0.1373152732849121, 0.1373152732849121, 0.1373152732849121, 0.09775460511445999, 0.1165020614862442, 0.09775460511445999, 0.1165020614862442, 0.08704177290201187, 0.0629379004240036, 0.08168535679578781, 0.10980654507875443, 0.09775460511445999, 0.13123221695423126, 0.1136627048254013, 0.1052432432770729, 0.0631459504365921, 0.0799848660826683, 0.0926140546798706, 0.1557600051164627, 0.0884043276309967, 0.101033516228199, 0.1094529777765274, 0.0841945931315422, 0.09592747688293457, 0.1307011991739273, 0.1031220406293869, 0.06595014035701752, 0.1247057244181633, 0.08273745328187943, 0.10192295163869858, 0.11990935355424881, 0.10432113707065582, 0.0707465186715126, 0.32682478427886963, 0.32682478427886963, 0.17161805927753448, 0.17161805927753448, 0.17161805927753448, 0.17161805927753448, 0.11564969271421432, 0.14043176174163818, 0.11358451843261719, 0.17140936851501465, 0.07847657799720764, 0.06608553975820541, 0.0764114037156105, 0.06815071403980255, 0.10119348019361496, 0.07021588087081909, 0.11824659258127213, 0.0985388234257698, 0.09572342783212662, 0.08727724850177765, 0.0732002705335617, 0.15766212344169617, 0.06475408375263214, 0.101354219019413, 0.09572342783212662, 0.11543119698762894, 0.32712072134017944, 0.32712072134017944, 0.32712072134017944, 0.19370996952056885, 0.3874199390411377, 0.19370996952056885, 0.11906784027814865, 0.09766238927841187, 0.08762858062982559, 0.09766238927841187, 0.08227721601724625, 0.10769619792699814, 0.09966915100812912, 0.1063583567738533, 0.11973676085472107, 0.08093937486410141, 0.327434241771698, 0.08568102866411209, 0.11424137651920319, 0.15351185202598572, 0.11067133396863937, 0.10353124886751175, 0.09282111376523972, 0.09996120631694794, 0.05355064570903778, 0.08568102866411209, 0.09996120631694794, 0.14115610718727112, 0.0722719207406044, 0.09485690295696259, 0.10050314664840698, 0.11518337577581406, 0.09033990651369095, 0.1027616411447525, 0.08808140456676483, 0.12873436510562897, 0.06549642980098724, 0.09053768962621689, 0.06825149059295654, 0.08914480358362198, 0.13232432305812836, 0.12953853607177734, 0.09053768962621689, 0.11560966819524765, 0.10168079286813736, 0.10307367891073227, 0.07800170034170151, 0.32670438289642334, 0.1158263310790062, 0.10246175527572632, 0.11359890550374985, 0.1492377668619156, 0.10468918830156326, 0.0824148878455162, 0.07350517064332962, 0.10246175527572632, 0.08018746227025986, 0.07350517064332962, 0.09538518637418747, 0.08081245422363281, 0.06623971462249756, 0.1033339574933052, 0.10200916230678558, 0.11393231153488159, 0.1033339574933052, 0.12718024849891663, 0.10730833560228348, 0.10068436712026596, 0.32700544595718384, 0.34442198276519775, 0.0685429647564888, 0.09245330095291138, 0.07970111817121506, 0.08767123520374298, 0.12273972481489182, 0.14505603909492493, 0.11476961523294449, 0.12114570289850235, 0.09245330095291138, 0.07491905242204666, 0.3274221420288086, 0.3274221420288086, 0.12194032222032547, 0.10531209409236908, 0.09755225479602814, 0.08203257620334625, 0.08868386596441269, 0.12970015406608582, 0.11418048292398453, 0.08646677434444427, 0.0897924154996872, 0.08203257620334625, 0.32710206508636475, 0.32710206508636475, 0.15451134741306305, 0.15451134741306305, 0.15451134741306305, 0.15451134741306305, 0.15451134741306305, 0.15451134741306305, 0.1403404027223587, 0.1403404027223587, 0.2806808054447174, 0.1403404027223587, 0.1403404027223587, 0.1403404027223587, 0.1403404027223587, 0.10843547433614731, 0.12815101444721222, 0.10679250955581665, 0.14622358977794647, 0.06900439411401749, 0.10350658744573593, 0.0722903162240982, 0.08214808255434036, 0.10843547433614731, 0.07557623833417892, 0.3271980583667755, 0.3271980583667755, 0.1073547974228859, 0.12415815889835358, 0.11295592039823532, 0.12509167194366455, 0.10455423593521118, 0.11668999493122101, 0.07001399993896484, 0.09148495644330978, 0.0746815949678421, 0.07374807447195053, 0.12376098334789276, 0.09147550910711288, 0.09685642272233963, 0.09685642272233963, 0.0699518620967865, 0.09147550910711288, 0.10223733633756638, 0.08609460294246674, 0.08071368932723999, 0.16142737865447998, 0.3273222744464874, 0.3273222744464874, 0.12336024641990662, 0.09509018808603287, 0.14135028421878815, 0.08738017827272415, 0.10023020207881927, 0.08738017827272415, 0.07196014374494553, 0.10537020862102509, 0.10280020534992218, 0.08224016427993774, 0.1283441036939621, 0.1283441036939621, 0.1283441036939621, 0.2566882073879242, 0.1283441036939621, 0.1283441036939621, 0.1480386108160019, 0.09522952139377594, 0.11167825758457184, 0.05540626496076584, 0.12379837781190872, 0.09263235330581665, 0.10302102565765381, 0.09090090543031693, 0.08051223307847977, 0.0986924096941948, 0.08387625962495804, 0.08608353137969971, 0.1015344187617302, 0.08608353137969971, 0.1015344187617302, 0.11036349833011627, 0.09049806743860245, 0.13464346528053284, 0.0794617161154747, 0.12581439316272736, 0.16302615404129028, 0.0931577980518341, 0.10771370679140091, 0.08733543753623962, 0.06986834853887558, 0.09606897830963135, 0.11353606730699539, 0.09898016601800919, 0.10189134627580643, 0.06695716828107834, 0.0816066712141037, 0.0995878055691719, 0.09198039770126343, 0.10788678377866745, 0.11826051771640778, 0.13693322241306305, 0.07676559686660767, 0.07054135948419571, 0.07607401907444, 0.1396995633840561, 0.3448818027973175, 0.08133964985609055, 0.061456624418497086, 0.09580003470182419, 0.07049436122179031, 0.13918118178844452, 0.09218493849039078, 0.15364156663417816, 0.07953210175037384, 0.1337585300207138, 0.09037739038467407, 0.09374774992465973, 0.0892406478524208, 0.08022643625736237, 0.11808610707521439, 0.10907189548015594, 0.11087474226951599, 0.10817047953605652, 0.11087474226951599, 0.08022643625736237, 0.09915626794099808, 0.1011551022529602, 0.10808353126049042, 0.11224059015512466, 0.11916901916265488, 0.11778333783149719, 0.0976908802986145, 0.11501196026802063, 0.09006960690021515, 0.06374157220125198, 0.07482706010341644, 0.12763769924640656, 0.13511647284030914, 0.10470280051231384, 0.09622686356306076, 0.10121271014213562, 0.09024384617805481, 0.0608273409307003, 0.11442520469427109, 0.1069464311003685, 0.06282167881727219, 0.09050730615854263, 0.0840425044298172, 0.09050730615854263, 0.1034369245171547, 0.15515539050102234, 0.1034369245171547, 0.0840425044298172, 0.1034369245171547, 0.09050730615854263, 0.09050730615854263, 0.32732000946998596, 0.11336681246757507, 0.09502806514501572, 0.08835942298173904, 0.0850251093506813, 0.10336385667324066, 0.12045224010944366, 0.09169374406337738, 0.11545076221227646, 0.10586459934711456, 0.08127400279045105, 0.1932087242603302, 0.1932087242603302, 0.1932087242603302, 0.1932087242603302, 0.17660899460315704, 0.10007842630147934, 0.09419146180152893, 0.09419146180152893, 0.1354002207517624, 0.11185236275196075, 0.08241753280162811, 0.0706435963511467, 0.0765305608510971, 0.05886966362595558, 0.08210846781730652, 0.10693195462226868, 0.09261071681976318, 0.09165596216917038, 0.0954749658703804, 0.13080069422721863, 0.08879171311855316, 0.10502246022224426, 0.08688221871852875, 0.11934370547533035, 0.10333588719367981, 0.08891692757606506, 0.07690112292766571, 0.14178645610809326, 0.15139909088611603, 0.07449796795845032, 0.09132008999586105, 0.10093272477388382, 0.08891692757606506, 0.08170744776725769, 0.3271062672138214, 0.3271062672138214, 0.10912708193063736, 0.08303147554397583, 0.08421763777732849, 0.13403652608394623, 0.11149941384792328, 0.10912708193063736, 0.11149941384792328, 0.07947298884391785, 0.08896229416131973, 0.08896229416131973, 0.2695237696170807, 0.2695237696170807, 0.32677891850471497, 0.32677891850471497, 0.0995941311120987, 0.11382186412811279, 0.09366590529680252, 0.10315106064081192, 0.07706688344478607, 0.11856444180011749, 0.0853663980960846, 0.13516345620155334, 0.0995941311120987, 0.07350995391607285, 0.3440895080566406, 0.1114422008395195, 0.10717938840389252, 0.1035255417227745, 0.08891016989946365, 0.1016986221075058, 0.09499990940093994, 0.11083322763442993, 0.09804478287696838, 0.09682682901620865, 0.08647427707910538, 0.3268396556377411, 0.3268396556377411, 0.09248726069927216, 0.07910094410181046, 0.12047682702541351, 0.0912703201174736, 0.10587356984615326, 0.09492113441228867, 0.12291070073843002, 0.1314292699098587, 0.08153481781482697, 0.07910094410181046, 0.10823993384838104, 0.21647986769676208, 0.10823993384838104, 0.10823993384838104, 0.10823993384838104, 0.10823993384838104, 0.10823993384838104, 0.10823993384838104, 0.32730361819267273, 0.32730361819267273, 0.08787649869918823, 0.10126166045665741, 0.1094091460108757, 0.12512215971946716, 0.0814749002456665, 0.0675077736377716, 0.11406485736370087, 0.07914704084396362, 0.10824522376060486, 0.1262860894203186, 0.12787044048309326, 0.11407148092985153, 0.11775120347738266, 0.08187388628721237, 0.09015326201915741, 0.07451443374156952, 0.11775120347738266, 0.07819415628910065, 0.11775120347738266, 0.08003401756286621, 0.2374195158481598, 0.2374195158481598, 0.2374195158481598, 0.14042231440544128, 0.14042231440544128, 0.14042231440544128, 0.14042231440544128, 0.14042231440544128, 0.14042231440544128, 0.14042231440544128, 0.1266307830810547, 0.14304588735103607, 0.09145557135343552, 0.07035043835639954, 0.060970377177000046, 0.08442052453756332, 0.1055256575345993, 0.13132081925868988, 0.08207550644874573, 0.10318063944578171, 0.2807602882385254, 0.2807602882385254, 0.1403801441192627, 0.07488377392292023, 0.10427740216255188, 0.12527285516262054, 0.13647042214870453, 0.11547497659921646, 0.09587922692298889, 0.08958058804273605, 0.06998483836650848, 0.08818089216947556, 0.09937846660614014, 0.19356867671012878, 0.19356867671012878, 0.19356867671012878, 0.19356867671012878, 0.3270780146121979, 0.13233156502246857, 0.10374794900417328, 0.07834028452634811, 0.09633737802505493, 0.08151624351739883, 0.11433447152376175, 0.0921027734875679, 0.09951333701610565, 0.09739603102207184, 0.10586525499820709, 0.10586906969547272, 0.07057937979698181, 0.10586906969547272, 0.035289689898490906, 0.28231751918792725, 0.035289689898490906, 0.035289689898490906, 0.31760722398757935, 0.12680789828300476, 0.1424807757139206, 0.10044895112514496, 0.11255981773138046, 0.09474971890449524, 0.07907683402299881, 0.09474971890449524, 0.08477606624364853, 0.0975993350148201, 0.0669659674167633], \"Term\": [\"-PRON-\", \"-PRON-\", \"-PRON-\", \"-PRON-\", \"-PRON-\", \"-PRON-\", \"-PRON-\", \"-PRON-\", \"-PRON-\", \"-PRON-\", \"10\", \"10\", \"10\", \"10\", \"10\", \"10\", \"10\", \"10\", \"10\", \"10\", \"12\", \"12\", \"12\", \"12\", \"12\", \"12\", \"12\", \"12\", \"12\", \"12\", \"15atmosphere\", \"2\", \"2\", \"2\", \"2\", \"2\", \"2\", \"2\", \"2\", \"2\", \"2\", \"20\", \"20\", \"20\", \"20\", \"20\", \"20\", \"20\", \"20\", \"20\", \"20\", \"2004\", \"3\", \"3\", \"3\", \"3\", \"3\", \"3\", \"3\", \"3\", \"3\", \"3\", \"3meat\", \"4\", \"4\", \"4\", \"4\", \"4\", \"4\", \"4\", \"4\", \"4\", \"4\", \"45\", \"45\", \"45\", \"45\", \"45\", \"45\", \"45\", \"45\", \"45\", \"45\", \"575\", \"700\", \"700\", \"700\", \"700\", \"700\", \"700\", \"700\", \"700\", \"700\", \"700\", \"74\", \"74\", \"81212\", \"81212\", \"aaron\", \"aaron\", \"aaron\", \"acai\", \"acai\", \"acai\", \"acai\", \"acai\", \"acai\", \"acai\", \"acai\", \"acai\", \"acai\", \"accueil\", \"accueil\", \"accueil\", \"acrobatic\", \"acrobatic\", \"acrobatic\", \"acrobatic\", \"aisha\", \"amanda\", \"amanda\", \"amanda\", \"amanda\", \"amanda\", \"amanda\", \"amanda\", \"amanda\", \"amanda\", \"amanda\", \"amaze\", \"amaze\", \"amaze\", \"amaze\", \"amaze\", \"amaze\", \"amaze\", \"amaze\", \"amaze\", \"amaze\", \"angelica\", \"appointment\", \"appointment\", \"appointment\", \"appointment\", \"appointment\", \"appointment\", \"appointment\", \"appointment\", \"appointment\", \"appointment\", \"aptive\", \"aptive\", \"area\", \"area\", \"area\", \"area\", \"area\", \"area\", \"area\", \"area\", \"area\", \"area\", \"aryon\", \"ask\", \"ask\", \"ask\", \"ask\", \"ask\", \"ask\", \"ask\", \"ask\", \"ask\", \"ask\", \"atmospherecourteous\", \"atmospherecourteous\", \"auxiliary\", \"available\", \"available\", \"available\", \"available\", \"available\", \"available\", \"available\", \"available\", \"available\", \"available\", \"away\", \"away\", \"away\", \"away\", \"away\", \"away\", \"away\", \"away\", \"away\", \"away\", \"awayserver\", \"awesome\", \"awesome\", \"awesome\", \"awesome\", \"awesome\", \"awesome\", \"awesome\", \"awesome\", \"awesome\", \"awesome\", \"axle\", \"axle\", \"backpack\", \"backpack\", \"backpack\", \"backpack\", \"bad\", \"bad\", \"bad\", \"bad\", \"bad\", \"bad\", \"bad\", \"bad\", \"bad\", \"bad\", \"bar\", \"bar\", \"bar\", \"bar\", \"bar\", \"bar\", \"bar\", \"bar\", \"bar\", \"bar\", \"barpub\", \"barros\", \"barros\", \"basicsthe\", \"bathroomspeaking\", \"bathroomthere\", \"beause\", \"beer\", \"beer\", \"beer\", \"beer\", \"beer\", \"beer\", \"beer\", \"beer\", \"beer\", \"beer\", \"bello\", \"bello\", \"bello\", \"betterrecommended\", \"betterrecommended\", \"betterrecommended\", \"biker\", \"bite\", \"bite\", \"bite\", \"bite\", \"bite\", \"bite\", \"bite\", \"bite\", \"bite\", \"bite\", \"bland\", \"bland\", \"bland\", \"bland\", \"bland\", \"bland\", \"bland\", \"bland\", \"bland\", \"bland\", \"blink\", \"blink\", \"bone\", \"bone\", \"bone\", \"bone\", \"bone\", \"bone\", \"bone\", \"bone\", \"bone\", \"bone\", \"botanical\", \"botanical\", \"botanical\", \"botanical\", \"bottle\", \"bottle\", \"bottle\", \"bottle\", \"bottle\", \"bottle\", \"bottle\", \"bottle\", \"bottle\", \"bottle\", \"boubon\", \"boyfriend\", \"boyfriend\", \"boyfriend\", \"boyfriend\", \"boyfriend\", \"boyfriend\", \"boyfriend\", \"boyfriend\", \"boyfriend\", \"boyfriend\", \"bread\", \"bread\", \"bread\", \"bread\", \"bread\", \"bread\", \"bread\", \"bread\", \"bread\", \"bread\", \"breakfastwtf\", \"breakfastwtf\", \"bring\", \"bring\", \"bring\", \"bring\", \"bring\", \"bring\", \"bring\", \"bring\", \"bring\", \"bring\", \"broccolicauliflower\", \"broccolicauliflower\", \"brookline\", \"brookline\", \"brunch\", \"brunch\", \"brunch\", \"brunch\", \"brunch\", \"brunch\", \"brunch\", \"brunch\", \"brunch\", \"brunch\", \"buffet\", \"buffet\", \"buffet\", \"buffet\", \"buffet\", \"buffet\", \"buffet\", \"buffet\", \"buffet\", \"buffet\", \"business\", \"business\", \"business\", \"business\", \"business\", \"business\", \"business\", \"business\", \"business\", \"business\", \"butterfly\", \"butterfly\", \"care\", \"care\", \"care\", \"care\", \"care\", \"care\", \"care\", \"care\", \"care\", \"care\", \"carlys\", \"carlys\", \"carpaccio\", \"carpaccio\", \"carpaccio\", \"carpaccio\", \"carpaccio\", \"carpaccio\", \"carpaccio\", \"carpaccio\", \"carpaccio\", \"cary\", \"ccw\", \"ccw\", \"cello\", \"ceux\", \"ceux\", \"ceux\", \"ceux\", \"ceux\", \"chaleureux\", \"chaleureux\", \"chaleureux\", \"chauffeur\", \"chauffeur\", \"chauffeur\", \"check\", \"check\", \"check\", \"check\", \"check\", \"check\", \"check\", \"check\", \"check\", \"check\", \"cheese\", \"cheese\", \"cheese\", \"cheese\", \"cheese\", \"cheese\", \"cheese\", \"cheese\", \"cheese\", \"cheese\", \"chicken\", \"chicken\", \"chicken\", \"chicken\", \"chicken\", \"chicken\", \"chicken\", \"chicken\", \"chicken\", \"chicken\", \"chiller\", \"chiller\", \"chiller\", \"chiller\", \"chiller\", \"chiller\", \"chiller\", \"christina\", \"christina\", \"christina\", \"christina\", \"christina\", \"christina\", \"christina\", \"christina\", \"christina\", \"christina\", \"christmasy\", \"christmasy\", \"christmasy\", \"clean\", \"clean\", \"clean\", \"clean\", \"clean\", \"clean\", \"clean\", \"clean\", \"clean\", \"clean\", \"close\", \"close\", \"close\", \"close\", \"close\", \"close\", \"close\", \"close\", \"close\", \"close\", \"cluewent\", \"coffe\", \"coffe\", \"coffeeshop\", \"coffeespecifically\", \"come\", \"come\", \"come\", \"come\", \"come\", \"come\", \"come\", \"come\", \"come\", \"come\", \"company\", \"company\", \"company\", \"company\", \"company\", \"company\", \"company\", \"company\", \"company\", \"company\", \"complaint\", \"complaint\", \"complaint\", \"complaint\", \"complaint\", \"complaint\", \"complaint\", \"complaint\", \"complaint\", \"complaint\", \"conchas\", \"cook\", \"cook\", \"cook\", \"cook\", \"cook\", \"cook\", \"cook\", \"cook\", \"cook\", \"cook\", \"costumers\", \"costumers\", \"costumers\", \"couture\", \"couture\", \"customer\", \"customer\", \"customer\", \"customer\", \"customer\", \"customer\", \"customer\", \"customer\", \"customer\", \"customer\", \"daaayyuuummm\", \"dahl\", \"dahl\", \"dankbbs\", \"dankbbs\", \"darlene\", \"darlene\", \"dawn\", \"dawn\", \"dawn\", \"dawn\", \"dawn\", \"dawn\", \"dawn\", \"dawn\", \"dawn\", \"dawn\", \"day\", \"day\", \"day\", \"day\", \"day\", \"day\", \"day\", \"day\", \"day\", \"day\", \"definitely\", \"definitely\", \"definitely\", \"definitely\", \"definitely\", \"definitely\", \"definitely\", \"definitely\", \"definitely\", \"definitely\", \"delicious\", \"delicious\", \"delicious\", \"delicious\", \"delicious\", \"delicious\", \"delicious\", \"delicious\", \"delicious\", \"delicious\", \"deliciousinexpensive\", \"deliciousremember\", \"delivary\", \"delivary\", \"delivary\", \"demonic\", \"demonic\", \"demonic\", \"desertservice\", \"dessert\", \"dessert\", \"dessert\", \"dessert\", \"dessert\", \"dessert\", \"dessert\", \"dessert\", \"dessert\", \"dessert\", \"deter\", \"deter\", \"deter\", \"deter\", \"devin\", \"devin\", \"devin\", \"different\", \"different\", \"different\", \"different\", \"different\", \"different\", \"different\", \"different\", \"different\", \"different\", \"dilly\", \"dilly\", \"dine\", \"dine\", \"dine\", \"dine\", \"dine\", \"dine\", \"dine\", \"dine\", \"dine\", \"dine\", \"dinner\", \"dinner\", \"dinner\", \"dinner\", \"dinner\", \"dinner\", \"dinner\", \"dinner\", \"dinner\", \"dinner\", \"dippin\", \"dog\", \"dog\", \"dog\", \"dog\", \"dog\", \"dog\", \"dog\", \"dog\", \"dog\", \"dog\", \"dojo\", \"dojo\", \"dolci\", \"dollarsnot\", \"donovan\", \"donovan\", \"donovan\", \"drink\", \"drink\", \"drink\", \"drink\", \"drink\", \"drink\", \"drink\", \"drink\", \"drink\", \"drink\", \"dye\", \"dye\", \"dye\", \"dye\", \"dye\", \"dye\", \"dye\", \"dye\", \"dye\", \"dye\", \"eat\", \"eat\", \"eat\", \"eat\", \"eat\", \"eat\", \"eat\", \"eat\", \"eat\", \"eat\", \"end\", \"end\", \"end\", \"end\", \"end\", \"end\", \"end\", \"end\", \"end\", \"end\", \"enjoy\", \"enjoy\", \"enjoy\", \"enjoy\", \"enjoy\", \"enjoy\", \"enjoy\", \"enjoy\", \"enjoy\", \"enjoy\", \"environmental\", \"environmental\", \"environmental\", \"erika\", \"erika\", \"ev36\", \"everrr\", \"everrr\", \"everrr\", \"exactly\", \"exactly\", \"exactly\", \"exactly\", \"exactly\", \"exactly\", \"exactly\", \"exactly\", \"exactly\", \"exactly\", \"excellent\", \"excellent\", \"excellent\", \"excellent\", \"excellent\", \"excellent\", \"excellent\", \"excellent\", \"excellent\", \"excellent\", \"expect\", \"expect\", \"expect\", \"expect\", \"expect\", \"expect\", \"expect\", \"expect\", \"expect\", \"expect\", \"experience\", \"experience\", \"experience\", \"experience\", \"experience\", \"experience\", \"experience\", \"experience\", \"experience\", \"experience\", \"eyebrow\", \"eyebrow\", \"eyebrow\", \"eyebrow\", \"eyebrow\", \"eyebrow\", \"eyebrow\", \"eyebrow\", \"eyebrow\", \"eyebrow\", \"fabulously\", \"fabulously\", \"fabulously\", \"fantastic\", \"fantastic\", \"fantastic\", \"fantastic\", \"fantastic\", \"fantastic\", \"fantastic\", \"fantastic\", \"fantastic\", \"fantastic\", \"far\", \"far\", \"far\", \"far\", \"far\", \"far\", \"far\", \"far\", \"far\", \"far\", \"farseems\", \"fast\", \"fast\", \"fast\", \"fast\", \"fast\", \"fast\", \"fast\", \"fast\", \"fast\", \"fast\", \"favorite\", \"favorite\", \"favorite\", \"favorite\", \"favorite\", \"favorite\", \"favorite\", \"favorite\", \"favorite\", \"favorite\", \"feast\", \"feast\", \"feast\", \"feast\", \"feast\", \"feast\", \"feast\", \"feast\", \"feast\", \"feast\", \"feel\", \"feel\", \"feel\", \"feel\", \"feel\", \"feel\", \"feel\", \"feel\", \"feel\", \"feel\", \"find\", \"find\", \"find\", \"find\", \"find\", \"find\", \"find\", \"find\", \"find\", \"find\", \"firefly\", \"firefly\", \"firefly\", \"firefly\", \"food\", \"food\", \"food\", \"food\", \"food\", \"food\", \"food\", \"food\", \"food\", \"food\", \"forgetful\", \"fresh\", \"fresh\", \"fresh\", \"fresh\", \"fresh\", \"fresh\", \"fresh\", \"fresh\", \"fresh\", \"fresh\", \"fridendly\", \"fridendly\", \"friend\", \"friend\", \"friend\", \"friend\", \"friend\", \"friend\", \"friend\", \"friend\", \"friend\", \"friend\", \"friendly\", \"friendly\", \"friendly\", \"friendly\", \"friendly\", \"friendly\", \"friendly\", \"friendly\", \"friendly\", \"friendly\", \"froide\", \"fry\", \"fry\", \"fry\", \"fry\", \"fry\", \"fry\", \"fry\", \"fry\", \"fry\", \"fry\", \"fun\", \"fun\", \"fun\", \"fun\", \"fun\", \"fun\", \"fun\", \"fun\", \"fun\", \"fun\", \"fungus\", \"fungus\", \"fungus\", \"garment\", \"garment\", \"garment\", \"garment\", \"garment\", \"garment\", \"gelcolor\", \"general\", \"general\", \"general\", \"general\", \"general\", \"general\", \"general\", \"general\", \"general\", \"general\", \"golfweekcom\", \"golfweekcom\", \"good\", \"good\", \"good\", \"good\", \"good\", \"good\", \"good\", \"good\", \"good\", \"good\", \"gooddecent\", \"great\", \"great\", \"great\", \"great\", \"great\", \"great\", \"great\", \"great\", \"great\", \"great\", \"green\", \"green\", \"green\", \"green\", \"green\", \"green\", \"green\", \"green\", \"green\", \"green\", \"greenhouse\", \"greenhouse\", \"greenhouse\", \"greenhouse\", \"greenway\", \"greenway\", \"greulichs\", \"guy\", \"guy\", \"guy\", \"guy\", \"guy\", \"guy\", \"guy\", \"guy\", \"guy\", \"guy\", \"happy\", \"happy\", \"happy\", \"happy\", \"happy\", \"happy\", \"happy\", \"happy\", \"happy\", \"happy\", \"harlow\", \"harlow\", \"healthyvegan\", \"healthyvegan\", \"help\", \"help\", \"help\", \"help\", \"help\", \"help\", \"help\", \"help\", \"help\", \"help\", \"helpfuloverall\", \"helpfuloverall\", \"helpfulthis\", \"herelas\", \"herelas\", \"herringtonbone\", \"high\", \"high\", \"high\", \"high\", \"high\", \"high\", \"high\", \"high\", \"high\", \"high\", \"hiram\", \"hiram\", \"hiram\", \"hiram\", \"hiram\", \"hiram\", \"home\", \"home\", \"home\", \"home\", \"home\", \"home\", \"home\", \"home\", \"home\", \"home\", \"hoodlum\", \"hotel\", \"hotel\", \"hotel\", \"hotel\", \"hotel\", \"hotel\", \"hotel\", \"hotel\", \"hotel\", \"hotel\", \"hour\", \"hour\", \"hour\", \"hour\", \"hour\", \"hour\", \"hour\", \"hour\", \"hour\", \"hour\", \"hudson\", \"hudson\", \"hudson\", \"hudson\", \"hudson\", \"ice\", \"ice\", \"ice\", \"ice\", \"ice\", \"ice\", \"ice\", \"ice\", \"ice\", \"ice\", \"ill\", \"ill\", \"ill\", \"ill\", \"ill\", \"ill\", \"ill\", \"ill\", \"ill\", \"ill\", \"imcomplete\", \"immediately\", \"immediately\", \"immediately\", \"immediately\", \"immediately\", \"immediately\", \"immediately\", \"immediately\", \"immediately\", \"immediately\", \"inconvience\", \"inconvience\", \"insectarium\", \"intelligent\", \"intelligent\", \"intelligent\", \"intelligent\", \"intelligent\", \"intelligently\", \"item\", \"item\", \"item\", \"item\", \"item\", \"item\", \"item\", \"item\", \"item\", \"item\", \"jellyfish\", \"jellyfish\", \"jesse\", \"joanne\", \"joanne\", \"joanne\", \"joanne\", \"jokemy\", \"kang\", \"kang\", \"kang\", \"kendel\", \"kendel\", \"kitten\", \"know\", \"know\", \"know\", \"know\", \"know\", \"know\", \"know\", \"know\", \"know\", \"know\", \"krung\", \"krung\", \"lambiance\", \"lambiance\", \"lambiance\", \"lambiance\", \"late\", \"late\", \"late\", \"late\", \"late\", \"late\", \"late\", \"late\", \"late\", \"late\", \"lauto\", \"leave\", \"leave\", \"leave\", \"leave\", \"leave\", \"leave\", \"leave\", \"leave\", \"leave\", \"leave\", \"leches\", \"like\", \"like\", \"like\", \"like\", \"like\", \"like\", \"like\", \"like\", \"like\", \"like\", \"linda\", \"linda\", \"linda\", \"linda\", \"line\", \"line\", \"line\", \"line\", \"line\", \"line\", \"line\", \"line\", \"line\", \"line\", \"little\", \"little\", \"little\", \"little\", \"little\", \"little\", \"little\", \"little\", \"little\", \"little\", \"live\", \"live\", \"live\", \"live\", \"live\", \"live\", \"live\", \"live\", \"live\", \"live\", \"location\", \"location\", \"location\", \"location\", \"location\", \"location\", \"location\", \"location\", \"location\", \"location\", \"long\", \"long\", \"long\", \"long\", \"long\", \"long\", \"long\", \"long\", \"long\", \"long\", \"look\", \"look\", \"look\", \"look\", \"look\", \"look\", \"look\", \"look\", \"look\", \"look\", \"lot\", \"lot\", \"lot\", \"lot\", \"lot\", \"lot\", \"lot\", \"lot\", \"lot\", \"lot\", \"lotus\", \"love\", \"love\", \"love\", \"love\", \"love\", \"love\", \"love\", \"love\", \"love\", \"love\", \"martial\", \"martial\", \"martial\", \"martial\", \"martial\", \"martial\", \"mary4\", \"mathe\", \"matt\", \"matt\", \"matt\", \"matt\", \"matt\", \"matt\", \"matt\", \"matt\", \"matt\", \"matt\", \"matthew\", \"matthew\", \"matthew\", \"maybe\", \"maybe\", \"maybe\", \"maybe\", \"maybe\", \"maybe\", \"maybe\", \"maybe\", \"maybe\", \"maybe\", \"meat\", \"meat\", \"meat\", \"meat\", \"meat\", \"meat\", \"meat\", \"meat\", \"meat\", \"meat\", \"meatsseafood\", \"megaphone\", \"megaphone\", \"menu\", \"menu\", \"menu\", \"menu\", \"menu\", \"menu\", \"menu\", \"menu\", \"menu\", \"menu\", \"method\", \"method\", \"method\", \"method\", \"method\", \"method\", \"method\", \"method\", \"method\", \"method\", \"michelle\", \"michelle\", \"michelle\", \"michelle\", \"michelle\", \"michelle\", \"michelle\", \"michelle\", \"miguel\", \"minute\", \"minute\", \"minute\", \"minute\", \"minute\", \"minute\", \"minute\", \"minute\", \"minute\", \"minute\", \"mochas\", \"momma\", \"momma\", \"month\", \"month\", \"month\", \"month\", \"month\", \"month\", \"month\", \"month\", \"month\", \"month\", \"mushroom\", \"mushroom\", \"mushroom\", \"mushroom\", \"mushroom\", \"mushroom\", \"mushroom\", \"mushroom\", \"mushroom\", \"mushroom\", \"nai\", \"nai\", \"nan\", \"nan\", \"nan\", \"nan\", \"nan\", \"nan\", \"nan\", \"nan\", \"nan\", \"nancy\", \"nancy\", \"nancy\", \"nancy\", \"nancy\", \"nancy\", \"nancy\", \"nancy\", \"nancy\", \"nancy\", \"nationwide\", \"nationwide\", \"need\", \"need\", \"need\", \"need\", \"need\", \"need\", \"need\", \"need\", \"need\", \"need\", \"new\", \"new\", \"new\", \"new\", \"new\", \"new\", \"new\", \"new\", \"new\", \"new\", \"newcomersask\", \"newcomersask\", \"nice\", \"nice\", \"nice\", \"nice\", \"nice\", \"nice\", \"nice\", \"nice\", \"nice\", \"nice\", \"night\", \"night\", \"night\", \"night\", \"night\", \"night\", \"night\", \"night\", \"night\", \"night\", \"nitro\", \"noddle\", \"noel\", \"nook\", \"nook\", \"nook\", \"offer\", \"offer\", \"offer\", \"offer\", \"offer\", \"offer\", \"offer\", \"offer\", \"offer\", \"offer\", \"okay\", \"okay\", \"okay\", \"okay\", \"okay\", \"okay\", \"okay\", \"okay\", \"okay\", \"okay\", \"onion\", \"onion\", \"onion\", \"onion\", \"onion\", \"onion\", \"onion\", \"onion\", \"onion\", \"onion\", \"open\", \"open\", \"open\", \"open\", \"open\", \"open\", \"open\", \"open\", \"open\", \"open\", \"order\", \"order\", \"order\", \"order\", \"order\", \"order\", \"order\", \"order\", \"order\", \"order\", \"palmas\", \"palmas\", \"pam\", \"pam\", \"park\", \"park\", \"park\", \"park\", \"park\", \"park\", \"park\", \"park\", \"park\", \"park\", \"parker\", \"parker\", \"pay\", \"pay\", \"pay\", \"pay\", \"pay\", \"pay\", \"pay\", \"pay\", \"pay\", \"pay\", \"pedicure\", \"pedicure\", \"pedicure\", \"pedicure\", \"pedicure\", \"pedicure\", \"pedicure\", \"pedicure\", \"pedicure\", \"pedicure\", \"pelmeni\", \"pelmeni\", \"pelmeni\", \"pelmeni\", \"pelmeni\", \"pelmeni\", \"pelmeni\", \"pelmeni\", \"pelmeni\", \"pelmeni\", \"people\", \"people\", \"people\", \"people\", \"people\", \"people\", \"people\", \"people\", \"people\", \"people\", \"peru\", \"peru\", \"peru\", \"peru\", \"peru\", \"peru\", \"peru\", \"phone\", \"phone\", \"phone\", \"phone\", \"phone\", \"phone\", \"phone\", \"phone\", \"phone\", \"phone\", \"picante\", \"picante\", \"picasso\", \"picasso\", \"picasso\", \"picasso\", \"picasso\", \"picasso\", \"picasso\", \"picasso\", \"picasso\", \"picasso\", \"pick\", \"pick\", \"pick\", \"pick\", \"pick\", \"pick\", \"pick\", \"pick\", \"pick\", \"pick\", \"piri\", \"pittsburg\", \"pittsburg\", \"pizza\", \"pizza\", \"pizza\", \"pizza\", \"pizza\", \"pizza\", \"pizza\", \"pizza\", \"pizza\", \"pizza\", \"place\", \"place\", \"place\", \"place\", \"place\", \"place\", \"place\", \"place\", \"place\", \"place\", \"pleasantquiet\", \"poison\", \"poison\", \"poison\", \"poison\", \"poison\", \"poison\", \"poison\", \"poison\", \"poison\", \"poison\", \"pok\", \"poker\", \"poker\", \"poker\", \"poker\", \"poker\", \"poker\", \"poker\", \"poker\", \"poker\", \"poker\", \"portion\", \"portion\", \"portion\", \"portion\", \"portion\", \"portion\", \"portion\", \"portion\", \"portion\", \"portion\", \"posoleshawwty\", \"posoleshawwty\", \"postoperative\", \"postoperative\", \"postoperative\", \"preseason\", \"pretty\", \"pretty\", \"pretty\", \"pretty\", \"pretty\", \"pretty\", \"pretty\", \"pretty\", \"pretty\", \"pretty\", \"price\", \"price\", \"price\", \"price\", \"price\", \"price\", \"price\", \"price\", \"price\", \"price\", \"purolator\", \"puzzlemaster\", \"puzzlemaster\", \"quality\", \"quality\", \"quality\", \"quality\", \"quality\", \"quality\", \"quality\", \"quality\", \"quality\", \"quality\", \"quickly\", \"quickly\", \"quickly\", \"quickly\", \"quickly\", \"quickly\", \"quickly\", \"quickly\", \"quickly\", \"quickly\", \"rapidebonne\", \"rapidebonne\", \"reason\", \"reason\", \"reason\", \"reason\", \"reason\", \"reason\", \"reason\", \"reason\", \"reason\", \"reason\", \"recently\", \"recently\", \"recently\", \"recently\", \"recently\", \"recently\", \"recently\", \"recently\", \"recently\", \"recently\", \"recommend\", \"recommend\", \"recommend\", \"recommend\", \"recommend\", \"recommend\", \"recommend\", \"recommend\", \"recommend\", \"recommend\", \"reflexology\", \"reflexology\", \"reflexology\", \"reflexology\", \"reflexology\", \"reflexology\", \"reflexology\", \"reflexology\", \"reflexology\", \"restaurant\", \"restaurant\", \"restaurant\", \"restaurant\", \"restaurant\", \"restaurant\", \"restaurant\", \"restaurant\", \"restaurant\", \"restaurant\", \"resultsi\", \"resultsi\", \"return\", \"return\", \"return\", \"return\", \"return\", \"return\", \"return\", \"return\", \"return\", \"return\", \"review\", \"review\", \"review\", \"review\", \"review\", \"review\", \"review\", \"review\", \"review\", \"review\", \"rice\", \"rice\", \"rice\", \"rice\", \"rice\", \"rice\", \"rice\", \"rice\", \"rice\", \"rice\", \"ricketts\", \"ricketts\", \"right\", \"right\", \"right\", \"right\", \"right\", \"right\", \"right\", \"right\", \"right\", \"right\", \"risas\", \"roll\", \"roll\", \"roll\", \"roll\", \"roll\", \"roll\", \"roll\", \"roll\", \"roll\", \"roll\", \"romper\", \"romper\", \"room\", \"room\", \"room\", \"room\", \"room\", \"room\", \"room\", \"room\", \"room\", \"room\", \"roomtastic\", \"roomtastic\", \"roomtastic\", \"rosebush\", \"rosebush\", \"rosebush\", \"roxton\", \"s\", \"s\", \"s\", \"s\", \"s\", \"s\", \"s\", \"s\", \"s\", \"s\", \"salad\", \"salad\", \"salad\", \"salad\", \"salad\", \"salad\", \"salad\", \"salad\", \"salad\", \"salad\", \"samantha\", \"samantha\", \"samantha\", \"samantha\", \"samantha\", \"samanthas\", \"sammies\", \"sammies\", \"sammies\", \"sammies\", \"sammies\", \"sandwich\", \"sandwich\", \"sandwich\", \"sandwich\", \"sandwich\", \"sandwich\", \"sandwich\", \"sandwich\", \"sandwich\", \"sandwich\", \"sauce\", \"sauce\", \"sauce\", \"sauce\", \"sauce\", \"sauce\", \"sauce\", \"sauce\", \"sauce\", \"sauce\", \"selection\", \"selection\", \"selection\", \"selection\", \"selection\", \"selection\", \"selection\", \"selection\", \"selection\", \"selection\", \"serve\", \"serve\", \"serve\", \"serve\", \"serve\", \"serve\", \"serve\", \"serve\", \"serve\", \"serve\", \"server\", \"server\", \"server\", \"server\", \"server\", \"server\", \"server\", \"server\", \"server\", \"server\", \"service\", \"service\", \"service\", \"service\", \"service\", \"service\", \"service\", \"service\", \"service\", \"service\", \"servicedont\", \"servicemaybe\", \"servicemaybe\", \"servicemaybe\", \"servicesliders\", \"shawarmas\", \"shawarmas\", \"sheldon\", \"shipper\", \"shoooz\", \"shrimp\", \"shrimp\", \"shrimp\", \"shrimp\", \"shrimp\", \"shrimp\", \"shrimp\", \"shrimp\", \"shrimp\", \"shrimp\", \"siam\", \"siam\", \"siam\", \"siam\", \"singapore\", \"singapore\", \"singapore\", \"singapore\", \"singapore\", \"singapore\", \"sit\", \"sit\", \"sit\", \"sit\", \"sit\", \"sit\", \"sit\", \"sit\", \"sit\", \"sit\", \"slow\", \"slow\", \"slow\", \"slow\", \"slow\", \"slow\", \"slow\", \"slow\", \"slow\", \"slow\", \"small\", \"small\", \"small\", \"small\", \"small\", \"small\", \"small\", \"small\", \"small\", \"small\", \"sono\", \"sono\", \"sophia\", \"sophia\", \"sophia\", \"sophia\", \"soup\", \"soup\", \"soup\", \"soup\", \"soup\", \"soup\", \"soup\", \"soup\", \"soup\", \"soup\", \"spicy\", \"spicy\", \"spicy\", \"spicy\", \"spicy\", \"spicy\", \"spicy\", \"spicy\", \"spicy\", \"spicy\", \"spotmy\", \"spotmy\", \"spotmy\", \"squishies\", \"squishies\", \"squishies\", \"staff\", \"staff\", \"staff\", \"staff\", \"staff\", \"staff\", \"staff\", \"staff\", \"staff\", \"staff\", \"staffvery\", \"stand\", \"stand\", \"stand\", \"stand\", \"stand\", \"stand\", \"stand\", \"stand\", \"stand\", \"stand\", \"star\", \"star\", \"star\", \"star\", \"star\", \"star\", \"star\", \"star\", \"star\", \"star\", \"start\", \"start\", \"start\", \"start\", \"start\", \"start\", \"start\", \"start\", \"start\", \"start\", \"startup\", \"steak\", \"steak\", \"steak\", \"steak\", \"steak\", \"steak\", \"steak\", \"steak\", \"steak\", \"steak\", \"store\", \"store\", \"store\", \"store\", \"store\", \"store\", \"store\", \"store\", \"store\", \"store\", \"stylistbarber\", \"sup\", \"super\", \"super\", \"super\", \"super\", \"super\", \"super\", \"super\", \"super\", \"super\", \"super\", \"superdisappointed\", \"superdisappointed\", \"sure\", \"sure\", \"sure\", \"sure\", \"sure\", \"sure\", \"sure\", \"sure\", \"sure\", \"sure\", \"suxs\", \"suxs\", \"sw\", \"sw\", \"sw\", \"sw\", \"sw\", \"sw\", \"swedish\", \"swedish\", \"swedish\", \"swedish\", \"swedish\", \"swedish\", \"swedish\", \"sweet\", \"sweet\", \"sweet\", \"sweet\", \"sweet\", \"sweet\", \"sweet\", \"sweet\", \"sweet\", \"sweet\", \"sweettooth\", \"sweettooth\", \"table\", \"table\", \"table\", \"table\", \"table\", \"table\", \"table\", \"table\", \"table\", \"table\", \"taco\", \"taco\", \"taco\", \"taco\", \"taco\", \"taco\", \"taco\", \"taco\", \"taco\", \"taco\", \"talia\", \"talia\", \"talk\", \"talk\", \"talk\", \"talk\", \"talk\", \"talk\", \"talk\", \"talk\", \"talk\", \"talk\", \"tar\", \"tar\", \"tar\", \"tar\", \"tar\", \"tar\", \"taste\", \"taste\", \"taste\", \"taste\", \"taste\", \"taste\", \"taste\", \"taste\", \"taste\", \"taste\", \"tasty\", \"tasty\", \"tasty\", \"tasty\", \"tasty\", \"tasty\", \"tasty\", \"tasty\", \"tasty\", \"tasty\", \"tea\", \"tea\", \"tea\", \"tea\", \"tea\", \"tea\", \"tea\", \"tea\", \"tea\", \"tea\", \"tell\", \"tell\", \"tell\", \"tell\", \"tell\", \"tell\", \"tell\", \"tell\", \"tell\", \"tell\", \"tha\", \"thank\", \"thank\", \"thank\", \"thank\", \"thank\", \"thank\", \"thank\", \"thank\", \"thank\", \"thank\", \"thing\", \"thing\", \"thing\", \"thing\", \"thing\", \"thing\", \"thing\", \"thing\", \"thing\", \"thing\", \"think\", \"think\", \"think\", \"think\", \"think\", \"think\", \"think\", \"think\", \"think\", \"think\", \"time\", \"time\", \"time\", \"time\", \"time\", \"time\", \"time\", \"time\", \"time\", \"time\", \"tire\", \"tire\", \"tire\", \"tire\", \"tire\", \"tire\", \"tire\", \"tire\", \"tire\", \"tire\", \"townlost\", \"try\", \"try\", \"try\", \"try\", \"try\", \"try\", \"try\", \"try\", \"try\", \"try\", \"tso\", \"tso\", \"tso\", \"tso\", \"unique\", \"unique\", \"unique\", \"unique\", \"unique\", \"unique\", \"unique\", \"unique\", \"unique\", \"unique\", \"use\", \"use\", \"use\", \"use\", \"use\", \"use\", \"use\", \"use\", \"use\", \"use\", \"usually\", \"usually\", \"usually\", \"usually\", \"usually\", \"usually\", \"usually\", \"usually\", \"usually\", \"usually\", \"vadai\", \"vadai\", \"vega\", \"vega\", \"vega\", \"vega\", \"vega\", \"vega\", \"vega\", \"vega\", \"vega\", \"vega\", \"viability\", \"viability\", \"victorias\", \"victorias\", \"visit\", \"visit\", \"visit\", \"visit\", \"visit\", \"visit\", \"visit\", \"visit\", \"visit\", \"visit\", \"vw\", \"wait\", \"wait\", \"wait\", \"wait\", \"wait\", \"wait\", \"wait\", \"wait\", \"wait\", \"wait\", \"waitresscashier\", \"waitresscashier\", \"walk\", \"walk\", \"walk\", \"walk\", \"walk\", \"walk\", \"walk\", \"walk\", \"walk\", \"walk\", \"walkins\", \"walkins\", \"walkins\", \"walkins\", \"walkins\", \"walkins\", \"walkins\", \"walkins\", \"walkthrough\", \"walkthrough\", \"want\", \"want\", \"want\", \"want\", \"want\", \"want\", \"want\", \"want\", \"want\", \"want\", \"way\", \"way\", \"way\", \"way\", \"way\", \"way\", \"way\", \"way\", \"way\", \"way\", \"wei\", \"wei\", \"wei\", \"wheelchair\", \"wheelchair\", \"wheelchair\", \"wheelchair\", \"wheelchair\", \"wheelchair\", \"wheelchair\", \"wine\", \"wine\", \"wine\", \"wine\", \"wine\", \"wine\", \"wine\", \"wine\", \"wine\", \"wine\", \"woot\", \"woot\", \"woot\", \"work\", \"work\", \"work\", \"work\", \"work\", \"work\", \"work\", \"work\", \"work\", \"work\", \"yasmin\", \"yasmin\", \"yasmin\", \"yasmin\", \"yeahhhhhhhautomatic\", \"year\", \"year\", \"year\", \"year\", \"year\", \"year\", \"year\", \"year\", \"year\", \"year\", \"yuk\", \"yuk\", \"yuk\", \"yuk\", \"yuk\", \"yuk\", \"yuk\", \"yuk\", \"\\ufeff1\", \"\\ufeff1\", \"\\ufeff1\", \"\\ufeff1\", \"\\ufeff1\", \"\\ufeff1\", \"\\ufeff1\", \"\\ufeff1\", \"\\ufeff1\", \"\\ufeff1\"]}, \"R\": 30, \"lambda.step\": 0.01, \"plot.opts\": {\"xlab\": \"PC1\", \"ylab\": \"PC2\"}, \"topic.order\": [8, 7, 1, 10, 2, 5, 3, 6, 4, 9]};\n",
       "\n",
       "function LDAvis_load_lib(url, callback){\n",
       "  var s = document.createElement('script');\n",
       "  s.src = url;\n",
       "  s.async = true;\n",
       "  s.onreadystatechange = s.onload = callback;\n",
       "  s.onerror = function(){console.warn(\"failed to load library \" + url);};\n",
       "  document.getElementsByTagName(\"head\")[0].appendChild(s);\n",
       "}\n",
       "\n",
       "if(typeof(LDAvis) !== \"undefined\"){\n",
       "   // already loaded: just create the visualization\n",
       "   !function(LDAvis){\n",
       "       new LDAvis(\"#\" + \"ldavis_el936026375784113683273871472\", ldavis_el936026375784113683273871472_data);\n",
       "   }(LDAvis);\n",
       "}else if(typeof define === \"function\" && define.amd){\n",
       "   // require.js is available: use it to load d3/LDAvis\n",
       "   require.config({paths: {d3: \"https://cdnjs.cloudflare.com/ajax/libs/d3/3.5.5/d3.min\"}});\n",
       "   require([\"d3\"], function(d3){\n",
       "      window.d3 = d3;\n",
       "      LDAvis_load_lib(\"https://cdn.rawgit.com/bmabey/pyLDAvis/files/ldavis.v1.0.0.js\", function(){\n",
       "        new LDAvis(\"#\" + \"ldavis_el936026375784113683273871472\", ldavis_el936026375784113683273871472_data);\n",
       "      });\n",
       "    });\n",
       "}else{\n",
       "    // require.js not available: dynamically load d3 & LDAvis\n",
       "    LDAvis_load_lib(\"https://cdnjs.cloudflare.com/ajax/libs/d3/3.5.5/d3.min.js\", function(){\n",
       "         LDAvis_load_lib(\"https://cdn.rawgit.com/bmabey/pyLDAvis/files/ldavis.v1.0.0.js\", function(){\n",
       "                 new LDAvis(\"#\" + \"ldavis_el936026375784113683273871472\", ldavis_el936026375784113683273871472_data);\n",
       "            })\n",
       "         });\n",
       "}\n",
       "</script>"
      ],
      "text/plain": [
       "PreparedData(topic_coordinates=              x         y  topics  cluster       Freq\n",
       "topic                                                \n",
       "7      0.004607 -0.001268       1        1  10.712153\n",
       "6      0.001698 -0.002214       2        1  10.384345\n",
       "0      0.000283  0.000559       3        1  10.173436\n",
       "9      0.002124 -0.001051       4        1  10.143820\n",
       "1     -0.002750 -0.003974       5        1   9.982859\n",
       "4     -0.005116  0.000781       6        1   9.930052\n",
       "2     -0.002245  0.000083       7        1   9.927717\n",
       "5      0.002018  0.001201       8        1   9.715178\n",
       "3     -0.001061  0.000065       9        1   9.621071\n",
       "8      0.000443  0.005817      10        1   9.409374, topic_info=     Category         Freq        Term        Total  loglift  logprob\n",
       "42    Default  5985.000000        good  5985.000000  30.0000  30.0000\n",
       "204   Default  4041.000000       great  4041.000000  29.0000  29.0000\n",
       "129   Default  4965.000000       place  4965.000000  28.0000  28.0000\n",
       "36    Default  4011.000000        time  4011.000000  27.0000  27.0000\n",
       "47    Default  3459.000000     service  3459.000000  26.0000  26.0000\n",
       "52    Default  5093.000000      -PRON-  5093.000000  25.0000  25.0000\n",
       "39    Default  3689.000000        come  3689.000000  24.0000  24.0000\n",
       "20    Default  3558.000000        like  3558.000000  23.0000  23.0000\n",
       "665   Default  2113.000000        love  2113.000000  22.0000  22.0000\n",
       "482   Default  1445.000000        tell  1445.000000  21.0000  21.0000\n",
       "1144  Default  1294.000000     chicken  1294.000000  20.0000  20.0000\n",
       "348   Default  1515.000000        find  1515.000000  19.0000  19.0000\n",
       "404   Default  1433.000000         ask  1433.000000  18.0000  18.0000\n",
       "364   Default  3211.000000       order  3211.000000  17.0000  17.0000\n",
       "299   Default  1718.000000        want  1718.000000  16.0000  16.0000\n",
       "41    Default  1298.000000    friendly  1298.000000  15.0000  15.0000\n",
       "144   Default  4609.000000        food  4609.000000  14.0000  14.0000\n",
       "57    Default  1000.000000         bar  1000.000000  13.0000  13.0000\n",
       "147   Default  1063.000000         fry  1063.000000  12.0000  12.0000\n",
       "190   Default  1290.000000       amaze  1290.000000  11.0000  11.0000\n",
       "27    Default   992.000000      minute   992.000000  10.0000  10.0000\n",
       "243   Default  1015.000000       right  1015.000000   9.0000   9.0000\n",
       "127   Default  1334.000000      people  1334.000000   8.0000   8.0000\n",
       "266   Default  1165.000000        feel  1165.000000   7.0000   7.0000\n",
       "225   Default   553.000000       thank   553.000000   6.0000   6.0000\n",
       "315   Default  1428.000000        work  1428.000000   5.0000   5.0000\n",
       "879   Default   546.000000    sandwich   546.000000   4.0000   4.0000\n",
       "154   Default  1706.000000       price  1706.000000   3.0000   3.0000\n",
       "92    Default  1689.000000        nice  1689.000000   2.0000   2.0000\n",
       "681   Default  1155.000000       taste  1155.000000   1.0000   1.0000\n",
       "...       ...          ...         ...          ...      ...      ...\n",
       "20    Topic10   368.560181        like  3558.273926   0.0960  -4.8071\n",
       "129   Topic10   487.554779       place  4965.479980   0.0426  -4.5273\n",
       "976   Topic10   124.766373         use  1047.395020   0.2358  -5.8903\n",
       "839   Topic10   108.655769       clean   906.219971   0.2424  -6.0286\n",
       "436   Topic10    76.287323        help   605.378174   0.2921  -6.3822\n",
       "309   Topic10    53.361504         ill   400.839294   0.3470  -6.7397\n",
       "101   Topic10   172.276382  restaurant  1595.010498   0.1379  -5.5676\n",
       "144   Topic10   409.292999        food  4609.797363  -0.0580  -4.7023\n",
       "92    Topic10   177.180099        nice  1689.028320   0.1087  -5.5396\n",
       "10    Topic10    63.376816    business   495.244568   0.3075  -6.5676\n",
       "52    Topic10   434.556854      -PRON-  5093.457520  -0.0979  -4.6424\n",
       "47    Topic10   310.510101     service  3459.519531  -0.0472  -4.9785\n",
       "952   Topic10   124.447716         new  1129.778931   0.1576  -5.8929\n",
       "153   Topic10   112.689079      pretty  1001.277100   0.1791  -5.9921\n",
       "364   Topic10   284.647675       order  3211.693604  -0.0598  -5.0655\n",
       "64    Topic10    95.736771       check   827.080261   0.2072  -6.1551\n",
       "443   Topic10   158.531631        know  1599.331787   0.0521  -5.6508\n",
       "315   Topic10   142.442520        work  1428.880981   0.0578  -5.7578\n",
       "350   Topic10   100.875008       fresh   899.391479   0.1756  -6.1029\n",
       "37    Topic10   194.970169         try  2399.291260  -0.1466  -5.4439\n",
       "39    Topic10   259.799561        come  3689.487061  -0.2899  -5.1568\n",
       "665   Topic10   173.861572        love  2113.569336  -0.1344  -5.5585\n",
       "1144  Topic10   126.739136     chicken  1294.073242   0.0400  -5.8746\n",
       "36    Topic10   252.031006        time  4011.354004  -0.4039  -5.1872\n",
       "358   Topic10   172.169571      little  2140.394287  -0.1568  -5.5683\n",
       "154   Topic10   146.986694       price  1706.787720  -0.0886  -5.7264\n",
       "38    Topic10   142.308441        wait  1642.106812  -0.0823  -5.7587\n",
       "597   Topic10   127.567467       drink  1378.999756  -0.0170  -5.8681\n",
       "404   Topic10   128.230072         ask  1433.168701  -0.0504  -5.8629\n",
       "420   Topic10   126.859627         day  1440.708862  -0.0663  -5.8737\n",
       "\n",
       "[824 rows x 6 columns], token_table=       Topic      Freq                 Term\n",
       "term                                       \n",
       "52         1  0.124866               -PRON-\n",
       "52         2  0.077943               -PRON-\n",
       "52         3  0.120547               -PRON-\n",
       "52         4  0.078139               -PRON-\n",
       "52         5  0.106804               -PRON-\n",
       "52         6  0.116031               -PRON-\n",
       "52         7  0.078925               -PRON-\n",
       "52         8  0.099932               -PRON-\n",
       "52         9  0.111319               -PRON-\n",
       "52        10  0.085404               -PRON-\n",
       "303        1  0.095177                   10\n",
       "303        2  0.101252                   10\n",
       "303        3  0.095177                   10\n",
       "303        4  0.137703                   10\n",
       "303        5  0.085052                   10\n",
       "303        6  0.089102                   10\n",
       "303        7  0.097202                   10\n",
       "303        8  0.099227                   10\n",
       "303        9  0.101252                   10\n",
       "303       10  0.097202                   10\n",
       "393        1  0.102188                   12\n",
       "393        2  0.082724                   12\n",
       "393        3  0.092456                   12\n",
       "393        4  0.097322                   12\n",
       "393        5  0.107054                   12\n",
       "393        6  0.116786                   12\n",
       "393        7  0.082724                   12\n",
       "393        8  0.150849                   12\n",
       "393        9  0.092456                   12\n",
       "393       10  0.077858                   12\n",
       "...      ...       ...                  ...\n",
       "29457      9  0.193569               yasmin\n",
       "31424      8  0.327078  yeahhhhhhhautomatic\n",
       "116        1  0.132332                 year\n",
       "116        2  0.103748                 year\n",
       "116        3  0.078340                 year\n",
       "116        4  0.096337                 year\n",
       "116        5  0.081516                 year\n",
       "116        6  0.114334                 year\n",
       "116        7  0.092103                 year\n",
       "116        8  0.099513                 year\n",
       "116        9  0.097396                 year\n",
       "116       10  0.105865                 year\n",
       "13077      1  0.105869                  yuk\n",
       "13077      2  0.070579                  yuk\n",
       "13077      3  0.105869                  yuk\n",
       "13077      4  0.035290                  yuk\n",
       "13077      5  0.282318                  yuk\n",
       "13077      7  0.035290                  yuk\n",
       "13077      8  0.035290                  yuk\n",
       "13077     10  0.317607                  yuk\n",
       "184        1  0.126808                   ﻿1\n",
       "184        2  0.142481                   ﻿1\n",
       "184        3  0.100449                   ﻿1\n",
       "184        4  0.112560                   ﻿1\n",
       "184        5  0.094750                   ﻿1\n",
       "184        6  0.079077                   ﻿1\n",
       "184        7  0.094750                   ﻿1\n",
       "184        8  0.084776                   ﻿1\n",
       "184        9  0.097599                   ﻿1\n",
       "184       10  0.066966                   ﻿1\n",
       "\n",
       "[2428 rows x 3 columns], R=30, lambda_step=0.01, plot_opts={'xlab': 'PC1', 'ylab': 'PC2'}, topic_order=[8, 7, 1, 10, 2, 5, 3, 6, 4, 9])"
      ]
     },
     "execution_count": 81,
     "metadata": {},
     "output_type": "execute_result"
    }
   ],
   "source": [
    "pyLDAvis.gensim.prepare(lda, corpus, id2word)"
   ]
  },
  {
   "cell_type": "markdown",
   "metadata": {},
   "source": [
    "## Stretch Goals\n",
    "\n",
    "Complete one of more of these to push your score towards a three: \n",
    "* Incorporate named entity recognition into your analysis\n",
    "* Compare vectorization methods in the classification section\n",
    "* Analyze more (or all) of the yelp dataset - this one is v. hard. \n",
    "* Use a generator object on the reviews file - this would help you with the analyzing the whole dataset.\n",
    "* Incorporate any of the other yelp dataset entities in your analysis (business, users, etc.)"
   ]
  }
 ],
 "metadata": {
  "kernel_info": {
   "name": "u4-s1-nlp"
  },
  "kernelspec": {
   "display_name": "U4-S1-NLP (Python3)",
   "language": "python",
   "name": "u4-s1-nlp"
  },
  "language_info": {
   "codemirror_mode": {
    "name": "ipython",
    "version": 3
   },
   "file_extension": ".py",
   "mimetype": "text/x-python",
   "name": "python",
   "nbconvert_exporter": "python",
   "pygments_lexer": "ipython3",
   "version": "3.7.0"
  },
  "nteract": {
   "version": "0.14.5"
  },
  "toc-autonumbering": false
 },
 "nbformat": 4,
 "nbformat_minor": 2
}
